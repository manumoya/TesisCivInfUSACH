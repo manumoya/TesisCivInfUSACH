{
 "cells": [
  {
   "cell_type": "markdown",
   "metadata": {},
   "source": [
    "# LAB2: Backpropagation\n",
    "\n",
    "## 1. INTRODUCCIÓN\n",
    "Esta entrega contiene la información necesaria para entender y comprender como se abordó el laboratorio 2. El tema principal es desarrollar un Perceptrón Multicapa el cual mediante Backpropagation debe realizar el análisis, esto implementado en un programa en lenguage Python 3. La estructura del trabajo es la siguiente, se inicia con la descripción del problema, posteriormente se aborda el marco teórico para posteriormente pasar a la descripción, análisis y traza de la solución; finalmente cierra con las conclusiones respectivas.\n",
    "\n",
    "\n",
    "## 2. DESCRIPCIÓN DEL PROBLEMA\n",
    "Como indica el enunciado dado, el objetivo es:\n",
    "\n",
    "1. Marco teórico de la red Multilayer perceptron.\n",
    "2. Marco teórico de las funciones de transferencia a usar.\n",
    "3. Implementar 2 funciones de transferencia no lineal y 1 lineal (activation functions).\n",
    "4. Implementar red Multilayer perceptron de 1 sola capa oculta, de forma genéica para las diferentes funciones de activación.\n",
    "5. Probar la red neuronal con las compuertas lógicas AND, OR y XOR para tamaño de entrada 2 y 4.\n",
    "6. Mostrar resultado gráico de error para las diferentes compuertas lógicas (iteraciones vs error).\n",
    "7. Anáisis de los resultados obtenidos y comparar con los resultados de perceptrón simple.\n",
    "8. Descripción del dataset escogido (wine o breast cancer) de biblioteca sklearn.\n",
    "9. Lectura del dataset escogido.\n",
    "10. Normalización y preprocesamiento de los datos\n",
    "11. Dividir el dataset en 70% train y 30% test.\n",
    "12. Crear diferentes modelos para clasificar usando diferentes configuraciones de cantidad de neuronas en la capa oculta, funciones de activación y cantidad de iteraciones en el entrenamiento.\n",
    "13. Marco teóico de mérica usada para seleccionar el mejor modelo (Accuracy, curva ROC, entre otras).\n",
    "14. Presentación gráica de número de iteraciones vs error en el conjunto de train en el mejor modelo.\n",
    "15. Matriz de confusión del mejor modelo.\n",
    "16. Anáisis de los resultados obtenidos.\n",
    "17. Conclusiones.\n",
    "\n",
    "\n",
    "## 3. MARCO TEÓRICO\n",
    "### A. Perceptrón multiple\n",
    "Un Perceptrón es una red neuronal artificial, la cual es multicapa. Su configuración basica posee:\n",
    "- Capa de entrada\n",
    "- Capa oculta\n",
    "- Capa de salida\n",
    "- Función de activación \n",
    "\n",
    "Su forma de operar es mediante el mecanismo de propagración y retropropagaciòn\n",
    "- Propagación: El objetivo es a partir de las entradas calcular el valor de la capa de salida (O) y el error (e) \n",
    "- Retropropagación: Con los valores de la propogación se calculan los gradientes, los deltas relacionados al error de la propagación. De esta forma obteniendo los nuevos pesos, con lo anterior ejecutar un nuevo ciclo de evaluación. La evaluación se relizará hasta que el error evaluado esté bajo los rangos tolerados.\n",
    "\n",
    "### A. Función de activación\n",
    "Las redes neuronales artificiales, estàn basadas en las nueronas biologicas, donde esats neuronas no son simple propagadoras de impulso, sino, estas deciden si se activan o no y cuando se activan envian la información por su axion a otra neurona. En el caso de una red neuronal artificial la función de activación es la salida a la neurona de la siguiente capa. La principal caracteristica es que esta función de activación debe ser derivable para conservar la suavidad general del sistema y porque el algoritmo de entrenamiento Backpropagation la necesita para calcular o aproximar derivadas de cada neurona, como funciones individuales. Las funciones de activación mas usadas están las líneales, sigmoidales y tangenciales. Las cuales se usarán en este laboratorio\n",
    "\n",
    "## 4. DESCRIPCIÓN DE LA SOLUCIÓN\n",
    "\n",
    "### A. Idea principal\n",
    "La idea principal para el funcionamiento del perceptrón:\n",
    "* Crear programa de backpropagation (principal)\n",
    "* Crear función para mostrar resultados\n",
    "* Crear función para visualizar errores\n",
    "* Lectura dataset Cencer Mamario y preparación de datos para entrenar  evaluar modelo\n",
    "* Implementar métricas\n",
    " \n",
    "### B. Consideraciones\n",
    "\n",
    "- Las entradas deben ser de la forma x0, x1,..., xN. Donde siempre xN=1.\n",
    "- Si considera el siguiente flag para ejecutar con la funcion de activación correspondiente:\n",
    "    - tipo_activ==\"SIGMOID\": Capa oculta y salida con función sigmoidal\n",
    "    - tipo_activ==\"LINEAL\": Capa oculta y salida con función lineal\n",
    "    - tipo_activ==\"TANG\": Capa oculta y salida con función tangencial\n",
    "    - tipo_activ==\"SIG-LIN\": Capa oculta función sigmoidal, salida función lineal\n"
   ]
  },
  {
   "cell_type": "markdown",
   "metadata": {},
   "source": [
    "## 5. SOLUCIÓN\n",
    "### Principal"
   ]
  },
  {
   "cell_type": "code",
   "execution_count": 8,
   "metadata": {},
   "outputs": [],
   "source": [
    "import numpy as np"
   ]
  },
  {
   "cell_type": "code",
   "execution_count": 9,
   "metadata": {},
   "outputs": [],
   "source": [
    "# sigmoidal \n",
    "def sigmoid_activation(x):\n",
    "    return 1.0/(1 + np.exp(-x))\n",
    "\n",
    "# sigmoidal derivada\n",
    "def sigmoid_activation_der(x):\n",
    "    return np.exp(-x)/((1+np.exp(-x))**2)\n",
    "\n",
    "# lineal \n",
    "def lineal_activation(x):\n",
    "    return x\n",
    "\n",
    "# lineal derivada\n",
    "def lineal_activation_der(x):\n",
    "    return 1\n",
    "\n",
    "def tanh_activation(x):\n",
    "    return np.tanh(x)\n",
    "\n",
    "def tanh_activation_der(x):\n",
    "    return 1.0 - (np.tanh(x))**2"
   ]
  },
  {
   "cell_type": "code",
   "execution_count": 10,
   "metadata": {},
   "outputs": [],
   "source": [
    "np.random.seed(123456)\n",
    "bias = 1\n",
    "tasa_de_aprendizaje = 0.3\n",
    "\n",
    "# FeedFoward : Propagacion hacia adelante\n",
    "def prediccion(x, w1, w2, tipo_activ):\n",
    "    if (tipo_activ ==\"SIGMOID\"):\n",
    "        c1 = sigmoid_activation(x.dot(w1) + bias)\n",
    "        return sigmoid_activation(c1.dot(w2) + bias)\n",
    "        #return lineal_activation(c1.dot(w2) + bias)\n",
    "    elif (tipo_activ ==\"LINEAL\"):\n",
    "        c1 = lineal_activation(x.dot(w1) + bias)\n",
    "        return lineal_activation(c1.dot(w2) + bias)\n",
    "    elif (tipo_activ ==\"TANG\"):\n",
    "        c1 = tanh_activation(x.dot(w1) + bias)\n",
    "        return tanh_activation(c1.dot(w2) + bias)\n",
    "        #return sigmoid_activation(c1.dot(w2) + bias)\n",
    "    elif (tipo_activ ==\"SIG-LIN\"):\n",
    "        c1 = sigmoid_activation(x.dot(w1) + bias)\n",
    "        return lineal_activation(c1.dot(w2) + bias)\n",
    "        \n",
    "def entrenamiento(entradas, salidas, neuronas, iteraciones, tipo_activ):\n",
    "    \n",
    "    w1 = np.random.rand(entradas.shape[1], neuronas)\n",
    "    w2 = np.random.rand(neuronas,salidas.shape[1])\n",
    "    \n",
    "    #print(\"w1: \", w1)\n",
    "    #print(\"w2: \", w2)\n",
    "    \n",
    "    errores = []\n",
    "    for iteracion in range(iteraciones):\n",
    "        \n",
    "        for entrada, salida in zip(entradas, salidas):\n",
    "            \n",
    "            \n",
    "            #documentacion red neuronal\n",
    "            #https://www.youtube.com/watch?v=262XJe2I2D0&t=40s\n",
    "            \n",
    "            #forward\n",
    "            l0 = entrada\n",
    "            if (tipo_activ==\"SIGMOID\"):\n",
    "                l1 = sigmoid_activation(np.dot(l0, w1) + bias)\n",
    "                #l2 = lineal_activation(np.dot(l1, w2) + bias)\n",
    "                l2 = sigmoid_activation(np.dot(l1, w2) + bias)\n",
    "            elif (tipo_activ==\"LINEAL\"):\n",
    "                l1 = lineal_activation(np.dot(l0, w1) + bias)\n",
    "                l2 = lineal_activation(np.dot(l1, w2) + bias)\n",
    "            elif (tipo_activ==\"TANG\"):\n",
    "                l1 = tanh_activation(np.dot(l0, w1) + bias)\n",
    "                l2 = tanh_activation(np.dot(l1, w2) + bias)    \n",
    "            elif (tipo_activ==\"SIG-LIN\"):\n",
    "                l1 = sigmoid_activation(np.dot(l0, w1) + bias)\n",
    "                l2 = lineal_activation(np.dot(l1, w2) + bias)\n",
    "                \n",
    "            #backpropagation\n",
    "            #l2_error = -2*(l2-salida)\n",
    "            l2_error = salida - l2\n",
    "            #print (\"l2_error: \", l2_error, \" iteracion:\", iteracion)\n",
    "            \n",
    "            \n",
    "            #calcular deltas\n",
    "            if (tipo_activ==\"SIGMOID\"):\n",
    "                #l2_delta = np.multiply(l2_error,lineal_activation_der(l2.A1))\n",
    "                l2_delta = np.multiply(l2_error,sigmoid_activation_der(l2.A1))\n",
    "            elif(tipo_activ==\"LINEAL\"):\n",
    "                l2_delta = np.multiply(l2_error,lineal_activation_der(l2.A1))\n",
    "            elif(tipo_activ==\"TANG\"):\n",
    "                l2_delta = np.multiply(l2_error,tanh_activation_der(l2.A1))\n",
    "            if (tipo_activ==\"SIG-LIN\"):\n",
    "                l2_delta = np.multiply(l2_error,lineal_activation_der(l2.A1))\n",
    "                \n",
    "            l1_error = np.dot(l2_delta, w2.T)\n",
    "            \n",
    "            if (tipo_activ==\"SIGMOID\"):\n",
    "                l1_delta = np.multiply(l1_error,sigmoid_activation_der(l1.A1))\n",
    "            elif(tipo_activ==\"LINEAL\"):\n",
    "                l1_delta = np.multiply(l1_error,lineal_activation_der(l1.A1))\n",
    "            elif(tipo_activ==\"TANG\"):\n",
    "                l1_delta = np.multiply(l1_error,tanh_activation_der(l1.A1))\n",
    "            if (tipo_activ==\"SIG-LIN\"):\n",
    "                l1_delta = np.multiply(l1_error,sigmoid_activation_der(l1.A1))\n",
    "                \n",
    "            #actualizar pesos\n",
    "            w2 = w2 + tasa_de_aprendizaje*np.dot(l1.T, l2_delta)\n",
    "            w1 = w1 + tasa_de_aprendizaje*np.dot(l0.T, l1_delta)\n",
    "            \n",
    "        #Probando - calculando error\n",
    "        error = np.square(np.subtract(prediccion(entradas, w1, w2, tipo_activ), salidas)).mean(axis=0).A1\n",
    "        #errores.append(np.square(np.subtract(prediccion(entradas, w1, w2), salidas)).mean(axis=0).A1)\n",
    "        errores.append(error)\n",
    "        \n",
    "        #print (\"error: \", error)\n",
    "        \n",
    "        if(error[0] < 0.01):\n",
    "            print(\"Entrenamiento finalizado en iteración: \", iteracion )\n",
    "            break\n",
    "\n",
    "    return w1, w2, errores"
   ]
  },
  {
   "cell_type": "markdown",
   "metadata": {},
   "source": [
    "### Función muestra tabla de resultados"
   ]
  },
  {
   "cell_type": "code",
   "execution_count": 11,
   "metadata": {},
   "outputs": [],
   "source": [
    "# Funcion para mostrar tablas de resultados\n",
    "def predecirFinal(titulo, entradas, salidas, w1, w2, tipo_activ):\n",
    "    print(\"\\nPrediciendo compuerta \"+titulo)\n",
    "    print(\"\\nEntrada\\t\\tSalida\\t\\tSalida Esperada\")\n",
    "    print(\"-\"*50)\n",
    "    for entrada, salida in zip(entradas, salidas):\n",
    "        try:\n",
    "            print(\"{} \\t\\t  {}\\t\\t\\t{}\".format(entrada.A1, int(np.rint(prediccion(entrada, w1, w2, tipo_activ))), salida.A1 ))\n",
    "        except:\n",
    "            print(\"\\tImposible converger a solucion\")"
   ]
  },
  {
   "cell_type": "markdown",
   "metadata": {},
   "source": [
    "### Función grafico PLOT de errores"
   ]
  },
  {
   "cell_type": "code",
   "execution_count": 20,
   "metadata": {},
   "outputs": [],
   "source": [
    "import matplotlib.pyplot as plt\n",
    "def print_error(error):\n",
    "    plt.title(\"Error WF1\")\n",
    "    plt.xlabel(\"Iteraciones\") \n",
    "    plt.ylabel(\"Error\")\n",
    "    plt.plot(np.arange(len(error)), np.asarray(error))\n",
    "\n",
    "    plt.show()"
   ]
  },
  {
   "cell_type": "markdown",
   "metadata": {},
   "source": [
    "## 6. EVALUACIÓN "
   ]
  },
  {
   "cell_type": "code",
   "execution_count": 21,
   "metadata": {},
   "outputs": [],
   "source": [
    "entradas = np.matrix([ [10,3.23,90.19,2009,7,1,0],\n",
    "[18,3.28,72.75,2009,7,1,0],\n",
    "[21,2.98,97.73,2009,7,1,0],\n",
    "[45,3.96,129.13,2009,7,1,0],\n",
    "[2,3.2,103.36,2009,7,1,12],\n",
    "[6,2.88,90.73,2009,7,1,12],\n",
    "[9,1.67,114.58,2009,7,1,12],\n",
    "[20,1.02,159.1,2009,7,1,12],\n",
    "[26,1.19,211.12,2009,7,1,12],\n",
    "[1,1.27,147.93,2009,7,2,0],\n",
    "[13,1.51,191.55,2009,7,2,0],\n",
    "[32,3.33,108.24,2009,7,2,0],\n",
    "[34,4.3,105.46,2009,7,2,0],\n",
    "[37,5.42,111.06,2009,7,2,0],\n",
    "[1,2.22,169.75,2009,7,2,12],\n",
    "[4,2.57,157.24,2009,7,2,12],\n",
    "[10,3.85,134.69,2009,7,2,12],\n",
    "[20,3.69,99.91,2009,7,2,12],\n",
    "[34,6.94,114.17,2009,7,2,12],\n",
    "[35,6.52,116.35,2009,7,2,12],\n",
    "[34,3.8,125.17,2009,7,3,0],\n",
    "[44,6.55,136.99,2009,7,3,0],\n",
    "[1,4.74,128.18,2009,7,3,12],\n",
    "[29,6.37,128.83,2009,7,3,12],\n",
    "[44,3.6,95.72,2009,7,3,12],\n",
    "[17,6.34,134.02,2009,7,4,0],\n",
    "[20,6.87,130.4,2009,7,4,0],\n",
    "[31,3.39,69.89,2009,7,4,0],\n",
    "[36,4.18,107.07,2009,7,4,0],\n",
    "[37,4.45,114.81,2009,7,4,0],\n",
    "[43,6.01,129.85,2009,7,4,0],\n",
    "[45,5.39,127.81,2009,7,4,0],\n",
    "[10,5.1,124.22,2009,7,4,12],\n",
    "[16,3.62,104.51,2009,7,4,12],\n",
    "[19,3.62,96.38,2009,7,4,12],\n",
    "[24,3.29,73.44,2009,7,4,12],\n",
    "[30,3.85,97.96,2009,7,4,12],\n",
    "[46,2.12,50.42,2009,7,4,12],\n",
    "[47,1.25,70.03,2009,7,4,12],\n",
    "[17,3.82,118.78,2009,7,5,0],\n",
    "[20,4.53,110.89,2009,7,5,0],\n",
    "[23,3.31,106.88,2009,7,5,0],\n",
    "[26,2.79,96.81,2009,7,5,0],\n",
    "[39,3.4,117.41,2009,7,5,0],\n",
    "[45,6.58,118.95,2009,7,5,0],\n",
    "[5,4.09,109.68,2009,7,5,12],\n",
    "[16,3,108.47,2009,7,5,12],\n",
    "[25,2.75,104.88,2009,7,5,12],\n",
    "[47,4.64,102.73,2009,7,5,12],\n",
    "[5,2.77,134.25,2009,7,6,0]])\n",
    "\n",
    "salidas = np.matrix([[0.025,0.005,0,0.08,0.02,0.005,0.01,0,0,0,\n",
    " 0,0.055,0.04,0.13,0,0,0.03,0.055,0.476,0.476,\n",
    " 0.135,0.226,0.12,0.266,0.206,0.266,0.226,0.281,0.165,0.025,\n",
    " 0.02,0.07,0.135,0.221,0.281,0.165,0.03,0.04,0.04,0.035,\n",
    " 0.045,0.065,0.035,0.055,0.075,0.14,0.115,0.125,0.231,0.06]]).T\n"
   ]
  },
  {
   "cell_type": "markdown",
   "metadata": {},
   "source": [
    "### Entrenamiento y resultado"
   ]
  },
  {
   "cell_type": "code",
   "execution_count": 23,
   "metadata": {
    "scrolled": true
   },
   "outputs": [
    {
     "ename": "KeyboardInterrupt",
     "evalue": "",
     "output_type": "error",
     "traceback": [
      "\u001b[0;31m---------------------------------------------------------------------------\u001b[0m",
      "\u001b[0;31mKeyboardInterrupt\u001b[0m                         Traceback (most recent call last)",
      "\u001b[0;32m<ipython-input-23-0119cf79a05a>\u001b[0m in \u001b[0;36m<module>\u001b[0;34m\u001b[0m\n\u001b[1;32m      1\u001b[0m \u001b[0;31m# Entrenando AND Tamaño 4\u001b[0m\u001b[0;34m\u001b[0m\u001b[0;34m\u001b[0m\u001b[0;34m\u001b[0m\u001b[0m\n\u001b[0;32m----> 2\u001b[0;31m \u001b[0mw1\u001b[0m\u001b[0;34m,\u001b[0m \u001b[0mw2\u001b[0m\u001b[0;34m,\u001b[0m \u001b[0merror\u001b[0m \u001b[0;34m=\u001b[0m \u001b[0mentrenamiento\u001b[0m\u001b[0;34m(\u001b[0m\u001b[0mentradas\u001b[0m\u001b[0;34m,\u001b[0m \u001b[0msalidas\u001b[0m\u001b[0;34m,\u001b[0m \u001b[0;36m10\u001b[0m\u001b[0;34m,\u001b[0m \u001b[0;36m10000\u001b[0m\u001b[0;34m,\u001b[0m \u001b[0;34m\"TANG\"\u001b[0m\u001b[0;34m)\u001b[0m\u001b[0;34m\u001b[0m\u001b[0;34m\u001b[0m\u001b[0m\n\u001b[0m\u001b[1;32m      3\u001b[0m \u001b[0mpredecirFinal\u001b[0m\u001b[0;34m(\u001b[0m\u001b[0;34m\"Prediccion \"\u001b[0m\u001b[0;34m,\u001b[0m \u001b[0mentradas\u001b[0m\u001b[0;34m,\u001b[0m \u001b[0msalidas\u001b[0m\u001b[0;34m,\u001b[0m \u001b[0mw1\u001b[0m\u001b[0;34m,\u001b[0m \u001b[0mw2\u001b[0m\u001b[0;34m,\u001b[0m\u001b[0;34m\"TANG\"\u001b[0m\u001b[0;34m)\u001b[0m\u001b[0;34m\u001b[0m\u001b[0;34m\u001b[0m\u001b[0m\n\u001b[1;32m      4\u001b[0m \u001b[0mprint_error\u001b[0m\u001b[0;34m(\u001b[0m\u001b[0merror\u001b[0m\u001b[0;34m)\u001b[0m\u001b[0;34m\u001b[0m\u001b[0;34m\u001b[0m\u001b[0m\n",
      "\u001b[0;32m<ipython-input-10-06e4d549e413>\u001b[0m in \u001b[0;36mentrenamiento\u001b[0;34m(entradas, salidas, neuronas, iteraciones, tipo_activ)\u001b[0m\n\u001b[1;32m     77\u001b[0m                 \u001b[0ml1_delta\u001b[0m \u001b[0;34m=\u001b[0m \u001b[0mnp\u001b[0m\u001b[0;34m.\u001b[0m\u001b[0mmultiply\u001b[0m\u001b[0;34m(\u001b[0m\u001b[0ml1_error\u001b[0m\u001b[0;34m,\u001b[0m\u001b[0mlineal_activation_der\u001b[0m\u001b[0;34m(\u001b[0m\u001b[0ml1\u001b[0m\u001b[0;34m.\u001b[0m\u001b[0mA1\u001b[0m\u001b[0;34m)\u001b[0m\u001b[0;34m)\u001b[0m\u001b[0;34m\u001b[0m\u001b[0;34m\u001b[0m\u001b[0m\n\u001b[1;32m     78\u001b[0m             \u001b[0;32melif\u001b[0m\u001b[0;34m(\u001b[0m\u001b[0mtipo_activ\u001b[0m\u001b[0;34m==\u001b[0m\u001b[0;34m\"TANG\"\u001b[0m\u001b[0;34m)\u001b[0m\u001b[0;34m:\u001b[0m\u001b[0;34m\u001b[0m\u001b[0;34m\u001b[0m\u001b[0m\n\u001b[0;32m---> 79\u001b[0;31m                 \u001b[0ml1_delta\u001b[0m \u001b[0;34m=\u001b[0m \u001b[0mnp\u001b[0m\u001b[0;34m.\u001b[0m\u001b[0mmultiply\u001b[0m\u001b[0;34m(\u001b[0m\u001b[0ml1_error\u001b[0m\u001b[0;34m,\u001b[0m\u001b[0mtanh_activation_der\u001b[0m\u001b[0;34m(\u001b[0m\u001b[0ml1\u001b[0m\u001b[0;34m.\u001b[0m\u001b[0mA1\u001b[0m\u001b[0;34m)\u001b[0m\u001b[0;34m)\u001b[0m\u001b[0;34m\u001b[0m\u001b[0;34m\u001b[0m\u001b[0m\n\u001b[0m\u001b[1;32m     80\u001b[0m             \u001b[0;32mif\u001b[0m \u001b[0;34m(\u001b[0m\u001b[0mtipo_activ\u001b[0m\u001b[0;34m==\u001b[0m\u001b[0;34m\"SIG-LIN\"\u001b[0m\u001b[0;34m)\u001b[0m\u001b[0;34m:\u001b[0m\u001b[0;34m\u001b[0m\u001b[0;34m\u001b[0m\u001b[0m\n\u001b[1;32m     81\u001b[0m                 \u001b[0ml1_delta\u001b[0m \u001b[0;34m=\u001b[0m \u001b[0mnp\u001b[0m\u001b[0;34m.\u001b[0m\u001b[0mmultiply\u001b[0m\u001b[0;34m(\u001b[0m\u001b[0ml1_error\u001b[0m\u001b[0;34m,\u001b[0m\u001b[0msigmoid_activation_der\u001b[0m\u001b[0;34m(\u001b[0m\u001b[0ml1\u001b[0m\u001b[0;34m.\u001b[0m\u001b[0mA1\u001b[0m\u001b[0;34m)\u001b[0m\u001b[0;34m)\u001b[0m\u001b[0;34m\u001b[0m\u001b[0;34m\u001b[0m\u001b[0m\n",
      "\u001b[0;32m<ipython-input-9-e62beeabf140>\u001b[0m in \u001b[0;36mtanh_activation_der\u001b[0;34m(x)\u001b[0m\n\u001b[1;32m     19\u001b[0m \u001b[0;34m\u001b[0m\u001b[0m\n\u001b[1;32m     20\u001b[0m \u001b[0;32mdef\u001b[0m \u001b[0mtanh_activation_der\u001b[0m\u001b[0;34m(\u001b[0m\u001b[0mx\u001b[0m\u001b[0;34m)\u001b[0m\u001b[0;34m:\u001b[0m\u001b[0;34m\u001b[0m\u001b[0;34m\u001b[0m\u001b[0m\n\u001b[0;32m---> 21\u001b[0;31m     \u001b[0;32mreturn\u001b[0m \u001b[0;36m1.0\u001b[0m \u001b[0;34m-\u001b[0m \u001b[0;34m(\u001b[0m\u001b[0mnp\u001b[0m\u001b[0;34m.\u001b[0m\u001b[0mtanh\u001b[0m\u001b[0;34m(\u001b[0m\u001b[0mx\u001b[0m\u001b[0;34m)\u001b[0m\u001b[0;34m)\u001b[0m\u001b[0;34m**\u001b[0m\u001b[0;36m2\u001b[0m\u001b[0;34m\u001b[0m\u001b[0;34m\u001b[0m\u001b[0m\n\u001b[0m",
      "\u001b[0;31mKeyboardInterrupt\u001b[0m: "
     ]
    }
   ],
   "source": [
    "# Entrenando AND Tamaño 4\n",
    "w1, w2, error = entrenamiento(entradas, salidas, 10, 500, \"TANG\")\n",
    "predecirFinal(\"Prediccion \", entradas, salidas, w1, w2,\"TANG\")\n",
    "print_error(error)"
   ]
  },
  {
   "cell_type": "markdown",
   "metadata": {},
   "source": [
    "#### OR Tamaño 4"
   ]
  },
  {
   "cell_type": "code",
   "execution_count": 302,
   "metadata": {},
   "outputs": [
    {
     "name": "stdout",
     "output_type": "stream",
     "text": [
      "Entrenamiento finalizado en iteración:  37\n",
      "\n",
      "Prediciendo compuerta OR 4\n",
      "\n",
      "Entrada\t\tSalida\t\tSalida Esperada\n",
      "--------------------------------------------------\n",
      "[0 0 0 0 1] \t\t  0\t\t\t[0]\n",
      "[0 0 0 1 1] \t\t  1\t\t\t[1]\n",
      "[0 0 1 0 1] \t\t  1\t\t\t[1]\n",
      "[0 0 1 1 1] \t\t  1\t\t\t[1]\n",
      "[0 1 0 0 1] \t\t  1\t\t\t[1]\n",
      "[0 1 0 1 1] \t\t  1\t\t\t[1]\n",
      "[0 1 1 0 1] \t\t  1\t\t\t[1]\n",
      "[0 1 1 1 1] \t\t  1\t\t\t[1]\n",
      "[1 0 0 0 1] \t\t  1\t\t\t[1]\n",
      "[1 0 0 1 1] \t\t  1\t\t\t[1]\n",
      "[1 0 1 0 1] \t\t  1\t\t\t[1]\n",
      "[1 0 1 1 1] \t\t  1\t\t\t[1]\n",
      "[1 1 0 0 1] \t\t  1\t\t\t[1]\n",
      "[1 1 0 1 1] \t\t  1\t\t\t[1]\n",
      "[1 1 1 0 1] \t\t  1\t\t\t[1]\n",
      "[1 1 1 1 1] \t\t  1\t\t\t[1]\n"
     ]
    },
    {
     "data": {
      "image/png": "[encoded data removed]",
      "text/plain": [
       "<Figure size 432x288 with 1 Axes>"
      ]
     },
     "metadata": {},
     "output_type": "display_data"
    }
   ],
   "source": [
    "# Entrenando OR Tamaño 4\n",
    "w1_OR4, w2_OR4, error_OR4 = entrenamiento(entradas_tam4, salidasOR4, 10, 50000, \"TANG\")\n",
    "predecirFinal(\"OR 4\", entradas_tam4, salidasOR4, w1_OR4, w2_OR4,\"TANG\")\n",
    "print_error(error_OR4, \"OR 4\")"
   ]
  },
  {
   "cell_type": "markdown",
   "metadata": {},
   "source": [
    "#### XOR Tamaño 4"
   ]
  },
  {
   "cell_type": "code",
   "execution_count": 304,
   "metadata": {},
   "outputs": [
    {
     "name": "stdout",
     "output_type": "stream",
     "text": [
      "\n",
      "Prediciendo compuerta XOR 4\n",
      "\n",
      "Entrada\t\tSalida\t\tSalida Esperada\n",
      "--------------------------------------------------\n",
      "[0 0 0 0 1] \t\t  0\t\t\t[0]\n",
      "[0 0 0 1 1] \t\t  1\t\t\t[1]\n",
      "[0 0 1 0 1] \t\t  1\t\t\t[1]\n",
      "[0 0 1 1 1] \t\t  1\t\t\t[0]\n",
      "[0 1 0 0 1] \t\t  1\t\t\t[1]\n",
      "[0 1 0 1 1] \t\t  1\t\t\t[0]\n",
      "[0 1 1 0 1] \t\t  1\t\t\t[0]\n",
      "[0 1 1 1 1] \t\t  0\t\t\t[1]\n",
      "[1 0 0 0 1] \t\t  1\t\t\t[1]\n",
      "[1 0 0 1 1] \t\t  1\t\t\t[0]\n",
      "[1 0 1 0 1] \t\t  1\t\t\t[0]\n",
      "[1 0 1 1 1] \t\t  0\t\t\t[1]\n",
      "[1 1 0 0 1] \t\t  1\t\t\t[0]\n",
      "[1 1 0 1 1] \t\t  0\t\t\t[1]\n",
      "[1 1 1 0 1] \t\t  0\t\t\t[1]\n",
      "[1 1 1 1 1] \t\t  0\t\t\t[0]\n"
     ]
    },
    {
     "data": {
      "image/png": "[encoded data removed]",
      "text/plain": [
       "<Figure size 432x288 with 1 Axes>"
      ]
     },
     "metadata": {},
     "output_type": "display_data"
    }
   ],
   "source": [
    "# Entrenando XOR Tamaño 4\n",
    "w1_XOR4, w2_XOR4, error_XOR4 = entrenamiento(entradas_tam4, salidasXOR4, 50, 20000, \"SIGMOID\")\n",
    "predecirFinal(\"XOR 4\", entradas_tam4, salidasXOR4, w1_XOR4, w2_XOR4, \"SIGMOID\")\n",
    "print_error(error_XOR4, \"XOR 4\")"
   ]
  },
  {
   "cell_type": "markdown",
   "metadata": {},
   "source": [
    "## 7. EVALUACIÓN DATASET: BREAST CANCER\n",
    "\n",
    "    Este dataset es de diagnostico de cancer mamario del estado de Wisconsi (EEUU), que contiene los siguientes atribitos:\n",
    "\n",
    "    - radius (mean of distances from center to points on the perimeter)\n",
    "    - texture (standard deviation of gray-scale values)\n",
    "    - perimeter\n",
    "    - area\n",
    "    - smoothness (local variation in radius lengths)\n",
    "    - compactness (perimeter^2 / area - 1.0)\n",
    "    - concavity (severity of concave portions of the contour)\n",
    "    - concave points (number of concave portions of the contour)\n",
    "    - symmetry\n",
    "    - fractal dimension (“coastline approximation” - 1)\n",
    "\n",
    "    La media, el error estándar y el \"peor\" o el más grande (la media de los tres valores más grandes) de estas características se calcularon para cada imagen, lo que dio como resultado 30 características. Por ejemplo, el campo 3 es el radio medio, el campo 13 es el radio (error estandar), el campo 23 es el peor radio.\n",
    "    Lo anterior se calculó a partir de una imagen digitalizada de un aspirado con aguja fina (FNA) de una masa mamaria. Describen las características de los núcleos celulares presentes en la imagen.\n",
    "    En cuanto a las clases, estas son dos:\n",
    "\n",
    "    - WDBC-Malignant\n",
    "    - WDBC-Benign\n",
    "\n",
    "\n",
    "### 1. Lectura Dataset "
   ]
  },
  {
   "cell_type": "code",
   "execution_count": 305,
   "metadata": {},
   "outputs": [
    {
     "data": {
      "text/plain": [
       "matrix([[1.799e+01, 1.038e+01, 1.228e+02, ..., 2.654e-01, 4.601e-01,\n",
       "         1.189e-01],\n",
       "        [2.057e+01, 1.777e+01, 1.329e+02, ..., 1.860e-01, 2.750e-01,\n",
       "         8.902e-02],\n",
       "        [1.969e+01, 2.125e+01, 1.300e+02, ..., 2.430e-01, 3.613e-01,\n",
       "         8.758e-02],\n",
       "        ...,\n",
       "        [1.660e+01, 2.808e+01, 1.083e+02, ..., 1.418e-01, 2.218e-01,\n",
       "         7.820e-02],\n",
       "        [2.060e+01, 2.933e+01, 1.401e+02, ..., 2.650e-01, 4.087e-01,\n",
       "         1.240e-01],\n",
       "        [7.760e+00, 2.454e+01, 4.792e+01, ..., 0.000e+00, 2.871e-01,\n",
       "         7.039e-02]])"
      ]
     },
     "execution_count": 305,
     "metadata": {},
     "output_type": "execute_result"
    }
   ],
   "source": [
    "#from sklearn.datasets import load_iris\n",
    "#from sklearn import preprocessing\n",
    "#from sklearn.model_selection import train_test_split\n",
    "\n",
    "#iris = load_iris()\n",
    "#entradas_iris, salidas_iris = np.asmatrix(iris.data), np.asmatrix(iris.target)\n",
    "#entradas_iris\n",
    "import pandas as pd\n",
    "from sklearn.datasets import load_breast_cancer\n",
    "from sklearn import preprocessing\n",
    "from sklearn.model_selection import train_test_split\n",
    "\n",
    "cancer = load_breast_cancer()\n",
    "entradas_cancer, salidas_cancer = np.asmatrix(cancer.data), np.asmatrix(cancer.target)\n",
    "entradas_cancer\n",
    "\n",
    "\n",
    "#df = pd.DataFrame(cancer.data, columns=cancer.feature_names)\n",
    "#df.head()"
   ]
  },
  {
   "cell_type": "code",
   "execution_count": 306,
   "metadata": {},
   "outputs": [
    {
     "data": {
      "text/plain": [
       "matrix([[0, 0, 0, 0, 0, 0, 0, 0, 0, 0, 0, 0, 0, 0, 0, 0, 0, 0, 0, 1, 1,\n",
       "         1, 0, 0, 0, 0, 0, 0, 0, 0, 0, 0, 0, 0, 0, 0, 0, 1, 0, 0, 0, 0,\n",
       "         0, 0, 0, 0, 1, 0, 1, 1, 1, 1, 1, 0, 0, 1, 0, 0, 1, 1, 1, 1, 0,\n",
       "         1, 0, 0, 1, 1, 1, 1, 0, 1, 0, 0, 1, 0, 1, 0, 0, 1, 1, 1, 0, 0,\n",
       "         1, 0, 0, 0, 1, 1, 1, 0, 1, 1, 0, 0, 1, 1, 1, 0, 0, 1, 1, 1, 1,\n",
       "         0, 1, 1, 0, 1, 1, 1, 1, 1, 1, 1, 1, 0, 0, 0, 1, 0, 0, 1, 1, 1,\n",
       "         0, 0, 1, 0, 1, 0, 0, 1, 0, 0, 1, 1, 0, 1, 1, 0, 1, 1, 1, 1, 0,\n",
       "         1, 1, 1, 1, 1, 1, 1, 1, 1, 0, 1, 1, 1, 1, 0, 0, 1, 0, 1, 1, 0,\n",
       "         0, 1, 1, 0, 0, 1, 1, 1, 1, 0, 1, 1, 0, 0, 0, 1, 0, 1, 0, 1, 1,\n",
       "         1, 0, 1, 1, 0, 0, 1, 0, 0, 0, 0, 1, 0, 0, 0, 1, 0, 1, 0, 1, 1,\n",
       "         0, 1, 0, 0, 0, 0, 1, 1, 0, 0, 1, 1, 1, 0, 1, 1, 1, 1, 1, 0, 0,\n",
       "         1, 1, 0, 1, 1, 0, 0, 1, 0, 1, 1, 1, 1, 0, 1, 1, 1, 1, 1, 0, 1,\n",
       "         0, 0, 0, 0, 0, 0, 0, 0, 0, 0, 0, 0, 0, 0, 1, 1, 1, 1, 1, 1, 0,\n",
       "         1, 0, 1, 1, 0, 1, 1, 0, 1, 0, 0, 1, 1, 1, 1, 1, 1, 1, 1, 1, 1,\n",
       "         1, 1, 1, 0, 1, 1, 0, 1, 0, 1, 1, 1, 1, 1, 1, 1, 1, 1, 1, 1, 1,\n",
       "         1, 1, 0, 1, 1, 1, 0, 1, 0, 1, 1, 1, 1, 0, 0, 0, 1, 1, 1, 1, 0,\n",
       "         1, 0, 1, 0, 1, 1, 1, 0, 1, 1, 1, 1, 1, 1, 1, 0, 0, 0, 1, 1, 1,\n",
       "         1, 1, 1, 1, 1, 1, 1, 1, 0, 0, 1, 0, 0, 0, 1, 0, 0, 1, 1, 1, 1,\n",
       "         1, 0, 1, 1, 1, 1, 1, 0, 1, 1, 1, 0, 1, 1, 0, 0, 1, 1, 1, 1, 1,\n",
       "         1, 0, 1, 1, 1, 1, 1, 1, 1, 0, 1, 1, 1, 1, 1, 0, 1, 1, 0, 1, 1,\n",
       "         1, 1, 1, 1, 1, 1, 1, 1, 1, 1, 0, 1, 0, 0, 1, 0, 1, 1, 1, 1, 1,\n",
       "         0, 1, 1, 0, 1, 0, 1, 1, 0, 1, 0, 1, 1, 1, 1, 1, 1, 1, 1, 0, 0,\n",
       "         1, 1, 1, 1, 1, 1, 0, 1, 1, 1, 1, 1, 1, 1, 1, 1, 1, 0, 1, 1, 1,\n",
       "         1, 1, 1, 1, 0, 1, 0, 1, 1, 0, 1, 1, 1, 1, 1, 0, 0, 1, 0, 1, 0,\n",
       "         1, 1, 1, 1, 1, 0, 1, 1, 0, 1, 0, 1, 0, 0, 1, 1, 1, 0, 1, 1, 1,\n",
       "         1, 1, 1, 1, 1, 1, 1, 1, 0, 1, 0, 0, 1, 1, 1, 1, 1, 1, 1, 1, 1,\n",
       "         1, 1, 1, 1, 1, 1, 1, 1, 1, 1, 1, 1, 1, 1, 1, 1, 0, 0, 0, 0, 0,\n",
       "         0, 1]])"
      ]
     },
     "execution_count": 306,
     "metadata": {},
     "output_type": "execute_result"
    }
   ],
   "source": [
    "salidas_cancer"
   ]
  },
  {
   "cell_type": "markdown",
   "metadata": {},
   "source": [
    "### 2. Normalización Dataset "
   ]
  },
  {
   "cell_type": "code",
   "execution_count": 307,
   "metadata": {},
   "outputs": [],
   "source": [
    "entradas_cancer = preprocessing.normalize(entradas_cancer)"
   ]
  },
  {
   "cell_type": "code",
   "execution_count": 308,
   "metadata": {},
   "outputs": [
    {
     "data": {
      "text/plain": [
       "array([[7.92541486e-03, 4.57286305e-03, 5.40989964e-02, ...,\n",
       "        1.16920795e-04, 2.02695018e-04, 5.23808686e-05],\n",
       "       [8.66575595e-03, 7.48616836e-03, 5.59882822e-02, ...,\n",
       "        7.83583182e-05, 1.15852352e-04, 3.75024596e-05],\n",
       "       [9.36668268e-03, 1.01087865e-02, 6.18419883e-02, ...,\n",
       "        1.15596947e-04, 1.71873157e-04, 4.16624718e-05],\n",
       "       ...,\n",
       "       [1.16438847e-02, 1.96964025e-02, 7.59658259e-02, ...,\n",
       "        9.94640269e-05, 1.55579134e-04, 5.48525170e-05],\n",
       "       [9.23020523e-03, 1.31418408e-02, 6.27743569e-02, ...,\n",
       "        1.18738077e-04, 1.83125480e-04, 5.55604587e-05],\n",
       "       [2.31098880e-02, 7.30820427e-02, 1.42709515e-01, ...,\n",
       "        0.00000000e+00, 8.55006294e-04, 2.09626935e-04]])"
      ]
     },
     "execution_count": 308,
     "metadata": {},
     "output_type": "execute_result"
    }
   ],
   "source": [
    "entradas_cancer"
   ]
  },
  {
   "cell_type": "code",
   "execution_count": 309,
   "metadata": {
    "scrolled": true
   },
   "outputs": [],
   "source": [
    "# Convirtiendo salidas una matriz\n",
    "salidas_cancer = np.asmatrix(salidas_cancer).T\n",
    "#salidas_cancer_metricas = salidas_cancer\n",
    "#salidas_cancer"
   ]
  },
  {
   "cell_type": "code",
   "execution_count": 310,
   "metadata": {},
   "outputs": [
    {
     "data": {
      "text/plain": [
       "matrix([[1., 0.],\n",
       "        [1., 0.],\n",
       "        [1., 0.],\n",
       "        ...,\n",
       "        [1., 0.],\n",
       "        [1., 0.],\n",
       "        [0., 1.]])"
      ]
     },
     "execution_count": 310,
     "metadata": {},
     "output_type": "execute_result"
    }
   ],
   "source": [
    "# Convirtiendo en 2 clases: WDBC-Malignant & WDBC-Benign\n",
    "enc = preprocessing.OneHotEncoder(n_values=2)\n",
    "enc.fit(salidas_cancer)\n",
    "salidas_cancer = np.asmatrix(enc.transform(salidas_cancer).toarray().reshape(-1, 2))\n",
    "salidas_cancer"
   ]
  },
  {
   "cell_type": "markdown",
   "metadata": {},
   "source": [
    "### 3. Entrenamiento"
   ]
  },
  {
   "cell_type": "code",
   "execution_count": 311,
   "metadata": {},
   "outputs": [],
   "source": [
    "# 70% entrenamiento y 30% pruebas\n",
    "x_train, x_test, y_train, y_test = train_test_split(entradas_cancer, salidas_cancer, test_size=0.3) \n",
    "\n",
    "x_train = np.asmatrix(x_train)\n",
    "x_test = x_test\n",
    "y_train = np.asmatrix(y_train)\n",
    "y_test = y_test"
   ]
  },
  {
   "cell_type": "code",
   "execution_count": 312,
   "metadata": {},
   "outputs": [],
   "source": [
    "w1_cancer, w2_cancer, error_cancer = entrenamiento(x_train, y_train, 30, 2000, \"TANG\")"
   ]
  },
  {
   "cell_type": "code",
   "execution_count": 313,
   "metadata": {
    "scrolled": true
   },
   "outputs": [
    {
     "data": {
      "image/png": "[encoded data removed]",
      "text/plain": [
       "<Figure size 432x288 with 1 Axes>"
      ]
     },
     "metadata": {},
     "output_type": "display_data"
    }
   ],
   "source": [
    "salida = prediccion(x_test, w1_cancer, w2_cancer, \"TANG\")\n",
    "#salida\n",
    "#y_test\n",
    "print_error(error_cancer, \"Error Cancer\")"
   ]
  },
  {
   "cell_type": "markdown",
   "metadata": {},
   "source": [
    "### 4. Preparación salida en 0 y 1 (según clases)"
   ]
  },
  {
   "cell_type": "code",
   "execution_count": 314,
   "metadata": {},
   "outputs": [],
   "source": [
    "#salida\n",
    "#print (\"========================\")\n",
    "c = 0\n",
    "#print (len (salida))\n",
    "while(c < len(salida)):\n",
    "    #print(salida[c, 0], \" - \", salida[c, 1])\n",
    "    maximo  = max(salida[c, 0], salida[c, 1])\n",
    "    if(salida[c, 0] == maximo):\n",
    "        salida[c, 0] = 1\n",
    "        salida[c, 1] = 0\n",
    "    elif(salida[c, 1] == maximo):\n",
    "        salida[c, 0] = 0\n",
    "        salida[c, 1] = 1\n",
    "    c+=1"
   ]
  },
  {
   "cell_type": "markdown",
   "metadata": {},
   "source": [
    "### 5. Metricas"
   ]
  },
  {
   "cell_type": "code",
   "execution_count": 315,
   "metadata": {},
   "outputs": [],
   "source": [
    "def nroAciertos(salida, salida_test):\n",
    "    # y_test = salida_test\n",
    "    c = 0\n",
    "    aciertos = 0\n",
    "    while(c < len(salida)):\n",
    "        if( salida[c, 0] == salida_test[c, 0] ) :\n",
    "            aciertos+=1\n",
    "        c+=1\n",
    "\n",
    "    return (float(aciertos)/len(salida))"
   ]
  },
  {
   "cell_type": "markdown",
   "metadata": {},
   "source": [
    "#### a. Precisión (o aciertos), Exactitud y Hamming loss"
   ]
  },
  {
   "cell_type": "code",
   "execution_count": 316,
   "metadata": {},
   "outputs": [
    {
     "name": "stdout",
     "output_type": "stream",
     "text": [
      "Precision score: [0.8358209  0.97115385]\n",
      "SGD Classifier Accuracy: 91.81%\n",
      "Hamming loss: 0.08187134502923976\n",
      "número de aciertos: 0.9181286549707602\n"
     ]
    }
   ],
   "source": [
    "from sklearn.metrics import accuracy_score\n",
    "from sklearn.metrics import precision_score\n",
    "from sklearn.metrics import hamming_loss\n",
    "#accuracy_all =[]\n",
    "#accuracy_all.append(accuracy_score(salida, y_test))\n",
    "print('Precision score: {0}'.format(precision_score(salida, y_test, average=None)))\n",
    "print(\"SGD Classifier Accuracy: {0:.2%}\".format( accuracy_score(salida, y_test)))\n",
    "print('Hamming loss: {0}'.format(hamming_loss(salida, y_test))) \n",
    "print(\"número de aciertos:\", nroAciertos (salida, y_test)) "
   ]
  },
  {
   "cell_type": "markdown",
   "metadata": {},
   "source": [
    "#### c. Reporte de Clasificación y Matriz de Confusión"
   ]
  },
  {
   "cell_type": "code",
   "execution_count": 317,
   "metadata": {},
   "outputs": [
    {
     "name": "stdout",
     "output_type": "stream",
     "text": [
      "             precision    recall  f1-score   support\n",
      "\n",
      "  malignant       0.95      0.84      0.89        67\n",
      "     benign       0.90      0.97      0.94       104\n",
      "\n",
      "avg / total       0.92      0.92      0.92       171\n",
      "\n",
      "[[ 56  11]\n",
      " [  3 101]]\n"
     ]
    }
   ],
   "source": [
    "from sklearn.metrics import classification_report, confusion_matrix\n",
    "\n",
    "target_names = cancer.target_names\n",
    "n_classes = target_names.shape[0]\n",
    "\n",
    "print(classification_report(y_test, salida, target_names=target_names))\n",
    "print(confusion_matrix(y_test.argmax(axis=1), salida.argmax(axis=1), labels=range(n_classes)))"
   ]
  },
  {
   "cell_type": "markdown",
   "metadata": {},
   "source": [
    "#### c. Curva ROC \n",
    "Esta metrica es basada en matriz de confusión con falsos negativos y falsos positivos"
   ]
  },
  {
   "cell_type": "code",
   "execution_count": 318,
   "metadata": {
    "scrolled": true
   },
   "outputs": [
    {
     "data": {
      "image/png": "[encoded data removed]",
      "text/plain": [
       "<Figure size 432x288 with 1 Axes>"
      ]
     },
     "metadata": {},
     "output_type": "display_data"
    }
   ],
   "source": [
    "# Compute ROC curve and ROC area for each class\n",
    "from sklearn.metrics import roc_curve, auc\n",
    "import matplotlib.pyplot as plt\n",
    "fpr = dict()\n",
    "tpr = dict()\n",
    "roc_auc = dict()\n",
    "for i in range(2):\n",
    "    fpr[i], tpr[i], _ = roc_curve(y_test[:, i], salida[:, i])\n",
    "    roc_auc[i] = auc(fpr[i], tpr[i])\n",
    "\n",
    "#print(roc_auc[0])\n",
    "\n",
    "plt.figure()\n",
    "lw = 1\n",
    "plt.plot(fpr[1], tpr[1], color='darkorange',lw=lw, label='ROC curve (area = %0.3f)' % roc_auc[1])\n",
    "plt.plot([0, 1], [0, 1], color='navy', lw=lw, linestyle='--')\n",
    "plt.xlim([0.0, 1.0])\n",
    "plt.ylim([0.0, 1.05])\n",
    "plt.xlabel('False Positive Rate')\n",
    "plt.ylabel('True Positive Rate')\n",
    "plt.title('Receiver operating characteristic example')\n",
    "plt.legend(loc=\"lower right\")\n",
    "plt.show()    "
   ]
  },
  {
   "cell_type": "markdown",
   "metadata": {},
   "source": [
    "\n",
    "## 8. ANÁLISIS DE RESULTADOS\n",
    "\n",
    "### a. ANÁLISIS COMPUERTAS LÓGICAS AND, OR y XOR\n",
    "- Lo primero que se puede analizar es que la pruebas con activación lineal no logró hacer la evaluación requerida. \n",
    "- Las pruebas con activación sigmoidal y tangencial lograron hacer la evaluación, donde la activación tangencial fua la mas eficiente o rápida\n",
    "- En cuanto a XOR se requiere una combinación mayor de neuronas e iteraciones para su evaluación. En el caso\n",
    "- En comparación con el lab anterior, se puede indicar que este método es mucho mas eficiente o rápido que el empleado en el lab anterior\n",
    "\n",
    "### a. ANÁLISIS CANCER MAMARIO\n",
    "\n",
    "- Al igual que el caso de las compuertas lógicas, la activación lineal no puedo evualuar.\n",
    "- Los funciones de activación que pudieron evaluar (sigmoidal y tangencial), tangencial es la más eficiente o rápida.\n",
    "- En combinación con sobre 20 nuronas y 1000 iteraciones se logro un modelo de 90% de Precisión y según indicador ROC del 92%, lo cual se puede clasificar como un buen modelo y se comprueba con el reporte de clsificación\n",
    "\n",
    "##  9. CONCLUSIÓN\n",
    "Como conclusión se puede indicar que se desrrolló el algoritmo de Backpropagation, éste obtiene los datos de entradas, realiza el proceso de entrenamiento y retorna la salida, que en este caso son los pesos entrenados y la grafica de errores. Tambén se pudo analizar y visualizar el comportamiento para las puertas logicas AND, OR y XOR en sus tamaños 2 y 4. Se logró visualizar que la mejor función de activación para este caso fue la tangencial. \n",
    "En cuanto al cancer mamario, con el mismo programa de backpropagation, se entrenó y evaluó, identificando que la función de activación tangencial es la más eficiente o rápida.\n",
    "En ambos casos se comprobó que un combinación número de neurona y número de iteraciones (sin llegar a sobreparametrizar el modelo) lográ un mejor modelo.\n",
    "Por ultimo se prueba con la combinación de función de activación capa oculta (sigmoidal) y capa salida (lineal) vista en clase logrando ver como evalúa el modelo y comprobando que para este caso no es la más eficiente o rápida."
   ]
  }
 ],
 "metadata": {
  "kernelspec": {
   "display_name": "Python 3",
   "language": "python",
   "name": "python3"
  },
  "language_info": {
   "codemirror_mode": {
    "name": "ipython",
    "version": 3
   },
   "file_extension": ".py",
   "mimetype": "text/x-python",
   "name": "python",
   "nbconvert_exporter": "python",
   "pygments_lexer": "ipython3",
   "version": "3.6.8"
  }
 },
 "nbformat": 4,
 "nbformat_minor": 2
}
