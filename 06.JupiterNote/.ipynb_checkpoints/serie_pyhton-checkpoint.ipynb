{
 "cells": [
  {
   "cell_type": "code",
   "execution_count": 4,
   "metadata": {},
   "outputs": [],
   "source": [
    "# Imports necesarios\n",
    "import pandas as pd\n",
    "import numpy as np\n",
    "import matplotlib.pyplot as plt\n",
    "import statsmodels.api as sm\n",
    "\n",
    "#cargamos los datos de entrada\n",
    "df = pd.read_csv(\"/Users/manuelmoya/Documents/USACH/2019-1er/Tesis/1.Desarrollo/05.AnalisisDatos/Datos/wf1_train_serie_fin.csv\",index_col=0,sep=\",\")\n",
    "#veamos cuantas dimensiones y registros contiene\n",
    "\n"
   ]
  },
  {
   "cell_type": "markdown",
   "metadata": {},
   "source": [
    "## Descripción básica del dataset"
   ]
  },
  {
   "cell_type": "code",
   "execution_count": 5,
   "metadata": {},
   "outputs": [
    {
     "data": {
      "text/html": [
       "<div>\n",
       "<style scoped>\n",
       "    .dataframe tbody tr th:only-of-type {\n",
       "        vertical-align: middle;\n",
       "    }\n",
       "\n",
       "    .dataframe tbody tr th {\n",
       "        vertical-align: top;\n",
       "    }\n",
       "\n",
       "    .dataframe thead th {\n",
       "        text-align: right;\n",
       "    }\n",
       "</style>\n",
       "<table border=\"1\" class=\"dataframe\">\n",
       "  <thead>\n",
       "    <tr style=\"text-align: right;\">\n",
       "      <th></th>\n",
       "      <th>date</th>\n",
       "      <th>hors</th>\n",
       "      <th>ws</th>\n",
       "      <th>wd</th>\n",
       "      <th>horsObs</th>\n",
       "      <th>wp1</th>\n",
       "    </tr>\n",
       "  </thead>\n",
       "  <tbody>\n",
       "    <tr>\n",
       "      <th>3753</th>\n",
       "      <td>20090809</td>\n",
       "      <td>10</td>\n",
       "      <td>1.78</td>\n",
       "      <td>30.74</td>\n",
       "      <td>0</td>\n",
       "      <td>0.055</td>\n",
       "    </tr>\n",
       "    <tr>\n",
       "      <th>3754</th>\n",
       "      <td>20090809</td>\n",
       "      <td>11</td>\n",
       "      <td>2.37</td>\n",
       "      <td>34.08</td>\n",
       "      <td>0</td>\n",
       "      <td>0.030</td>\n",
       "    </tr>\n",
       "    <tr>\n",
       "      <th>3755</th>\n",
       "      <td>20090809</td>\n",
       "      <td>12</td>\n",
       "      <td>3.05</td>\n",
       "      <td>40.15</td>\n",
       "      <td>0</td>\n",
       "      <td>0.060</td>\n",
       "    </tr>\n",
       "    <tr>\n",
       "      <th>3756</th>\n",
       "      <td>20090809</td>\n",
       "      <td>13</td>\n",
       "      <td>3.76</td>\n",
       "      <td>50.33</td>\n",
       "      <td>0</td>\n",
       "      <td>0.130</td>\n",
       "    </tr>\n",
       "    <tr>\n",
       "      <th>3757</th>\n",
       "      <td>20090809</td>\n",
       "      <td>14</td>\n",
       "      <td>4.56</td>\n",
       "      <td>59.86</td>\n",
       "      <td>0</td>\n",
       "      <td>0.155</td>\n",
       "    </tr>\n",
       "  </tbody>\n",
       "</table>\n",
       "</div>"
      ],
      "text/plain": [
       "          date  hors    ws     wd  horsObs    wp1\n",
       "3753  20090809    10  1.78  30.74        0  0.055\n",
       "3754  20090809    11  2.37  34.08        0  0.030\n",
       "3755  20090809    12  3.05  40.15        0  0.060\n",
       "3756  20090809    13  3.76  50.33        0  0.130\n",
       "3757  20090809    14  4.56  59.86        0  0.155"
      ]
     },
     "execution_count": 5,
     "metadata": {},
     "output_type": "execute_result"
    }
   ],
   "source": [
    "df.head(5)"
   ]
  },
  {
   "cell_type": "markdown",
   "metadata": {},
   "source": [
    "## Descripción filas y columnas"
   ]
  },
  {
   "cell_type": "code",
   "execution_count": 4,
   "metadata": {},
   "outputs": [
    {
     "name": "stdout",
     "output_type": "stream",
     "text": [
      "Cantidad de Filas y columnas: (104832, 6)\n",
      "Nombre columnas: Index(['date', 'hors', 'u', 'v', 'ws', 'wd'], dtype='object')\n"
     ]
    }
   ],
   "source": [
    "print('Cantidad de Filas y columnas:',df.shape)\n",
    "print('Nombre columnas:',df.columns)"
   ]
  },
  {
   "cell_type": "markdown",
   "metadata": {},
   "source": [
    "## Columnas, tipo de datos y nulos"
   ]
  },
  {
   "cell_type": "code",
   "execution_count": 13,
   "metadata": {},
   "outputs": [
    {
     "name": "stdout",
     "output_type": "stream",
     "text": [
      "<class 'pandas.core.frame.DataFrame'>\n",
      "RangeIndex: 104832 entries, 0 to 104831\n",
      "Data columns (total 6 columns):\n",
      " #   Column  Non-Null Count   Dtype  \n",
      "---  ------  --------------   -----  \n",
      " 0   date    104832 non-null  int64  \n",
      " 1   hors    104832 non-null  int64  \n",
      " 2   u       93672 non-null   float64\n",
      " 3   v       93672 non-null   float64\n",
      " 4   ws      93672 non-null   float64\n",
      " 5   wd      93672 non-null   float64\n",
      "dtypes: float64(4), int64(2)\n",
      "memory usage: 4.8 MB\n"
     ]
    }
   ],
   "source": [
    "df.info()"
   ]
  },
  {
   "cell_type": "markdown",
   "metadata": {},
   "source": [
    "## Descripción estadística de los datos numéricos"
   ]
  },
  {
   "cell_type": "code",
   "execution_count": 14,
   "metadata": {},
   "outputs": [
    {
     "data": {
      "text/html": [
       "<div>\n",
       "<style scoped>\n",
       "    .dataframe tbody tr th:only-of-type {\n",
       "        vertical-align: middle;\n",
       "    }\n",
       "\n",
       "    .dataframe tbody tr th {\n",
       "        vertical-align: top;\n",
       "    }\n",
       "\n",
       "    .dataframe thead th {\n",
       "        text-align: right;\n",
       "    }\n",
       "</style>\n",
       "<table border=\"1\" class=\"dataframe\">\n",
       "  <thead>\n",
       "    <tr style=\"text-align: right;\">\n",
       "      <th></th>\n",
       "      <th>date</th>\n",
       "      <th>hors</th>\n",
       "      <th>u</th>\n",
       "      <th>v</th>\n",
       "      <th>ws</th>\n",
       "      <th>wd</th>\n",
       "    </tr>\n",
       "  </thead>\n",
       "  <tbody>\n",
       "    <tr>\n",
       "      <th>count</th>\n",
       "      <td>1.048320e+05</td>\n",
       "      <td>104832.000000</td>\n",
       "      <td>93672.000000</td>\n",
       "      <td>93672.00000</td>\n",
       "      <td>93672.000000</td>\n",
       "      <td>93672.000000</td>\n",
       "    </tr>\n",
       "    <tr>\n",
       "      <th>mean</th>\n",
       "      <td>2.010559e+09</td>\n",
       "      <td>24.500000</td>\n",
       "      <td>1.598712</td>\n",
       "      <td>-0.09969</td>\n",
       "      <td>4.072487</td>\n",
       "      <td>144.814262</td>\n",
       "    </tr>\n",
       "    <tr>\n",
       "      <th>std</th>\n",
       "      <td>9.402333e+05</td>\n",
       "      <td>13.853465</td>\n",
       "      <td>3.052834</td>\n",
       "      <td>2.87600</td>\n",
       "      <td>1.889861</td>\n",
       "      <td>93.518468</td>\n",
       "    </tr>\n",
       "    <tr>\n",
       "      <th>min</th>\n",
       "      <td>2.009070e+09</td>\n",
       "      <td>1.000000</td>\n",
       "      <td>-9.240000</td>\n",
       "      <td>-10.85000</td>\n",
       "      <td>0.010000</td>\n",
       "      <td>0.020000</td>\n",
       "    </tr>\n",
       "    <tr>\n",
       "      <th>25%</th>\n",
       "      <td>2.010033e+09</td>\n",
       "      <td>12.750000</td>\n",
       "      <td>-0.430000</td>\n",
       "      <td>-2.23000</td>\n",
       "      <td>2.750000</td>\n",
       "      <td>72.920000</td>\n",
       "    </tr>\n",
       "    <tr>\n",
       "      <th>50%</th>\n",
       "      <td>2.010123e+09</td>\n",
       "      <td>24.500000</td>\n",
       "      <td>1.890000</td>\n",
       "      <td>-0.17000</td>\n",
       "      <td>3.680000</td>\n",
       "      <td>122.630000</td>\n",
       "    </tr>\n",
       "    <tr>\n",
       "      <th>75%</th>\n",
       "      <td>2.011093e+09</td>\n",
       "      <td>36.250000</td>\n",
       "      <td>3.530000</td>\n",
       "      <td>2.06000</td>\n",
       "      <td>5.110000</td>\n",
       "      <td>197.180000</td>\n",
       "    </tr>\n",
       "    <tr>\n",
       "      <th>max</th>\n",
       "      <td>2.012063e+09</td>\n",
       "      <td>48.000000</td>\n",
       "      <td>15.250000</td>\n",
       "      <td>10.71000</td>\n",
       "      <td>15.810000</td>\n",
       "      <td>359.990000</td>\n",
       "    </tr>\n",
       "  </tbody>\n",
       "</table>\n",
       "</div>"
      ],
      "text/plain": [
       "               date           hors             u            v            ws  \\\n",
       "count  1.048320e+05  104832.000000  93672.000000  93672.00000  93672.000000   \n",
       "mean   2.010559e+09      24.500000      1.598712     -0.09969      4.072487   \n",
       "std    9.402333e+05      13.853465      3.052834      2.87600      1.889861   \n",
       "min    2.009070e+09       1.000000     -9.240000    -10.85000      0.010000   \n",
       "25%    2.010033e+09      12.750000     -0.430000     -2.23000      2.750000   \n",
       "50%    2.010123e+09      24.500000      1.890000     -0.17000      3.680000   \n",
       "75%    2.011093e+09      36.250000      3.530000      2.06000      5.110000   \n",
       "max    2.012063e+09      48.000000     15.250000     10.71000     15.810000   \n",
       "\n",
       "                 wd  \n",
       "count  93672.000000  \n",
       "mean     144.814262  \n",
       "std       93.518468  \n",
       "min        0.020000  \n",
       "25%       72.920000  \n",
       "50%      122.630000  \n",
       "75%      197.180000  \n",
       "max      359.990000  "
      ]
     },
     "execution_count": 14,
     "metadata": {},
     "output_type": "execute_result"
    }
   ],
   "source": [
    "df.describe()"
   ]
  },
  {
   "cell_type": "markdown",
   "metadata": {},
   "source": [
    "## Correlación entre variables"
   ]
  },
  {
   "cell_type": "code",
   "execution_count": 85,
   "metadata": {},
   "outputs": [
    {
     "data": {
      "text/html": [
       "<div>\n",
       "<style scoped>\n",
       "    .dataframe tbody tr th:only-of-type {\n",
       "        vertical-align: middle;\n",
       "    }\n",
       "\n",
       "    .dataframe tbody tr th {\n",
       "        vertical-align: top;\n",
       "    }\n",
       "\n",
       "    .dataframe thead th {\n",
       "        text-align: right;\n",
       "    }\n",
       "</style>\n",
       "<table border=\"1\" class=\"dataframe\">\n",
       "  <thead>\n",
       "    <tr style=\"text-align: right;\">\n",
       "      <th></th>\n",
       "      <th>date</th>\n",
       "      <th>hors</th>\n",
       "      <th>u</th>\n",
       "      <th>v</th>\n",
       "      <th>ws</th>\n",
       "      <th>wd</th>\n",
       "    </tr>\n",
       "  </thead>\n",
       "  <tbody>\n",
       "    <tr>\n",
       "      <th>date</th>\n",
       "      <td>1.000000</td>\n",
       "      <td>0.000000</td>\n",
       "      <td>0.016221</td>\n",
       "      <td>-0.001918</td>\n",
       "      <td>-0.000841</td>\n",
       "      <td>-0.025452</td>\n",
       "    </tr>\n",
       "    <tr>\n",
       "      <th>hors</th>\n",
       "      <td>0.000000</td>\n",
       "      <td>1.000000</td>\n",
       "      <td>-0.007483</td>\n",
       "      <td>0.010129</td>\n",
       "      <td>-0.017601</td>\n",
       "      <td>-0.006819</td>\n",
       "    </tr>\n",
       "    <tr>\n",
       "      <th>u</th>\n",
       "      <td>0.016221</td>\n",
       "      <td>-0.007483</td>\n",
       "      <td>1.000000</td>\n",
       "      <td>-0.041353</td>\n",
       "      <td>0.431726</td>\n",
       "      <td>-0.691513</td>\n",
       "    </tr>\n",
       "    <tr>\n",
       "      <th>v</th>\n",
       "      <td>-0.001918</td>\n",
       "      <td>0.010129</td>\n",
       "      <td>-0.041353</td>\n",
       "      <td>1.000000</td>\n",
       "      <td>0.009221</td>\n",
       "      <td>-0.125260</td>\n",
       "    </tr>\n",
       "    <tr>\n",
       "      <th>ws</th>\n",
       "      <td>-0.000841</td>\n",
       "      <td>-0.017601</td>\n",
       "      <td>0.431726</td>\n",
       "      <td>0.009221</td>\n",
       "      <td>1.000000</td>\n",
       "      <td>-0.159404</td>\n",
       "    </tr>\n",
       "    <tr>\n",
       "      <th>wd</th>\n",
       "      <td>-0.025452</td>\n",
       "      <td>-0.006819</td>\n",
       "      <td>-0.691513</td>\n",
       "      <td>-0.125260</td>\n",
       "      <td>-0.159404</td>\n",
       "      <td>1.000000</td>\n",
       "    </tr>\n",
       "  </tbody>\n",
       "</table>\n",
       "</div>"
      ],
      "text/plain": [
       "          date      hors         u         v        ws        wd\n",
       "date  1.000000  0.000000  0.016221 -0.001918 -0.000841 -0.025452\n",
       "hors  0.000000  1.000000 -0.007483  0.010129 -0.017601 -0.006819\n",
       "u     0.016221 -0.007483  1.000000 -0.041353  0.431726 -0.691513\n",
       "v    -0.001918  0.010129 -0.041353  1.000000  0.009221 -0.125260\n",
       "ws   -0.000841 -0.017601  0.431726  0.009221  1.000000 -0.159404\n",
       "wd   -0.025452 -0.006819 -0.691513 -0.125260 -0.159404  1.000000"
      ]
     },
     "execution_count": 85,
     "metadata": {},
     "output_type": "execute_result"
    }
   ],
   "source": [
    "df.corr(method='pearson')"
   ]
  },
  {
   "cell_type": "code",
   "execution_count": 17,
   "metadata": {},
   "outputs": [
    {
     "data": {
      "image/png": "[encoded data removed]",
      "text/plain": [
       "<Figure size 432x288 with 2 Axes>"
      ]
     },
     "metadata": {
      "needs_background": "light"
     },
     "output_type": "display_data"
    }
   ],
   "source": [
    "corr = df.set_index('date').corr()\n",
    "sm.graphics.plot_corr(corr, xnames=list(corr.columns))\n",
    "plt.show()"
   ]
  },
  {
   "cell_type": "code",
   "execution_count": 92,
   "metadata": {},
   "outputs": [
    {
     "data": {
      "text/plain": [
       "Text(0, 0.5, 'ws')"
      ]
     },
     "execution_count": 92,
     "metadata": {},
     "output_type": "execute_result"
    },
    {
     "data": {
      "image/png": "[encoded data removed]",
      "text/plain": [
       "<Figure size 432x288 with 1 Axes>"
      ]
     },
     "metadata": {
      "needs_background": "light"
     },
     "output_type": "display_data"
    }
   ],
   "source": [
    "plt.plot(df.date, df.ws, \"ro\")\n",
    "plt.xlabel(\"date\")\n",
    "plt.ylabel(\"ws\")"
   ]
  },
  {
   "cell_type": "markdown",
   "metadata": {},
   "source": [
    "## Outliers"
   ]
  },
  {
   "cell_type": "code",
   "execution_count": 75,
   "metadata": {},
   "outputs": [
    {
     "data": {
      "image/png": "[encoded data removed]",
      "text/plain": [
       "<Figure size 432x288 with 1 Axes>"
      ]
     },
     "execution_count": 75,
     "metadata": {},
     "output_type": "execute_result"
    },
    {
     "data": {
      "image/png": "[encoded data removed]",
      "text/plain": [
       "<Figure size 432x288 with 1 Axes>"
      ]
     },
     "metadata": {
      "needs_background": "light"
     },
     "output_type": "display_data"
    }
   ],
   "source": [
    "df.date.plot().get_figure()"
   ]
  },
  {
   "cell_type": "code",
   "execution_count": 83,
   "metadata": {},
   "outputs": [],
   "source": [
    "def remov_outliers(y):\n",
    "    #y = data['date']\n",
    "    removed_outliers = y.between(y.quantile(.05), y.quantile(.95))\n",
    "    print(str(y[removed_outliers].size) + \"/\" + str(y.size) + \" data points remain.\") \n",
    "    print(removed_outliers.value_counts())\n",
    "    \n",
    "    return removed_outliers"
   ]
  },
  {
   "cell_type": "code",
   "execution_count": 84,
   "metadata": {},
   "outputs": [
    {
     "name": "stdout",
     "output_type": "stream",
     "text": [
      "94368/104832 data points remain.\n",
      "True     94368\n",
      "False    10464\n",
      "Name: date, dtype: int64\n"
     ]
    },
    {
     "data": {
      "image/png": "[encoded data removed]",
      "text/plain": [
       "<Figure size 432x288 with 1 Axes>"
      ]
     },
     "execution_count": 84,
     "metadata": {},
     "output_type": "execute_result"
    },
    {
     "data": {
      "image/png": "[encoded data removed]",
      "text/plain": [
       "<Figure size 432x288 with 1 Axes>"
      ]
     },
     "metadata": {
      "needs_background": "light"
     },
     "output_type": "display_data"
    }
   ],
   "source": [
    "removed_outliers = remov_outliers(df['date'])\n",
    "\n",
    "y[removed_outliers].plot().get_figure()"
   ]
  },
  {
   "cell_type": "code",
   "execution_count": null,
   "metadata": {},
   "outputs": [],
   "source": []
  }
 ],
 "metadata": {
  "kernelspec": {
   "display_name": "Python 3",
   "language": "python",
   "name": "python3"
  },
  "language_info": {
   "codemirror_mode": {
    "name": "ipython",
    "version": 3
   },
   "file_extension": ".py",
   "mimetype": "text/x-python",
   "name": "python",
   "nbconvert_exporter": "python",
   "pygments_lexer": "ipython3",
   "version": "3.6.8"
  }
 },
 "nbformat": 4,
 "nbformat_minor": 2
}
