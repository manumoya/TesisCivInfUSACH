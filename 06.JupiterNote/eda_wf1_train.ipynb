{
 "cells": [
  {
   "cell_type": "code",
   "execution_count": 47,
   "metadata": {},
   "outputs": [],
   "source": [
    "# Imports necesarios\n",
    "import pandas as pd\n",
    "import numpy as np\n",
    "import matplotlib.pyplot as plt\n",
    "import statsmodels.api as sm\n",
    "\n",
    "#cargamos los datos de entrada\n",
    "df = pd.read_csv(\"/Users/manuelmoya/Documents/USACH/2019-1er/Tesis/1.Desarrollo/05.AnalisisDatos/Datos/wf1_train_iter2.csv\",index_col=0,sep=\",\")\n",
    "#veamos cuantas dimensiones y registros contiene"
   ]
  },
  {
   "cell_type": "markdown",
   "metadata": {},
   "source": [
    "## Descripción básica del dataset"
   ]
  },
  {
   "cell_type": "code",
   "execution_count": 48,
   "metadata": {},
   "outputs": [
    {
     "data": {
      "text/html": [
       "<div>\n",
       "<style scoped>\n",
       "    .dataframe tbody tr th:only-of-type {\n",
       "        vertical-align: middle;\n",
       "    }\n",
       "\n",
       "    .dataframe tbody tr th {\n",
       "        vertical-align: top;\n",
       "    }\n",
       "\n",
       "    .dataframe thead th {\n",
       "        text-align: right;\n",
       "    }\n",
       "</style>\n",
       "<table border=\"1\" class=\"dataframe\">\n",
       "  <thead>\n",
       "    <tr style=\"text-align: right;\">\n",
       "      <th></th>\n",
       "      <th>hors</th>\n",
       "      <th>ws</th>\n",
       "      <th>wd</th>\n",
       "      <th>anno</th>\n",
       "      <th>mes</th>\n",
       "      <th>dia</th>\n",
       "      <th>horsObs</th>\n",
       "      <th>wp1</th>\n",
       "    </tr>\n",
       "  </thead>\n",
       "  <tbody>\n",
       "    <tr>\n",
       "      <th>4</th>\n",
       "      <td>5</td>\n",
       "      <td>2.93</td>\n",
       "      <td>120.13</td>\n",
       "      <td>2009</td>\n",
       "      <td>7</td>\n",
       "      <td>1</td>\n",
       "      <td>0</td>\n",
       "      <td>0.035</td>\n",
       "    </tr>\n",
       "    <tr>\n",
       "      <th>5</th>\n",
       "      <td>6</td>\n",
       "      <td>2.96</td>\n",
       "      <td>115.79</td>\n",
       "      <td>2009</td>\n",
       "      <td>7</td>\n",
       "      <td>1</td>\n",
       "      <td>0</td>\n",
       "      <td>0.005</td>\n",
       "    </tr>\n",
       "    <tr>\n",
       "      <th>6</th>\n",
       "      <td>7</td>\n",
       "      <td>2.81</td>\n",
       "      <td>106.71</td>\n",
       "      <td>2009</td>\n",
       "      <td>7</td>\n",
       "      <td>1</td>\n",
       "      <td>0</td>\n",
       "      <td>0.251</td>\n",
       "    </tr>\n",
       "    <tr>\n",
       "      <th>7</th>\n",
       "      <td>8</td>\n",
       "      <td>2.73</td>\n",
       "      <td>95.39</td>\n",
       "      <td>2009</td>\n",
       "      <td>7</td>\n",
       "      <td>1</td>\n",
       "      <td>0</td>\n",
       "      <td>0.251</td>\n",
       "    </tr>\n",
       "    <tr>\n",
       "      <th>8</th>\n",
       "      <td>9</td>\n",
       "      <td>2.87</td>\n",
       "      <td>88.50</td>\n",
       "      <td>2009</td>\n",
       "      <td>7</td>\n",
       "      <td>1</td>\n",
       "      <td>0</td>\n",
       "      <td>0.010</td>\n",
       "    </tr>\n",
       "  </tbody>\n",
       "</table>\n",
       "</div>"
      ],
      "text/plain": [
       "   hors    ws      wd  anno  mes  dia  horsObs    wp1\n",
       "4     5  2.93  120.13  2009    7    1        0  0.035\n",
       "5     6  2.96  115.79  2009    7    1        0  0.005\n",
       "6     7  2.81  106.71  2009    7    1        0  0.251\n",
       "7     8  2.73   95.39  2009    7    1        0  0.251\n",
       "8     9  2.87   88.50  2009    7    1        0  0.010"
      ]
     },
     "execution_count": 48,
     "metadata": {},
     "output_type": "execute_result"
    }
   ],
   "source": [
    "df.head(5)"
   ]
  },
  {
   "cell_type": "markdown",
   "metadata": {},
   "source": [
    "## Descripción filas y columnas"
   ]
  },
  {
   "cell_type": "code",
   "execution_count": 49,
   "metadata": {},
   "outputs": [
    {
     "name": "stdout",
     "output_type": "stream",
     "text": [
      "Cantidad de Filas y columnas: (86796, 8)\n",
      "Nombre columnas: Index(['hors', 'ws', 'wd', 'anno', 'mes', 'dia', 'horsObs', 'wp1'], dtype='object')\n"
     ]
    }
   ],
   "source": [
    "print('Cantidad de Filas y columnas:',df.shape)\n",
    "print('Nombre columnas:',df.columns)"
   ]
  },
  {
   "cell_type": "markdown",
   "metadata": {},
   "source": [
    "## Columnas, tipo de datos y nulos"
   ]
  },
  {
   "cell_type": "code",
   "execution_count": 50,
   "metadata": {},
   "outputs": [
    {
     "name": "stdout",
     "output_type": "stream",
     "text": [
      "<class 'pandas.core.frame.DataFrame'>\n",
      "Int64Index: 86796 entries, 4 to 104831\n",
      "Data columns (total 8 columns):\n",
      " #   Column   Non-Null Count  Dtype  \n",
      "---  ------   --------------  -----  \n",
      " 0   hors     86796 non-null  int64  \n",
      " 1   ws       86796 non-null  float64\n",
      " 2   wd       86796 non-null  float64\n",
      " 3   anno     86796 non-null  int64  \n",
      " 4   mes      86796 non-null  int64  \n",
      " 5   dia      86796 non-null  int64  \n",
      " 6   horsObs  86796 non-null  int64  \n",
      " 7   wp1      86796 non-null  float64\n",
      "dtypes: float64(3), int64(5)\n",
      "memory usage: 6.0 MB\n"
     ]
    }
   ],
   "source": [
    "df.info()"
   ]
  },
  {
   "cell_type": "markdown",
   "metadata": {},
   "source": [
    "## Descripción estadística de los datos numéricos"
   ]
  },
  {
   "cell_type": "code",
   "execution_count": 51,
   "metadata": {},
   "outputs": [
    {
     "data": {
      "text/html": [
       "<div>\n",
       "<style scoped>\n",
       "    .dataframe tbody tr th:only-of-type {\n",
       "        vertical-align: middle;\n",
       "    }\n",
       "\n",
       "    .dataframe tbody tr th {\n",
       "        vertical-align: top;\n",
       "    }\n",
       "\n",
       "    .dataframe thead th {\n",
       "        text-align: right;\n",
       "    }\n",
       "</style>\n",
       "<table border=\"1\" class=\"dataframe\">\n",
       "  <thead>\n",
       "    <tr style=\"text-align: right;\">\n",
       "      <th></th>\n",
       "      <th>hors</th>\n",
       "      <th>ws</th>\n",
       "      <th>wd</th>\n",
       "      <th>anno</th>\n",
       "      <th>mes</th>\n",
       "      <th>dia</th>\n",
       "      <th>horsObs</th>\n",
       "      <th>wp1</th>\n",
       "    </tr>\n",
       "  </thead>\n",
       "  <tbody>\n",
       "    <tr>\n",
       "      <th>count</th>\n",
       "      <td>86796.000000</td>\n",
       "      <td>86796.000000</td>\n",
       "      <td>86796.000000</td>\n",
       "      <td>86796.000000</td>\n",
       "      <td>86796.000000</td>\n",
       "      <td>86796.000000</td>\n",
       "      <td>86796.000000</td>\n",
       "      <td>86796.000000</td>\n",
       "    </tr>\n",
       "    <tr>\n",
       "      <th>mean</th>\n",
       "      <td>27.528619</td>\n",
       "      <td>4.071647</td>\n",
       "      <td>144.577414</td>\n",
       "      <td>2010.402415</td>\n",
       "      <td>6.632333</td>\n",
       "      <td>15.693903</td>\n",
       "      <td>5.998617</td>\n",
       "      <td>0.273715</td>\n",
       "    </tr>\n",
       "    <tr>\n",
       "      <th>std</th>\n",
       "      <td>12.629649</td>\n",
       "      <td>1.890125</td>\n",
       "      <td>93.525744</td>\n",
       "      <td>0.951188</td>\n",
       "      <td>3.451679</td>\n",
       "      <td>8.786608</td>\n",
       "      <td>6.000034</td>\n",
       "      <td>0.201570</td>\n",
       "    </tr>\n",
       "    <tr>\n",
       "      <th>min</th>\n",
       "      <td>5.000000</td>\n",
       "      <td>0.010000</td>\n",
       "      <td>0.020000</td>\n",
       "      <td>2009.000000</td>\n",
       "      <td>1.000000</td>\n",
       "      <td>1.000000</td>\n",
       "      <td>0.000000</td>\n",
       "      <td>0.005000</td>\n",
       "    </tr>\n",
       "    <tr>\n",
       "      <th>25%</th>\n",
       "      <td>17.000000</td>\n",
       "      <td>2.750000</td>\n",
       "      <td>72.687500</td>\n",
       "      <td>2010.000000</td>\n",
       "      <td>4.000000</td>\n",
       "      <td>8.000000</td>\n",
       "      <td>0.000000</td>\n",
       "      <td>0.135000</td>\n",
       "    </tr>\n",
       "    <tr>\n",
       "      <th>50%</th>\n",
       "      <td>28.000000</td>\n",
       "      <td>3.680000</td>\n",
       "      <td>122.350000</td>\n",
       "      <td>2010.000000</td>\n",
       "      <td>7.000000</td>\n",
       "      <td>16.000000</td>\n",
       "      <td>0.000000</td>\n",
       "      <td>0.252000</td>\n",
       "    </tr>\n",
       "    <tr>\n",
       "      <th>75%</th>\n",
       "      <td>39.000000</td>\n",
       "      <td>5.110000</td>\n",
       "      <td>196.615000</td>\n",
       "      <td>2011.000000</td>\n",
       "      <td>10.000000</td>\n",
       "      <td>23.000000</td>\n",
       "      <td>12.000000</td>\n",
       "      <td>0.316000</td>\n",
       "    </tr>\n",
       "    <tr>\n",
       "      <th>max</th>\n",
       "      <td>48.000000</td>\n",
       "      <td>15.810000</td>\n",
       "      <td>359.990000</td>\n",
       "      <td>2012.000000</td>\n",
       "      <td>12.000000</td>\n",
       "      <td>31.000000</td>\n",
       "      <td>12.000000</td>\n",
       "      <td>0.947000</td>\n",
       "    </tr>\n",
       "  </tbody>\n",
       "</table>\n",
       "</div>"
      ],
      "text/plain": [
       "               hors            ws            wd          anno           mes  \\\n",
       "count  86796.000000  86796.000000  86796.000000  86796.000000  86796.000000   \n",
       "mean      27.528619      4.071647    144.577414   2010.402415      6.632333   \n",
       "std       12.629649      1.890125     93.525744      0.951188      3.451679   \n",
       "min        5.000000      0.010000      0.020000   2009.000000      1.000000   \n",
       "25%       17.000000      2.750000     72.687500   2010.000000      4.000000   \n",
       "50%       28.000000      3.680000    122.350000   2010.000000      7.000000   \n",
       "75%       39.000000      5.110000    196.615000   2011.000000     10.000000   \n",
       "max       48.000000     15.810000    359.990000   2012.000000     12.000000   \n",
       "\n",
       "                dia       horsObs           wp1  \n",
       "count  86796.000000  86796.000000  86796.000000  \n",
       "mean      15.693903      5.998617      0.273715  \n",
       "std        8.786608      6.000034      0.201570  \n",
       "min        1.000000      0.000000      0.005000  \n",
       "25%        8.000000      0.000000      0.135000  \n",
       "50%       16.000000      0.000000      0.252000  \n",
       "75%       23.000000     12.000000      0.316000  \n",
       "max       31.000000     12.000000      0.947000  "
      ]
     },
     "execution_count": 51,
     "metadata": {},
     "output_type": "execute_result"
    }
   ],
   "source": [
    "df.describe()"
   ]
  },
  {
   "cell_type": "markdown",
   "metadata": {},
   "source": [
    "## Correlación entre variables"
   ]
  },
  {
   "cell_type": "code",
   "execution_count": 52,
   "metadata": {},
   "outputs": [
    {
     "data": {
      "text/html": [
       "<div>\n",
       "<style scoped>\n",
       "    .dataframe tbody tr th:only-of-type {\n",
       "        vertical-align: middle;\n",
       "    }\n",
       "\n",
       "    .dataframe tbody tr th {\n",
       "        vertical-align: top;\n",
       "    }\n",
       "\n",
       "    .dataframe thead th {\n",
       "        text-align: right;\n",
       "    }\n",
       "</style>\n",
       "<table border=\"1\" class=\"dataframe\">\n",
       "  <thead>\n",
       "    <tr style=\"text-align: right;\">\n",
       "      <th></th>\n",
       "      <th>hors</th>\n",
       "      <th>ws</th>\n",
       "      <th>wd</th>\n",
       "      <th>anno</th>\n",
       "      <th>mes</th>\n",
       "      <th>dia</th>\n",
       "      <th>horsObs</th>\n",
       "      <th>wp1</th>\n",
       "    </tr>\n",
       "  </thead>\n",
       "  <tbody>\n",
       "    <tr>\n",
       "      <th>hors</th>\n",
       "      <td>1.000000</td>\n",
       "      <td>-0.020356</td>\n",
       "      <td>-0.002982</td>\n",
       "      <td>7.915774e-02</td>\n",
       "      <td>-0.026680</td>\n",
       "      <td>-0.001025</td>\n",
       "      <td>1.063426e-04</td>\n",
       "      <td>0.000379</td>\n",
       "    </tr>\n",
       "    <tr>\n",
       "      <th>ws</th>\n",
       "      <td>-0.020356</td>\n",
       "      <td>1.000000</td>\n",
       "      <td>-0.157463</td>\n",
       "      <td>-3.490340e-04</td>\n",
       "      <td>-0.014751</td>\n",
       "      <td>0.021386</td>\n",
       "      <td>-2.524894e-02</td>\n",
       "      <td>0.511217</td>\n",
       "    </tr>\n",
       "    <tr>\n",
       "      <th>wd</th>\n",
       "      <td>-0.002982</td>\n",
       "      <td>-0.157463</td>\n",
       "      <td>1.000000</td>\n",
       "      <td>-2.560834e-02</td>\n",
       "      <td>-0.022130</td>\n",
       "      <td>0.041373</td>\n",
       "      <td>4.330486e-03</td>\n",
       "      <td>-0.143867</td>\n",
       "    </tr>\n",
       "    <tr>\n",
       "      <th>anno</th>\n",
       "      <td>0.079158</td>\n",
       "      <td>-0.000349</td>\n",
       "      <td>-0.025608</td>\n",
       "      <td>1.000000e+00</td>\n",
       "      <td>-0.454520</td>\n",
       "      <td>-0.012535</td>\n",
       "      <td>5.850031e-07</td>\n",
       "      <td>0.064721</td>\n",
       "    </tr>\n",
       "    <tr>\n",
       "      <th>mes</th>\n",
       "      <td>-0.026680</td>\n",
       "      <td>-0.014751</td>\n",
       "      <td>-0.022130</td>\n",
       "      <td>-4.545198e-01</td>\n",
       "      <td>1.000000</td>\n",
       "      <td>0.008967</td>\n",
       "      <td>-3.716856e-04</td>\n",
       "      <td>-0.034985</td>\n",
       "    </tr>\n",
       "    <tr>\n",
       "      <th>dia</th>\n",
       "      <td>-0.001025</td>\n",
       "      <td>0.021386</td>\n",
       "      <td>0.041373</td>\n",
       "      <td>-1.253453e-02</td>\n",
       "      <td>0.008967</td>\n",
       "      <td>1.000000</td>\n",
       "      <td>-4.695831e-04</td>\n",
       "      <td>-0.004901</td>\n",
       "    </tr>\n",
       "    <tr>\n",
       "      <th>horsObs</th>\n",
       "      <td>0.000106</td>\n",
       "      <td>-0.025249</td>\n",
       "      <td>0.004330</td>\n",
       "      <td>5.850031e-07</td>\n",
       "      <td>-0.000372</td>\n",
       "      <td>-0.000470</td>\n",
       "      <td>1.000000e+00</td>\n",
       "      <td>-0.006696</td>\n",
       "    </tr>\n",
       "    <tr>\n",
       "      <th>wp1</th>\n",
       "      <td>0.000379</td>\n",
       "      <td>0.511217</td>\n",
       "      <td>-0.143867</td>\n",
       "      <td>6.472121e-02</td>\n",
       "      <td>-0.034985</td>\n",
       "      <td>-0.004901</td>\n",
       "      <td>-6.696036e-03</td>\n",
       "      <td>1.000000</td>\n",
       "    </tr>\n",
       "  </tbody>\n",
       "</table>\n",
       "</div>"
      ],
      "text/plain": [
       "             hors        ws        wd          anno       mes       dia  \\\n",
       "hors     1.000000 -0.020356 -0.002982  7.915774e-02 -0.026680 -0.001025   \n",
       "ws      -0.020356  1.000000 -0.157463 -3.490340e-04 -0.014751  0.021386   \n",
       "wd      -0.002982 -0.157463  1.000000 -2.560834e-02 -0.022130  0.041373   \n",
       "anno     0.079158 -0.000349 -0.025608  1.000000e+00 -0.454520 -0.012535   \n",
       "mes     -0.026680 -0.014751 -0.022130 -4.545198e-01  1.000000  0.008967   \n",
       "dia     -0.001025  0.021386  0.041373 -1.253453e-02  0.008967  1.000000   \n",
       "horsObs  0.000106 -0.025249  0.004330  5.850031e-07 -0.000372 -0.000470   \n",
       "wp1      0.000379  0.511217 -0.143867  6.472121e-02 -0.034985 -0.004901   \n",
       "\n",
       "              horsObs       wp1  \n",
       "hors     1.063426e-04  0.000379  \n",
       "ws      -2.524894e-02  0.511217  \n",
       "wd       4.330486e-03 -0.143867  \n",
       "anno     5.850031e-07  0.064721  \n",
       "mes     -3.716856e-04 -0.034985  \n",
       "dia     -4.695831e-04 -0.004901  \n",
       "horsObs  1.000000e+00 -0.006696  \n",
       "wp1     -6.696036e-03  1.000000  "
      ]
     },
     "execution_count": 52,
     "metadata": {},
     "output_type": "execute_result"
    }
   ],
   "source": [
    "df.corr()"
   ]
  },
  {
   "cell_type": "code",
   "execution_count": 53,
   "metadata": {},
   "outputs": [
    {
     "data": {
      "text/html": [
       "<div>\n",
       "<style scoped>\n",
       "    .dataframe tbody tr th:only-of-type {\n",
       "        vertical-align: middle;\n",
       "    }\n",
       "\n",
       "    .dataframe tbody tr th {\n",
       "        vertical-align: top;\n",
       "    }\n",
       "\n",
       "    .dataframe thead th {\n",
       "        text-align: right;\n",
       "    }\n",
       "</style>\n",
       "<table border=\"1\" class=\"dataframe\">\n",
       "  <thead>\n",
       "    <tr style=\"text-align: right;\">\n",
       "      <th></th>\n",
       "      <th>ws</th>\n",
       "      <th>wd</th>\n",
       "      <th>anno</th>\n",
       "      <th>mes</th>\n",
       "      <th>wp1</th>\n",
       "    </tr>\n",
       "  </thead>\n",
       "  <tbody>\n",
       "    <tr>\n",
       "      <th>4</th>\n",
       "      <td>2.93</td>\n",
       "      <td>120.13</td>\n",
       "      <td>2009</td>\n",
       "      <td>7</td>\n",
       "      <td>0.035</td>\n",
       "    </tr>\n",
       "    <tr>\n",
       "      <th>5</th>\n",
       "      <td>2.96</td>\n",
       "      <td>115.79</td>\n",
       "      <td>2009</td>\n",
       "      <td>7</td>\n",
       "      <td>0.005</td>\n",
       "    </tr>\n",
       "    <tr>\n",
       "      <th>6</th>\n",
       "      <td>2.81</td>\n",
       "      <td>106.71</td>\n",
       "      <td>2009</td>\n",
       "      <td>7</td>\n",
       "      <td>0.251</td>\n",
       "    </tr>\n",
       "    <tr>\n",
       "      <th>7</th>\n",
       "      <td>2.73</td>\n",
       "      <td>95.39</td>\n",
       "      <td>2009</td>\n",
       "      <td>7</td>\n",
       "      <td>0.251</td>\n",
       "    </tr>\n",
       "    <tr>\n",
       "      <th>8</th>\n",
       "      <td>2.87</td>\n",
       "      <td>88.50</td>\n",
       "      <td>2009</td>\n",
       "      <td>7</td>\n",
       "      <td>0.010</td>\n",
       "    </tr>\n",
       "  </tbody>\n",
       "</table>\n",
       "</div>"
      ],
      "text/plain": [
       "     ws      wd  anno  mes    wp1\n",
       "4  2.93  120.13  2009    7  0.035\n",
       "5  2.96  115.79  2009    7  0.005\n",
       "6  2.81  106.71  2009    7  0.251\n",
       "7  2.73   95.39  2009    7  0.251\n",
       "8  2.87   88.50  2009    7  0.010"
      ]
     },
     "execution_count": 53,
     "metadata": {},
     "output_type": "execute_result"
    }
   ],
   "source": [
    "df.drop(['dia','horsObs','hors'], axis=1, inplace=True)\n",
    "df.head(5)"
   ]
  },
  {
   "cell_type": "code",
   "execution_count": 54,
   "metadata": {},
   "outputs": [
    {
     "data": {
      "text/html": [
       "<div>\n",
       "<style scoped>\n",
       "    .dataframe tbody tr th:only-of-type {\n",
       "        vertical-align: middle;\n",
       "    }\n",
       "\n",
       "    .dataframe tbody tr th {\n",
       "        vertical-align: top;\n",
       "    }\n",
       "\n",
       "    .dataframe thead th {\n",
       "        text-align: right;\n",
       "    }\n",
       "</style>\n",
       "<table border=\"1\" class=\"dataframe\">\n",
       "  <thead>\n",
       "    <tr style=\"text-align: right;\">\n",
       "      <th></th>\n",
       "      <th>ws</th>\n",
       "      <th>wd</th>\n",
       "      <th>anno</th>\n",
       "      <th>mes</th>\n",
       "      <th>wp1</th>\n",
       "    </tr>\n",
       "  </thead>\n",
       "  <tbody>\n",
       "    <tr>\n",
       "      <th>ws</th>\n",
       "      <td>1.000000</td>\n",
       "      <td>-0.157463</td>\n",
       "      <td>-0.000349</td>\n",
       "      <td>-0.014751</td>\n",
       "      <td>0.511217</td>\n",
       "    </tr>\n",
       "    <tr>\n",
       "      <th>wd</th>\n",
       "      <td>-0.157463</td>\n",
       "      <td>1.000000</td>\n",
       "      <td>-0.025608</td>\n",
       "      <td>-0.022130</td>\n",
       "      <td>-0.143867</td>\n",
       "    </tr>\n",
       "    <tr>\n",
       "      <th>anno</th>\n",
       "      <td>-0.000349</td>\n",
       "      <td>-0.025608</td>\n",
       "      <td>1.000000</td>\n",
       "      <td>-0.454520</td>\n",
       "      <td>0.064721</td>\n",
       "    </tr>\n",
       "    <tr>\n",
       "      <th>mes</th>\n",
       "      <td>-0.014751</td>\n",
       "      <td>-0.022130</td>\n",
       "      <td>-0.454520</td>\n",
       "      <td>1.000000</td>\n",
       "      <td>-0.034985</td>\n",
       "    </tr>\n",
       "    <tr>\n",
       "      <th>wp1</th>\n",
       "      <td>0.511217</td>\n",
       "      <td>-0.143867</td>\n",
       "      <td>0.064721</td>\n",
       "      <td>-0.034985</td>\n",
       "      <td>1.000000</td>\n",
       "    </tr>\n",
       "  </tbody>\n",
       "</table>\n",
       "</div>"
      ],
      "text/plain": [
       "            ws        wd      anno       mes       wp1\n",
       "ws    1.000000 -0.157463 -0.000349 -0.014751  0.511217\n",
       "wd   -0.157463  1.000000 -0.025608 -0.022130 -0.143867\n",
       "anno -0.000349 -0.025608  1.000000 -0.454520  0.064721\n",
       "mes  -0.014751 -0.022130 -0.454520  1.000000 -0.034985\n",
       "wp1   0.511217 -0.143867  0.064721 -0.034985  1.000000"
      ]
     },
     "execution_count": 54,
     "metadata": {},
     "output_type": "execute_result"
    }
   ],
   "source": [
    "df.corr()"
   ]
  },
  {
   "cell_type": "code",
   "execution_count": 55,
   "metadata": {
    "scrolled": true
   },
   "outputs": [
    {
     "data": {
      "image/png": "[encoded data removed]",
      "text/plain": [
       "<Figure size 432x288 with 2 Axes>"
      ]
     },
     "metadata": {
      "needs_background": "light"
     },
     "output_type": "display_data"
    }
   ],
   "source": [
    "corr = df.set_index(\"mes\").corr()\n",
    "sm.graphics.plot_corr(corr, xnames=list(corr.columns))\n",
    "plt.show()"
   ]
  },
  {
   "cell_type": "code",
   "execution_count": 56,
   "metadata": {},
   "outputs": [
    {
     "data": {
      "text/html": [
       "<div>\n",
       "<style scoped>\n",
       "    .dataframe tbody tr th:only-of-type {\n",
       "        vertical-align: middle;\n",
       "    }\n",
       "\n",
       "    .dataframe tbody tr th {\n",
       "        vertical-align: top;\n",
       "    }\n",
       "\n",
       "    .dataframe thead th {\n",
       "        text-align: right;\n",
       "    }\n",
       "</style>\n",
       "<table border=\"1\" class=\"dataframe\">\n",
       "  <thead>\n",
       "    <tr style=\"text-align: right;\">\n",
       "      <th></th>\n",
       "      <th>ws</th>\n",
       "      <th>wd</th>\n",
       "      <th>anno</th>\n",
       "      <th>mes</th>\n",
       "      <th>wp1</th>\n",
       "    </tr>\n",
       "  </thead>\n",
       "  <tbody>\n",
       "  </tbody>\n",
       "</table>\n",
       "</div>"
      ],
      "text/plain": [
       "Empty DataFrame\n",
       "Columns: [ws, wd, anno, mes, wp1]\n",
       "Index: []"
      ]
     },
     "execution_count": 56,
     "metadata": {},
     "output_type": "execute_result"
    }
   ],
   "source": [
    "nan_rows = df[df['wp1'].isnull()] \n",
    "nan_rows"
   ]
  },
  {
   "cell_type": "code",
   "execution_count": 57,
   "metadata": {},
   "outputs": [
    {
     "data": {
      "text/html": [
       "<div>\n",
       "<style scoped>\n",
       "    .dataframe tbody tr th:only-of-type {\n",
       "        vertical-align: middle;\n",
       "    }\n",
       "\n",
       "    .dataframe tbody tr th {\n",
       "        vertical-align: top;\n",
       "    }\n",
       "\n",
       "    .dataframe thead th {\n",
       "        text-align: right;\n",
       "    }\n",
       "</style>\n",
       "<table border=\"1\" class=\"dataframe\">\n",
       "  <thead>\n",
       "    <tr style=\"text-align: right;\">\n",
       "      <th></th>\n",
       "      <th>ws</th>\n",
       "      <th>wd</th>\n",
       "      <th>anno</th>\n",
       "      <th>mes</th>\n",
       "      <th>wp1</th>\n",
       "    </tr>\n",
       "  </thead>\n",
       "  <tbody>\n",
       "    <tr>\n",
       "      <th>4</th>\n",
       "      <td>2.93</td>\n",
       "      <td>120.13</td>\n",
       "      <td>2009</td>\n",
       "      <td>7</td>\n",
       "      <td>0.035</td>\n",
       "    </tr>\n",
       "    <tr>\n",
       "      <th>5</th>\n",
       "      <td>2.96</td>\n",
       "      <td>115.79</td>\n",
       "      <td>2009</td>\n",
       "      <td>7</td>\n",
       "      <td>0.005</td>\n",
       "    </tr>\n",
       "    <tr>\n",
       "      <th>6</th>\n",
       "      <td>2.81</td>\n",
       "      <td>106.71</td>\n",
       "      <td>2009</td>\n",
       "      <td>7</td>\n",
       "      <td>0.251</td>\n",
       "    </tr>\n",
       "    <tr>\n",
       "      <th>7</th>\n",
       "      <td>2.73</td>\n",
       "      <td>95.39</td>\n",
       "      <td>2009</td>\n",
       "      <td>7</td>\n",
       "      <td>0.251</td>\n",
       "    </tr>\n",
       "    <tr>\n",
       "      <th>8</th>\n",
       "      <td>2.87</td>\n",
       "      <td>88.50</td>\n",
       "      <td>2009</td>\n",
       "      <td>7</td>\n",
       "      <td>0.010</td>\n",
       "    </tr>\n",
       "  </tbody>\n",
       "</table>\n",
       "</div>"
      ],
      "text/plain": [
       "     ws      wd  anno  mes    wp1\n",
       "4  2.93  120.13  2009    7  0.035\n",
       "5  2.96  115.79  2009    7  0.005\n",
       "6  2.81  106.71  2009    7  0.251\n",
       "7  2.73   95.39  2009    7  0.251\n",
       "8  2.87   88.50  2009    7  0.010"
      ]
     },
     "execution_count": 57,
     "metadata": {},
     "output_type": "execute_result"
    }
   ],
   "source": [
    "df2=df\n",
    "#df2.drop(['anno','mes'], axis=1, inplace=True)\n",
    "df2.head()"
   ]
  },
  {
   "cell_type": "markdown",
   "metadata": {},
   "source": [
    "## Outliers"
   ]
  },
  {
   "cell_type": "code",
   "execution_count": 14,
   "metadata": {},
   "outputs": [
    {
     "data": {
      "image/png": "[encoded data removed]",
      "text/plain": [
       "<Figure size 432x288 with 1 Axes>"
      ]
     },
     "execution_count": 14,
     "metadata": {},
     "output_type": "execute_result"
    },
    {
     "data": {
      "image/png": "[encoded data removed]",
      "text/plain": [
       "<Figure size 432x288 with 1 Axes>"
      ]
     },
     "metadata": {
      "needs_background": "light"
     },
     "output_type": "display_data"
    }
   ],
   "source": [
    "df.wp1.plot().get_figure()"
   ]
  },
  {
   "cell_type": "code",
   "execution_count": 15,
   "metadata": {},
   "outputs": [],
   "source": [
    "def get_remov_outliers(y):\n",
    "    #y = data['date']\n",
    "    removed_outliers = y.between(y.quantile(.05), y.quantile(.95))\n",
    "    \n",
    "    print(str(y[removed_outliers].size) + \"/\" + str(y.size) + \" data points remain.\") \n",
    "    print(removed_outliers.value_counts())\n",
    "    \n",
    "    \n",
    "    return removed_outliers"
   ]
  },
  {
   "cell_type": "code",
   "execution_count": 16,
   "metadata": {},
   "outputs": [],
   "source": [
    "def del_ouliers (rem_outl, df):\n",
    "    index_names = df[~rem_outl].index # INVERT removed_outliers!!\n",
    "    print(index_names) # The resulting 20 dates to drop.\n",
    "    df.drop(index_names, inplace=True)"
   ]
  },
  {
   "cell_type": "code",
   "execution_count": 18,
   "metadata": {},
   "outputs": [
    {
     "name": "stdout",
     "output_type": "stream",
     "text": [
      "70365/78178 data points remain.\n",
      "True     70365\n",
      "False     7813\n",
      "Name: wd, dtype: int64\n",
      "Int64Index([   760,    761,    762,    763,    764,    765,    766,    767,\n",
      "               797,    798,\n",
      "            ...\n",
      "            104024, 104025, 104026, 104027, 104028, 104029, 104030, 104031,\n",
      "            104032, 104476],\n",
      "           dtype='int64', length=7813)\n",
      "<class 'pandas.core.frame.DataFrame'>\n",
      "Int64Index: 70365 entries, 4 to 104830\n",
      "Data columns (total 5 columns):\n",
      " #   Column  Non-Null Count  Dtype  \n",
      "---  ------  --------------  -----  \n",
      " 0   ws      70365 non-null  float64\n",
      " 1   wd      70365 non-null  float64\n",
      " 2   anno    70365 non-null  int64  \n",
      " 3   mes     70365 non-null  int64  \n",
      " 4   wp1     70365 non-null  float64\n",
      "dtypes: float64(3), int64(2)\n",
      "memory usage: 3.2 MB\n"
     ]
    }
   ],
   "source": [
    "removed_outliers = get_remov_outliers(df['wd'])\n",
    "del_ouliers(removed_outliers, df)\n",
    "df.info()"
   ]
  },
  {
   "cell_type": "code",
   "execution_count": 58,
   "metadata": {},
   "outputs": [],
   "source": [
    "\n",
    "df.to_csv('/Users/manuelmoya/Documents/USACH/2019-1er/Tesis/1.Desarrollo/05.AnalisisDatos/Datos/wf1_train_fin_iter2.csv')\n"
   ]
  },
  {
   "cell_type": "code",
   "execution_count": 46,
   "metadata": {},
   "outputs": [
    {
     "data": {
      "image/png": "[encoded data removed]",
      "text/plain": [
       "<Figure size 432x288 with 1 Axes>"
      ]
     },
     "execution_count": 46,
     "metadata": {},
     "output_type": "execute_result"
    },
    {
     "data": {
      "image/png": "[encoded data removed]",
      "text/plain": [
       "<Figure size 432x288 with 1 Axes>"
      ]
     },
     "metadata": {
      "needs_background": "light"
     },
     "output_type": "display_data"
    }
   ],
   "source": [
    "df.wp1.plot().get_figure()"
   ]
  },
  {
   "cell_type": "code",
   "execution_count": null,
   "metadata": {},
   "outputs": [],
   "source": []
  }
 ],
 "metadata": {
  "kernelspec": {
   "display_name": "Python 3",
   "language": "python",
   "name": "python3"
  },
  "language_info": {
   "codemirror_mode": {
    "name": "ipython",
    "version": 3
   },
   "file_extension": ".py",
   "mimetype": "text/x-python",
   "name": "python",
   "nbconvert_exporter": "python",
   "pygments_lexer": "ipython3",
   "version": "3.6.8"
  }
 },
 "nbformat": 4,
 "nbformat_minor": 2
}
