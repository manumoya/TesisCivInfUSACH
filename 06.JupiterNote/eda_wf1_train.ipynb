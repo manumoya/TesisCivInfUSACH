{
 "cells": [
  {
   "cell_type": "code",
   "execution_count": 12,
   "metadata": {},
   "outputs": [],
   "source": [
    "# Imports necesarios\n",
    "import pandas as pd\n",
    "import numpy as np\n",
    "import matplotlib.pyplot as plt\n",
    "import statsmodels.api as sm\n",
    "\n",
    "#cargamos los datos de entrada\n",
    "df = pd.read_csv(\"/Users/manuelmoya/Documents/USACH/2019-1er/Tesis/1.Desarrollo/05.AnalisisDatos/Datos/wf1_train.csv\",index_col=0,sep=\",\")\n",
    "#veamos cuantas dimensiones y registros contiene"
   ]
  },
  {
   "cell_type": "markdown",
   "metadata": {},
   "source": [
    "## Descripción básica del dataset"
   ]
  },
  {
   "cell_type": "code",
   "execution_count": 13,
   "metadata": {},
   "outputs": [
    {
     "data": {
      "text/html": [
       "<div>\n",
       "<style scoped>\n",
       "    .dataframe tbody tr th:only-of-type {\n",
       "        vertical-align: middle;\n",
       "    }\n",
       "\n",
       "    .dataframe tbody tr th {\n",
       "        vertical-align: top;\n",
       "    }\n",
       "\n",
       "    .dataframe thead th {\n",
       "        text-align: right;\n",
       "    }\n",
       "</style>\n",
       "<table border=\"1\" class=\"dataframe\">\n",
       "  <thead>\n",
       "    <tr style=\"text-align: right;\">\n",
       "      <th></th>\n",
       "      <th>hors</th>\n",
       "      <th>ws</th>\n",
       "      <th>wd</th>\n",
       "      <th>anno</th>\n",
       "      <th>mes</th>\n",
       "      <th>dia</th>\n",
       "      <th>horsObs</th>\n",
       "      <th>wp1</th>\n",
       "    </tr>\n",
       "  </thead>\n",
       "  <tbody>\n",
       "    <tr>\n",
       "      <th>0</th>\n",
       "      <td>1</td>\n",
       "      <td>2.47</td>\n",
       "      <td>108.68</td>\n",
       "      <td>2009</td>\n",
       "      <td>7</td>\n",
       "      <td>1</td>\n",
       "      <td>0</td>\n",
       "      <td>0.085</td>\n",
       "    </tr>\n",
       "    <tr>\n",
       "      <th>1</th>\n",
       "      <td>2</td>\n",
       "      <td>2.40</td>\n",
       "      <td>114.31</td>\n",
       "      <td>2009</td>\n",
       "      <td>7</td>\n",
       "      <td>1</td>\n",
       "      <td>0</td>\n",
       "      <td>0.020</td>\n",
       "    </tr>\n",
       "    <tr>\n",
       "      <th>2</th>\n",
       "      <td>3</td>\n",
       "      <td>2.51</td>\n",
       "      <td>118.71</td>\n",
       "      <td>2009</td>\n",
       "      <td>7</td>\n",
       "      <td>1</td>\n",
       "      <td>0</td>\n",
       "      <td>0.060</td>\n",
       "    </tr>\n",
       "    <tr>\n",
       "      <th>3</th>\n",
       "      <td>4</td>\n",
       "      <td>2.73</td>\n",
       "      <td>120.86</td>\n",
       "      <td>2009</td>\n",
       "      <td>7</td>\n",
       "      <td>1</td>\n",
       "      <td>0</td>\n",
       "      <td>0.045</td>\n",
       "    </tr>\n",
       "    <tr>\n",
       "      <th>4</th>\n",
       "      <td>5</td>\n",
       "      <td>2.93</td>\n",
       "      <td>120.13</td>\n",
       "      <td>2009</td>\n",
       "      <td>7</td>\n",
       "      <td>1</td>\n",
       "      <td>0</td>\n",
       "      <td>0.035</td>\n",
       "    </tr>\n",
       "  </tbody>\n",
       "</table>\n",
       "</div>"
      ],
      "text/plain": [
       "   hors    ws      wd  anno  mes  dia  horsObs    wp1\n",
       "0     1  2.47  108.68  2009    7    1        0  0.085\n",
       "1     2  2.40  114.31  2009    7    1        0  0.020\n",
       "2     3  2.51  118.71  2009    7    1        0  0.060\n",
       "3     4  2.73  120.86  2009    7    1        0  0.045\n",
       "4     5  2.93  120.13  2009    7    1        0  0.035"
      ]
     },
     "execution_count": 13,
     "metadata": {},
     "output_type": "execute_result"
    }
   ],
   "source": [
    "df.head(5)"
   ]
  },
  {
   "cell_type": "markdown",
   "metadata": {},
   "source": [
    "## Descripción filas y columnas"
   ]
  },
  {
   "cell_type": "code",
   "execution_count": 14,
   "metadata": {},
   "outputs": [
    {
     "name": "stdout",
     "output_type": "stream",
     "text": [
      "Cantidad de Filas y columnas: (93672, 8)\n",
      "Nombre columnas: Index(['hors', 'ws', 'wd', 'anno', 'mes', 'dia', 'horsObs', 'wp1'], dtype='object')\n"
     ]
    }
   ],
   "source": [
    "print('Cantidad de Filas y columnas:',df.shape)\n",
    "print('Nombre columnas:',df.columns)"
   ]
  },
  {
   "cell_type": "markdown",
   "metadata": {},
   "source": [
    "## Columnas, tipo de datos y nulos"
   ]
  },
  {
   "cell_type": "code",
   "execution_count": 15,
   "metadata": {},
   "outputs": [
    {
     "name": "stdout",
     "output_type": "stream",
     "text": [
      "<class 'pandas.core.frame.DataFrame'>\n",
      "Int64Index: 93672 entries, 0 to 104831\n",
      "Data columns (total 8 columns):\n",
      " #   Column   Non-Null Count  Dtype  \n",
      "---  ------   --------------  -----  \n",
      " 0   hors     93672 non-null  int64  \n",
      " 1   ws       93672 non-null  float64\n",
      " 2   wd       93672 non-null  float64\n",
      " 3   anno     93672 non-null  int64  \n",
      " 4   mes      93672 non-null  int64  \n",
      " 5   dia      93672 non-null  int64  \n",
      " 6   horsObs  93672 non-null  int64  \n",
      " 7   wp1      93672 non-null  float64\n",
      "dtypes: float64(3), int64(5)\n",
      "memory usage: 6.4 MB\n"
     ]
    }
   ],
   "source": [
    "df.info()"
   ]
  },
  {
   "cell_type": "markdown",
   "metadata": {},
   "source": [
    "## Descripción estadística de los datos numéricos"
   ]
  },
  {
   "cell_type": "code",
   "execution_count": 16,
   "metadata": {},
   "outputs": [
    {
     "data": {
      "text/html": [
       "<div>\n",
       "<style scoped>\n",
       "    .dataframe tbody tr th:only-of-type {\n",
       "        vertical-align: middle;\n",
       "    }\n",
       "\n",
       "    .dataframe tbody tr th {\n",
       "        vertical-align: top;\n",
       "    }\n",
       "\n",
       "    .dataframe thead th {\n",
       "        text-align: right;\n",
       "    }\n",
       "</style>\n",
       "<table border=\"1\" class=\"dataframe\">\n",
       "  <thead>\n",
       "    <tr style=\"text-align: right;\">\n",
       "      <th></th>\n",
       "      <th>hors</th>\n",
       "      <th>ws</th>\n",
       "      <th>wd</th>\n",
       "      <th>anno</th>\n",
       "      <th>mes</th>\n",
       "      <th>dia</th>\n",
       "      <th>horsObs</th>\n",
       "      <th>wp1</th>\n",
       "    </tr>\n",
       "  </thead>\n",
       "  <tbody>\n",
       "    <tr>\n",
       "      <th>count</th>\n",
       "      <td>93672.000000</td>\n",
       "      <td>93672.000000</td>\n",
       "      <td>93672.000000</td>\n",
       "      <td>93672.000000</td>\n",
       "      <td>93672.000000</td>\n",
       "      <td>93672.000000</td>\n",
       "      <td>93672.000000</td>\n",
       "      <td>93672.000000</td>\n",
       "    </tr>\n",
       "    <tr>\n",
       "      <th>mean</th>\n",
       "      <td>25.691391</td>\n",
       "      <td>4.072487</td>\n",
       "      <td>144.814262</td>\n",
       "      <td>2010.392390</td>\n",
       "      <td>6.644632</td>\n",
       "      <td>15.695491</td>\n",
       "      <td>5.998463</td>\n",
       "      <td>0.251717</td>\n",
       "    </tr>\n",
       "    <tr>\n",
       "      <th>std</th>\n",
       "      <td>13.802148</td>\n",
       "      <td>1.889861</td>\n",
       "      <td>93.518468</td>\n",
       "      <td>0.950153</td>\n",
       "      <td>3.451082</td>\n",
       "      <td>8.787027</td>\n",
       "      <td>6.000032</td>\n",
       "      <td>0.217258</td>\n",
       "    </tr>\n",
       "    <tr>\n",
       "      <th>min</th>\n",
       "      <td>1.000000</td>\n",
       "      <td>0.010000</td>\n",
       "      <td>0.020000</td>\n",
       "      <td>2009.000000</td>\n",
       "      <td>1.000000</td>\n",
       "      <td>1.000000</td>\n",
       "      <td>0.000000</td>\n",
       "      <td>0.000000</td>\n",
       "    </tr>\n",
       "    <tr>\n",
       "      <th>25%</th>\n",
       "      <td>14.000000</td>\n",
       "      <td>2.750000</td>\n",
       "      <td>72.920000</td>\n",
       "      <td>2010.000000</td>\n",
       "      <td>4.000000</td>\n",
       "      <td>8.000000</td>\n",
       "      <td>0.000000</td>\n",
       "      <td>0.080000</td>\n",
       "    </tr>\n",
       "    <tr>\n",
       "      <th>50%</th>\n",
       "      <td>26.000000</td>\n",
       "      <td>3.680000</td>\n",
       "      <td>122.630000</td>\n",
       "      <td>2010.000000</td>\n",
       "      <td>7.000000</td>\n",
       "      <td>16.000000</td>\n",
       "      <td>0.000000</td>\n",
       "      <td>0.251717</td>\n",
       "    </tr>\n",
       "    <tr>\n",
       "      <th>75%</th>\n",
       "      <td>38.000000</td>\n",
       "      <td>5.110000</td>\n",
       "      <td>197.180000</td>\n",
       "      <td>2011.000000</td>\n",
       "      <td>10.000000</td>\n",
       "      <td>23.000000</td>\n",
       "      <td>12.000000</td>\n",
       "      <td>0.316000</td>\n",
       "    </tr>\n",
       "    <tr>\n",
       "      <th>max</th>\n",
       "      <td>48.000000</td>\n",
       "      <td>15.810000</td>\n",
       "      <td>359.990000</td>\n",
       "      <td>2012.000000</td>\n",
       "      <td>12.000000</td>\n",
       "      <td>31.000000</td>\n",
       "      <td>12.000000</td>\n",
       "      <td>0.947000</td>\n",
       "    </tr>\n",
       "  </tbody>\n",
       "</table>\n",
       "</div>"
      ],
      "text/plain": [
       "               hors            ws            wd          anno           mes  \\\n",
       "count  93672.000000  93672.000000  93672.000000  93672.000000  93672.000000   \n",
       "mean      25.691391      4.072487    144.814262   2010.392390      6.644632   \n",
       "std       13.802148      1.889861     93.518468      0.950153      3.451082   \n",
       "min        1.000000      0.010000      0.020000   2009.000000      1.000000   \n",
       "25%       14.000000      2.750000     72.920000   2010.000000      4.000000   \n",
       "50%       26.000000      3.680000    122.630000   2010.000000      7.000000   \n",
       "75%       38.000000      5.110000    197.180000   2011.000000     10.000000   \n",
       "max       48.000000     15.810000    359.990000   2012.000000     12.000000   \n",
       "\n",
       "                dia       horsObs           wp1  \n",
       "count  93672.000000  93672.000000  93672.000000  \n",
       "mean      15.695491      5.998463      0.251717  \n",
       "std        8.787027      6.000032      0.217258  \n",
       "min        1.000000      0.000000      0.000000  \n",
       "25%        8.000000      0.000000      0.080000  \n",
       "50%       16.000000      0.000000      0.251717  \n",
       "75%       23.000000     12.000000      0.316000  \n",
       "max       31.000000     12.000000      0.947000  "
      ]
     },
     "execution_count": 16,
     "metadata": {},
     "output_type": "execute_result"
    }
   ],
   "source": [
    "df.describe()"
   ]
  },
  {
   "cell_type": "markdown",
   "metadata": {},
   "source": [
    "## Correlación entre variables"
   ]
  },
  {
   "cell_type": "code",
   "execution_count": 17,
   "metadata": {},
   "outputs": [
    {
     "data": {
      "text/html": [
       "<div>\n",
       "<style scoped>\n",
       "    .dataframe tbody tr th:only-of-type {\n",
       "        vertical-align: middle;\n",
       "    }\n",
       "\n",
       "    .dataframe tbody tr th {\n",
       "        vertical-align: top;\n",
       "    }\n",
       "\n",
       "    .dataframe thead th {\n",
       "        text-align: right;\n",
       "    }\n",
       "</style>\n",
       "<table border=\"1\" class=\"dataframe\">\n",
       "  <thead>\n",
       "    <tr style=\"text-align: right;\">\n",
       "      <th></th>\n",
       "      <th>hors</th>\n",
       "      <th>ws</th>\n",
       "      <th>wd</th>\n",
       "      <th>anno</th>\n",
       "      <th>mes</th>\n",
       "      <th>dia</th>\n",
       "      <th>horsObs</th>\n",
       "      <th>wp1</th>\n",
       "    </tr>\n",
       "  </thead>\n",
       "  <tbody>\n",
       "    <tr>\n",
       "      <th>hors</th>\n",
       "      <td>1.000000</td>\n",
       "      <td>-0.017601</td>\n",
       "      <td>-0.006819</td>\n",
       "      <td>0.084917</td>\n",
       "      <td>-0.028614</td>\n",
       "      <td>-0.001173</td>\n",
       "      <td>0.000133</td>\n",
       "      <td>0.004997</td>\n",
       "    </tr>\n",
       "    <tr>\n",
       "      <th>ws</th>\n",
       "      <td>-0.017601</td>\n",
       "      <td>1.000000</td>\n",
       "      <td>-0.159404</td>\n",
       "      <td>-0.000383</td>\n",
       "      <td>-0.012811</td>\n",
       "      <td>0.021739</td>\n",
       "      <td>-0.005537</td>\n",
       "      <td>0.559903</td>\n",
       "    </tr>\n",
       "    <tr>\n",
       "      <th>wd</th>\n",
       "      <td>-0.006819</td>\n",
       "      <td>-0.159404</td>\n",
       "      <td>1.000000</td>\n",
       "      <td>-0.024264</td>\n",
       "      <td>-0.022562</td>\n",
       "      <td>0.041353</td>\n",
       "      <td>0.006862</td>\n",
       "      <td>-0.151513</td>\n",
       "    </tr>\n",
       "    <tr>\n",
       "      <th>anno</th>\n",
       "      <td>0.084917</td>\n",
       "      <td>-0.000383</td>\n",
       "      <td>-0.024264</td>\n",
       "      <td>1.000000</td>\n",
       "      <td>-0.454270</td>\n",
       "      <td>-0.012326</td>\n",
       "      <td>-0.000029</td>\n",
       "      <td>0.091160</td>\n",
       "    </tr>\n",
       "    <tr>\n",
       "      <th>mes</th>\n",
       "      <td>-0.028614</td>\n",
       "      <td>-0.012811</td>\n",
       "      <td>-0.022562</td>\n",
       "      <td>-0.454270</td>\n",
       "      <td>1.000000</td>\n",
       "      <td>0.008826</td>\n",
       "      <td>-0.000323</td>\n",
       "      <td>-0.037066</td>\n",
       "    </tr>\n",
       "    <tr>\n",
       "      <th>dia</th>\n",
       "      <td>-0.001173</td>\n",
       "      <td>0.021739</td>\n",
       "      <td>0.041353</td>\n",
       "      <td>-0.012326</td>\n",
       "      <td>0.008826</td>\n",
       "      <td>1.000000</td>\n",
       "      <td>-0.000519</td>\n",
       "      <td>-0.004494</td>\n",
       "    </tr>\n",
       "    <tr>\n",
       "      <th>horsObs</th>\n",
       "      <td>0.000133</td>\n",
       "      <td>-0.005537</td>\n",
       "      <td>0.006862</td>\n",
       "      <td>-0.000029</td>\n",
       "      <td>-0.000323</td>\n",
       "      <td>-0.000519</td>\n",
       "      <td>1.000000</td>\n",
       "      <td>-0.003028</td>\n",
       "    </tr>\n",
       "    <tr>\n",
       "      <th>wp1</th>\n",
       "      <td>0.004997</td>\n",
       "      <td>0.559903</td>\n",
       "      <td>-0.151513</td>\n",
       "      <td>0.091160</td>\n",
       "      <td>-0.037066</td>\n",
       "      <td>-0.004494</td>\n",
       "      <td>-0.003028</td>\n",
       "      <td>1.000000</td>\n",
       "    </tr>\n",
       "  </tbody>\n",
       "</table>\n",
       "</div>"
      ],
      "text/plain": [
       "             hors        ws        wd      anno       mes       dia   horsObs  \\\n",
       "hors     1.000000 -0.017601 -0.006819  0.084917 -0.028614 -0.001173  0.000133   \n",
       "ws      -0.017601  1.000000 -0.159404 -0.000383 -0.012811  0.021739 -0.005537   \n",
       "wd      -0.006819 -0.159404  1.000000 -0.024264 -0.022562  0.041353  0.006862   \n",
       "anno     0.084917 -0.000383 -0.024264  1.000000 -0.454270 -0.012326 -0.000029   \n",
       "mes     -0.028614 -0.012811 -0.022562 -0.454270  1.000000  0.008826 -0.000323   \n",
       "dia     -0.001173  0.021739  0.041353 -0.012326  0.008826  1.000000 -0.000519   \n",
       "horsObs  0.000133 -0.005537  0.006862 -0.000029 -0.000323 -0.000519  1.000000   \n",
       "wp1      0.004997  0.559903 -0.151513  0.091160 -0.037066 -0.004494 -0.003028   \n",
       "\n",
       "              wp1  \n",
       "hors     0.004997  \n",
       "ws       0.559903  \n",
       "wd      -0.151513  \n",
       "anno     0.091160  \n",
       "mes     -0.037066  \n",
       "dia     -0.004494  \n",
       "horsObs -0.003028  \n",
       "wp1      1.000000  "
      ]
     },
     "execution_count": 17,
     "metadata": {},
     "output_type": "execute_result"
    }
   ],
   "source": [
    "df.corr()"
   ]
  },
  {
   "cell_type": "code",
   "execution_count": 18,
   "metadata": {},
   "outputs": [
    {
     "data": {
      "text/html": [
       "<div>\n",
       "<style scoped>\n",
       "    .dataframe tbody tr th:only-of-type {\n",
       "        vertical-align: middle;\n",
       "    }\n",
       "\n",
       "    .dataframe tbody tr th {\n",
       "        vertical-align: top;\n",
       "    }\n",
       "\n",
       "    .dataframe thead th {\n",
       "        text-align: right;\n",
       "    }\n",
       "</style>\n",
       "<table border=\"1\" class=\"dataframe\">\n",
       "  <thead>\n",
       "    <tr style=\"text-align: right;\">\n",
       "      <th></th>\n",
       "      <th>ws</th>\n",
       "      <th>wd</th>\n",
       "      <th>anno</th>\n",
       "      <th>mes</th>\n",
       "      <th>wp1</th>\n",
       "    </tr>\n",
       "  </thead>\n",
       "  <tbody>\n",
       "    <tr>\n",
       "      <th>0</th>\n",
       "      <td>2.47</td>\n",
       "      <td>108.68</td>\n",
       "      <td>2009</td>\n",
       "      <td>7</td>\n",
       "      <td>0.085</td>\n",
       "    </tr>\n",
       "    <tr>\n",
       "      <th>1</th>\n",
       "      <td>2.40</td>\n",
       "      <td>114.31</td>\n",
       "      <td>2009</td>\n",
       "      <td>7</td>\n",
       "      <td>0.020</td>\n",
       "    </tr>\n",
       "    <tr>\n",
       "      <th>2</th>\n",
       "      <td>2.51</td>\n",
       "      <td>118.71</td>\n",
       "      <td>2009</td>\n",
       "      <td>7</td>\n",
       "      <td>0.060</td>\n",
       "    </tr>\n",
       "    <tr>\n",
       "      <th>3</th>\n",
       "      <td>2.73</td>\n",
       "      <td>120.86</td>\n",
       "      <td>2009</td>\n",
       "      <td>7</td>\n",
       "      <td>0.045</td>\n",
       "    </tr>\n",
       "    <tr>\n",
       "      <th>4</th>\n",
       "      <td>2.93</td>\n",
       "      <td>120.13</td>\n",
       "      <td>2009</td>\n",
       "      <td>7</td>\n",
       "      <td>0.035</td>\n",
       "    </tr>\n",
       "  </tbody>\n",
       "</table>\n",
       "</div>"
      ],
      "text/plain": [
       "     ws      wd  anno  mes    wp1\n",
       "0  2.47  108.68  2009    7  0.085\n",
       "1  2.40  114.31  2009    7  0.020\n",
       "2  2.51  118.71  2009    7  0.060\n",
       "3  2.73  120.86  2009    7  0.045\n",
       "4  2.93  120.13  2009    7  0.035"
      ]
     },
     "execution_count": 18,
     "metadata": {},
     "output_type": "execute_result"
    }
   ],
   "source": [
    "df.drop(['dia','horsObs','hors'], axis=1, inplace=True)\n",
    "df.head(5)"
   ]
  },
  {
   "cell_type": "code",
   "execution_count": 19,
   "metadata": {},
   "outputs": [
    {
     "data": {
      "text/html": [
       "<div>\n",
       "<style scoped>\n",
       "    .dataframe tbody tr th:only-of-type {\n",
       "        vertical-align: middle;\n",
       "    }\n",
       "\n",
       "    .dataframe tbody tr th {\n",
       "        vertical-align: top;\n",
       "    }\n",
       "\n",
       "    .dataframe thead th {\n",
       "        text-align: right;\n",
       "    }\n",
       "</style>\n",
       "<table border=\"1\" class=\"dataframe\">\n",
       "  <thead>\n",
       "    <tr style=\"text-align: right;\">\n",
       "      <th></th>\n",
       "      <th>ws</th>\n",
       "      <th>wd</th>\n",
       "      <th>anno</th>\n",
       "      <th>mes</th>\n",
       "      <th>wp1</th>\n",
       "    </tr>\n",
       "  </thead>\n",
       "  <tbody>\n",
       "    <tr>\n",
       "      <th>ws</th>\n",
       "      <td>1.000000</td>\n",
       "      <td>-0.159404</td>\n",
       "      <td>-0.000383</td>\n",
       "      <td>-0.012811</td>\n",
       "      <td>0.559903</td>\n",
       "    </tr>\n",
       "    <tr>\n",
       "      <th>wd</th>\n",
       "      <td>-0.159404</td>\n",
       "      <td>1.000000</td>\n",
       "      <td>-0.024264</td>\n",
       "      <td>-0.022562</td>\n",
       "      <td>-0.151513</td>\n",
       "    </tr>\n",
       "    <tr>\n",
       "      <th>anno</th>\n",
       "      <td>-0.000383</td>\n",
       "      <td>-0.024264</td>\n",
       "      <td>1.000000</td>\n",
       "      <td>-0.454270</td>\n",
       "      <td>0.091160</td>\n",
       "    </tr>\n",
       "    <tr>\n",
       "      <th>mes</th>\n",
       "      <td>-0.012811</td>\n",
       "      <td>-0.022562</td>\n",
       "      <td>-0.454270</td>\n",
       "      <td>1.000000</td>\n",
       "      <td>-0.037066</td>\n",
       "    </tr>\n",
       "    <tr>\n",
       "      <th>wp1</th>\n",
       "      <td>0.559903</td>\n",
       "      <td>-0.151513</td>\n",
       "      <td>0.091160</td>\n",
       "      <td>-0.037066</td>\n",
       "      <td>1.000000</td>\n",
       "    </tr>\n",
       "  </tbody>\n",
       "</table>\n",
       "</div>"
      ],
      "text/plain": [
       "            ws        wd      anno       mes       wp1\n",
       "ws    1.000000 -0.159404 -0.000383 -0.012811  0.559903\n",
       "wd   -0.159404  1.000000 -0.024264 -0.022562 -0.151513\n",
       "anno -0.000383 -0.024264  1.000000 -0.454270  0.091160\n",
       "mes  -0.012811 -0.022562 -0.454270  1.000000 -0.037066\n",
       "wp1   0.559903 -0.151513  0.091160 -0.037066  1.000000"
      ]
     },
     "execution_count": 19,
     "metadata": {},
     "output_type": "execute_result"
    }
   ],
   "source": [
    "df.corr()"
   ]
  },
  {
   "cell_type": "code",
   "execution_count": 20,
   "metadata": {
    "scrolled": true
   },
   "outputs": [
    {
     "data": {
      "image/png": "[encoded data removed]",
      "text/plain": [
       "<Figure size 432x288 with 2 Axes>"
      ]
     },
     "metadata": {
      "needs_background": "light"
     },
     "output_type": "display_data"
    }
   ],
   "source": [
    "corr = df.set_index(\"mes\").corr()\n",
    "sm.graphics.plot_corr(corr, xnames=list(corr.columns))\n",
    "plt.show()"
   ]
  },
  {
   "cell_type": "code",
   "execution_count": 21,
   "metadata": {},
   "outputs": [
    {
     "data": {
      "text/html": [
       "<div>\n",
       "<style scoped>\n",
       "    .dataframe tbody tr th:only-of-type {\n",
       "        vertical-align: middle;\n",
       "    }\n",
       "\n",
       "    .dataframe tbody tr th {\n",
       "        vertical-align: top;\n",
       "    }\n",
       "\n",
       "    .dataframe thead th {\n",
       "        text-align: right;\n",
       "    }\n",
       "</style>\n",
       "<table border=\"1\" class=\"dataframe\">\n",
       "  <thead>\n",
       "    <tr style=\"text-align: right;\">\n",
       "      <th></th>\n",
       "      <th>ws</th>\n",
       "      <th>wd</th>\n",
       "      <th>anno</th>\n",
       "      <th>mes</th>\n",
       "      <th>wp1</th>\n",
       "    </tr>\n",
       "  </thead>\n",
       "  <tbody>\n",
       "  </tbody>\n",
       "</table>\n",
       "</div>"
      ],
      "text/plain": [
       "Empty DataFrame\n",
       "Columns: [ws, wd, anno, mes, wp1]\n",
       "Index: []"
      ]
     },
     "execution_count": 21,
     "metadata": {},
     "output_type": "execute_result"
    }
   ],
   "source": [
    "nan_rows = df[df['wp1'].isnull()] \n",
    "nan_rows"
   ]
  },
  {
   "cell_type": "code",
   "execution_count": 25,
   "metadata": {},
   "outputs": [
    {
     "data": {
      "text/html": [
       "<div>\n",
       "<style scoped>\n",
       "    .dataframe tbody tr th:only-of-type {\n",
       "        vertical-align: middle;\n",
       "    }\n",
       "\n",
       "    .dataframe tbody tr th {\n",
       "        vertical-align: top;\n",
       "    }\n",
       "\n",
       "    .dataframe thead th {\n",
       "        text-align: right;\n",
       "    }\n",
       "</style>\n",
       "<table border=\"1\" class=\"dataframe\">\n",
       "  <thead>\n",
       "    <tr style=\"text-align: right;\">\n",
       "      <th></th>\n",
       "      <th>ws</th>\n",
       "      <th>wd</th>\n",
       "      <th>wp1</th>\n",
       "    </tr>\n",
       "  </thead>\n",
       "  <tbody>\n",
       "    <tr>\n",
       "      <th>0</th>\n",
       "      <td>2.47</td>\n",
       "      <td>108.68</td>\n",
       "      <td>0.085</td>\n",
       "    </tr>\n",
       "    <tr>\n",
       "      <th>1</th>\n",
       "      <td>2.40</td>\n",
       "      <td>114.31</td>\n",
       "      <td>0.020</td>\n",
       "    </tr>\n",
       "    <tr>\n",
       "      <th>2</th>\n",
       "      <td>2.51</td>\n",
       "      <td>118.71</td>\n",
       "      <td>0.060</td>\n",
       "    </tr>\n",
       "    <tr>\n",
       "      <th>3</th>\n",
       "      <td>2.73</td>\n",
       "      <td>120.86</td>\n",
       "      <td>0.045</td>\n",
       "    </tr>\n",
       "    <tr>\n",
       "      <th>4</th>\n",
       "      <td>2.93</td>\n",
       "      <td>120.13</td>\n",
       "      <td>0.035</td>\n",
       "    </tr>\n",
       "  </tbody>\n",
       "</table>\n",
       "</div>"
      ],
      "text/plain": [
       "     ws      wd    wp1\n",
       "0  2.47  108.68  0.085\n",
       "1  2.40  114.31  0.020\n",
       "2  2.51  118.71  0.060\n",
       "3  2.73  120.86  0.045\n",
       "4  2.93  120.13  0.035"
      ]
     },
     "execution_count": 25,
     "metadata": {},
     "output_type": "execute_result"
    }
   ],
   "source": [
    "df2=df\n",
    "#df2.drop(['anno','mes'], axis=1, inplace=True)\n",
    "df2.head()"
   ]
  },
  {
   "cell_type": "markdown",
   "metadata": {},
   "source": [
    "## Outliers"
   ]
  },
  {
   "cell_type": "code",
   "execution_count": 99,
   "metadata": {},
   "outputs": [
    {
     "data": {
      "image/png": "[encoded data removed]",
      "text/plain": [
       "<Figure size 432x288 with 1 Axes>"
      ]
     },
     "execution_count": 99,
     "metadata": {},
     "output_type": "execute_result"
    },
    {
     "data": {
      "image/png": "[encoded data removed]",
      "text/plain": [
       "<Figure size 432x288 with 1 Axes>"
      ]
     },
     "metadata": {
      "needs_background": "light"
     },
     "output_type": "display_data"
    }
   ],
   "source": [
    "df.wp1.plot().get_figure()"
   ]
  },
  {
   "cell_type": "code",
   "execution_count": 72,
   "metadata": {},
   "outputs": [],
   "source": [
    "def get_remov_outliers(y):\n",
    "    #y = data['date']\n",
    "    removed_outliers = y.between(y.quantile(.05), y.quantile(.95))\n",
    "    \n",
    "    print(str(y[removed_outliers].size) + \"/\" + str(y.size) + \" data points remain.\") \n",
    "    print(removed_outliers.value_counts())\n",
    "    \n",
    "    \n",
    "    return removed_outliers"
   ]
  },
  {
   "cell_type": "code",
   "execution_count": 73,
   "metadata": {},
   "outputs": [],
   "source": [
    "def del_ouliers (rem_outl, df):\n",
    "    index_names = df[~rem_outl].index # INVERT removed_outliers!!\n",
    "    print(index_names) # The resulting 20 dates to drop.\n",
    "    df.drop(index_names, inplace=True)"
   ]
  },
  {
   "cell_type": "code",
   "execution_count": 77,
   "metadata": {},
   "outputs": [
    {
     "name": "stdout",
     "output_type": "stream",
     "text": [
      "60799/60799 data points remain.\n",
      "True    60799\n",
      "Name: mes, dtype: int64\n",
      "Int64Index([], dtype='int64')\n",
      "<class 'pandas.core.frame.DataFrame'>\n",
      "Int64Index: 60799 entries, 0 to 104795\n",
      "Data columns (total 6 columns):\n",
      " #   Column  Non-Null Count  Dtype  \n",
      "---  ------  --------------  -----  \n",
      " 0   hors    60799 non-null  int64  \n",
      " 1   ws      60799 non-null  float64\n",
      " 2   wd      60799 non-null  float64\n",
      " 3   anno    60799 non-null  int64  \n",
      " 4   mes     60799 non-null  int64  \n",
      " 5   wp1     60799 non-null  float64\n",
      "dtypes: float64(3), int64(3)\n",
      "memory usage: 3.2 MB\n"
     ]
    }
   ],
   "source": [
    "removed_outliers = get_remov_outliers(df['mes'])\n",
    "del_ouliers(removed_outliers, df)\n",
    "df.info()"
   ]
  },
  {
   "cell_type": "code",
   "execution_count": 120,
   "metadata": {},
   "outputs": [],
   "source": [
    "\n",
    "df.to_csv('/Users/manuelmoya/Documents/USACH/2019-1er/Tesis/1.Desarrollo/05.AnalisisDatos/Datos/wf1_train_fin.csv')\n"
   ]
  },
  {
   "cell_type": "code",
   "execution_count": 121,
   "metadata": {},
   "outputs": [
    {
     "data": {
      "image/png": "[encoded data removed]",
      "text/plain": [
       "<Figure size 432x288 with 1 Axes>"
      ]
     },
     "execution_count": 121,
     "metadata": {},
     "output_type": "execute_result"
    },
    {
     "data": {
      "image/png": "[encoded data removed]",
      "text/plain": [
       "<Figure size 432x288 with 1 Axes>"
      ]
     },
     "metadata": {
      "needs_background": "light"
     },
     "output_type": "display_data"
    }
   ],
   "source": [
    "df.wp1.plot().get_figure()"
   ]
  },
  {
   "cell_type": "code",
   "execution_count": null,
   "metadata": {},
   "outputs": [],
   "source": []
  }
 ],
 "metadata": {
  "kernelspec": {
   "display_name": "Python 3",
   "language": "python",
   "name": "python3"
  },
  "language_info": {
   "codemirror_mode": {
    "name": "ipython",
    "version": 3
   },
   "file_extension": ".py",
   "mimetype": "text/x-python",
   "name": "python",
   "nbconvert_exporter": "python",
   "pygments_lexer": "ipython3",
   "version": "3.6.8"
  }
 },
 "nbformat": 4,
 "nbformat_minor": 2
}
