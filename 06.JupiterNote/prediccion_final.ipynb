{
 "cells": [
  {
   "cell_type": "markdown",
   "metadata": {},
   "source": [
    "# Predicción Final"
   ]
  },
  {
   "cell_type": "code",
   "execution_count": 167,
   "metadata": {},
   "outputs": [],
   "source": [
    "# Imports necesarios\n",
    "import pandas as pd\n",
    "import numpy as np\n",
    "import matplotlib.pyplot as plt\n",
    "plt.rcParams['figure.figsize'] = (15, 8)\n",
    "plt.style.use('ggplot')\n",
    "import statsmodels.api as sm\n",
    "\n",
    "from sklearn.model_selection import train_test_split\n",
    "\n",
    "from keras.models import load_model\n"
   ]
  },
  {
   "cell_type": "markdown",
   "metadata": {},
   "source": [
    "## Cargar grupo de datos de pruebas"
   ]
  },
  {
   "cell_type": "code",
   "execution_count": 168,
   "metadata": {},
   "outputs": [
    {
     "data": {
      "text/html": [
       "<div>\n",
       "<style scoped>\n",
       "    .dataframe tbody tr th:only-of-type {\n",
       "        vertical-align: middle;\n",
       "    }\n",
       "\n",
       "    .dataframe tbody tr th {\n",
       "        vertical-align: top;\n",
       "    }\n",
       "\n",
       "    .dataframe thead th {\n",
       "        text-align: right;\n",
       "    }\n",
       "</style>\n",
       "<table border=\"1\" class=\"dataframe\">\n",
       "  <thead>\n",
       "    <tr style=\"text-align: right;\">\n",
       "      <th></th>\n",
       "      <th>ws</th>\n",
       "      <th>wp1t-44</th>\n",
       "      <th>wp1t-43</th>\n",
       "      <th>wp1t-42</th>\n",
       "      <th>wp1t-41</th>\n",
       "      <th>wp1t-40</th>\n",
       "      <th>wp1t-39</th>\n",
       "      <th>wp1t-38</th>\n",
       "      <th>wp1t-37</th>\n",
       "      <th>wp1t-36</th>\n",
       "      <th>...</th>\n",
       "      <th>wp1t-9</th>\n",
       "      <th>wp1t-8</th>\n",
       "      <th>wp1t-7</th>\n",
       "      <th>wp1t-6</th>\n",
       "      <th>wp1t-5</th>\n",
       "      <th>wp1t-4</th>\n",
       "      <th>wp1t-3</th>\n",
       "      <th>wp1t-2</th>\n",
       "      <th>wp1t-1</th>\n",
       "      <th>wp1</th>\n",
       "    </tr>\n",
       "  </thead>\n",
       "  <tbody>\n",
       "    <tr>\n",
       "      <th>4</th>\n",
       "      <td>2.93</td>\n",
       "      <td>0.25423</td>\n",
       "      <td>0.254231</td>\n",
       "      <td>0.25423</td>\n",
       "      <td>0.25423</td>\n",
       "      <td>0.254229</td>\n",
       "      <td>0.254228</td>\n",
       "      <td>0.254228</td>\n",
       "      <td>0.254229</td>\n",
       "      <td>0.254228</td>\n",
       "      <td>...</td>\n",
       "      <td>0.254221</td>\n",
       "      <td>0.25422</td>\n",
       "      <td>0.25422</td>\n",
       "      <td>0.25422</td>\n",
       "      <td>0.254219</td>\n",
       "      <td>0.254219</td>\n",
       "      <td>0.254219</td>\n",
       "      <td>0.254218</td>\n",
       "      <td>0.254218</td>\n",
       "      <td>0.035</td>\n",
       "    </tr>\n",
       "    <tr>\n",
       "      <th>5</th>\n",
       "      <td>2.96</td>\n",
       "      <td>0.25423</td>\n",
       "      <td>0.254231</td>\n",
       "      <td>0.25423</td>\n",
       "      <td>0.25423</td>\n",
       "      <td>0.254229</td>\n",
       "      <td>0.254228</td>\n",
       "      <td>0.254228</td>\n",
       "      <td>0.254229</td>\n",
       "      <td>0.254228</td>\n",
       "      <td>...</td>\n",
       "      <td>0.254221</td>\n",
       "      <td>0.25422</td>\n",
       "      <td>0.25422</td>\n",
       "      <td>0.25422</td>\n",
       "      <td>0.254219</td>\n",
       "      <td>0.254219</td>\n",
       "      <td>0.254219</td>\n",
       "      <td>0.254218</td>\n",
       "      <td>0.035000</td>\n",
       "      <td>0.005</td>\n",
       "    </tr>\n",
       "    <tr>\n",
       "      <th>6</th>\n",
       "      <td>2.81</td>\n",
       "      <td>0.25423</td>\n",
       "      <td>0.254231</td>\n",
       "      <td>0.25423</td>\n",
       "      <td>0.25423</td>\n",
       "      <td>0.254229</td>\n",
       "      <td>0.254228</td>\n",
       "      <td>0.254228</td>\n",
       "      <td>0.254229</td>\n",
       "      <td>0.254228</td>\n",
       "      <td>...</td>\n",
       "      <td>0.254221</td>\n",
       "      <td>0.25422</td>\n",
       "      <td>0.25422</td>\n",
       "      <td>0.25422</td>\n",
       "      <td>0.254219</td>\n",
       "      <td>0.254219</td>\n",
       "      <td>0.254219</td>\n",
       "      <td>0.035000</td>\n",
       "      <td>0.005000</td>\n",
       "      <td>0.000</td>\n",
       "    </tr>\n",
       "    <tr>\n",
       "      <th>7</th>\n",
       "      <td>2.73</td>\n",
       "      <td>0.25423</td>\n",
       "      <td>0.254231</td>\n",
       "      <td>0.25423</td>\n",
       "      <td>0.25423</td>\n",
       "      <td>0.254229</td>\n",
       "      <td>0.254228</td>\n",
       "      <td>0.254228</td>\n",
       "      <td>0.254229</td>\n",
       "      <td>0.254228</td>\n",
       "      <td>...</td>\n",
       "      <td>0.254221</td>\n",
       "      <td>0.25422</td>\n",
       "      <td>0.25422</td>\n",
       "      <td>0.25422</td>\n",
       "      <td>0.254219</td>\n",
       "      <td>0.254219</td>\n",
       "      <td>0.035000</td>\n",
       "      <td>0.005000</td>\n",
       "      <td>0.000000</td>\n",
       "      <td>0.000</td>\n",
       "    </tr>\n",
       "    <tr>\n",
       "      <th>8</th>\n",
       "      <td>2.87</td>\n",
       "      <td>0.25423</td>\n",
       "      <td>0.254231</td>\n",
       "      <td>0.25423</td>\n",
       "      <td>0.25423</td>\n",
       "      <td>0.254229</td>\n",
       "      <td>0.254228</td>\n",
       "      <td>0.254228</td>\n",
       "      <td>0.254229</td>\n",
       "      <td>0.254228</td>\n",
       "      <td>...</td>\n",
       "      <td>0.254221</td>\n",
       "      <td>0.25422</td>\n",
       "      <td>0.25422</td>\n",
       "      <td>0.25422</td>\n",
       "      <td>0.254219</td>\n",
       "      <td>0.035000</td>\n",
       "      <td>0.005000</td>\n",
       "      <td>0.000000</td>\n",
       "      <td>0.000000</td>\n",
       "      <td>0.010</td>\n",
       "    </tr>\n",
       "  </tbody>\n",
       "</table>\n",
       "<p>5 rows × 46 columns</p>\n",
       "</div>"
      ],
      "text/plain": [
       "     ws  wp1t-44   wp1t-43  wp1t-42  wp1t-41   wp1t-40   wp1t-39   wp1t-38  \\\n",
       "4  2.93  0.25423  0.254231  0.25423  0.25423  0.254229  0.254228  0.254228   \n",
       "5  2.96  0.25423  0.254231  0.25423  0.25423  0.254229  0.254228  0.254228   \n",
       "6  2.81  0.25423  0.254231  0.25423  0.25423  0.254229  0.254228  0.254228   \n",
       "7  2.73  0.25423  0.254231  0.25423  0.25423  0.254229  0.254228  0.254228   \n",
       "8  2.87  0.25423  0.254231  0.25423  0.25423  0.254229  0.254228  0.254228   \n",
       "\n",
       "    wp1t-37   wp1t-36  ...    wp1t-9   wp1t-8   wp1t-7   wp1t-6    wp1t-5  \\\n",
       "4  0.254229  0.254228  ...  0.254221  0.25422  0.25422  0.25422  0.254219   \n",
       "5  0.254229  0.254228  ...  0.254221  0.25422  0.25422  0.25422  0.254219   \n",
       "6  0.254229  0.254228  ...  0.254221  0.25422  0.25422  0.25422  0.254219   \n",
       "7  0.254229  0.254228  ...  0.254221  0.25422  0.25422  0.25422  0.254219   \n",
       "8  0.254229  0.254228  ...  0.254221  0.25422  0.25422  0.25422  0.254219   \n",
       "\n",
       "     wp1t-4    wp1t-3    wp1t-2    wp1t-1    wp1  \n",
       "4  0.254219  0.254219  0.254218  0.254218  0.035  \n",
       "5  0.254219  0.254219  0.254218  0.035000  0.005  \n",
       "6  0.254219  0.254219  0.035000  0.005000  0.000  \n",
       "7  0.254219  0.035000  0.005000  0.000000  0.000  \n",
       "8  0.035000  0.005000  0.000000  0.000000  0.010  \n",
       "\n",
       "[5 rows x 46 columns]"
      ]
     },
     "execution_count": 168,
     "metadata": {},
     "output_type": "execute_result"
    }
   ],
   "source": [
    "np.random.seed(1)\n",
    "\n",
    "#cargamos los datos de entrada\n",
    "data = pd.read_csv(\"/Users/manuelmoya/Documents/USACH/2019-1er/Tesis/1.Desarrollo/05.AnalisisDatos/Datos/wf1_train_fin_serie.csv\", index_col=0)\n",
    "#veamos cuantas dimensiones y registros contiene\n",
    "#data.shape\n",
    "# Ver los 1ros registros\n",
    "data.head()\n"
   ]
  },
  {
   "cell_type": "markdown",
   "metadata": {},
   "source": [
    "## Separar pruebas y test"
   ]
  },
  {
   "cell_type": "code",
   "execution_count": 169,
   "metadata": {},
   "outputs": [],
   "source": [
    "data_train, data_test = train_test_split(data,test_size=0.2, random_state=200)\n",
    "\n",
    "dataset_test = data_test.values\n",
    "x_test = dataset_test[:,0:45]\n",
    "y_test = dataset_test[:,45]"
   ]
  },
  {
   "cell_type": "code",
   "execution_count": 170,
   "metadata": {},
   "outputs": [
    {
     "data": {
      "text/plain": [
       "19220"
      ]
     },
     "execution_count": 170,
     "metadata": {},
     "output_type": "execute_result"
    }
   ],
   "source": [
    "len(x_test)"
   ]
  },
  {
   "cell_type": "code",
   "execution_count": 171,
   "metadata": {},
   "outputs": [],
   "source": [
    "df_pred = pd.DataFrame(data=x_test)\n",
    "#df_pred\n",
    "df_pred.to_csv('/Users/manuelmoya/Documents/USACH/2019-1er/Tesis/1.Desarrollo/05.AnalisisDatos/Datos/pred_final_test.csv')\n",
    "\n",
    "\n"
   ]
  },
  {
   "cell_type": "markdown",
   "metadata": {},
   "source": [
    "## Seleccionar 48 regristros"
   ]
  },
  {
   "cell_type": "code",
   "execution_count": 197,
   "metadata": {},
   "outputs": [],
   "source": [
    "#x_test_fin = x_test[10000:10048]\n",
    "#y_test_fin = y_test[10000:10048]\n",
    "\n",
    "#x_test_fin = x_test[13372:13420]\n",
    "#y_test_fin = y_test[13372:13420]\n",
    "\n",
    "\n",
    "x_test_fin = x_test[100:148]\n",
    "y_test_fin = y_test[100:148]\n"
   ]
  },
  {
   "cell_type": "code",
   "execution_count": 198,
   "metadata": {},
   "outputs": [
    {
     "data": {
      "text/plain": [
       "array([[3.29e+00, 1.80e-01, 1.71e-01, ..., 6.00e-02, 6.00e-02, 6.00e-02],\n",
       "       [6.93e+00, 4.81e-01, 4.41e-01, ..., 2.21e-01, 2.41e-01, 2.51e-01],\n",
       "       [4.30e+00, 9.07e-01, 9.22e-01, ..., 6.52e-01, 4.21e-01, 3.91e-01],\n",
       "       ...,\n",
       "       [5.77e+00, 2.96e-01, 2.76e-01, ..., 2.26e-01, 2.54e-01, 2.81e-01],\n",
       "       [3.63e+00, 5.00e-02, 6.00e-02, ..., 1.25e-01, 1.20e-01, 1.25e-01],\n",
       "       [4.48e+00, 4.00e-03, 4.00e-03, ..., 3.83e-01, 3.76e-01, 3.69e-01]])"
      ]
     },
     "execution_count": 198,
     "metadata": {},
     "output_type": "execute_result"
    }
   ],
   "source": [
    "x_test_fin"
   ]
  },
  {
   "cell_type": "code",
   "execution_count": 199,
   "metadata": {},
   "outputs": [
    {
     "data": {
      "text/plain": [
       "array([[3.29e+00, 1.80e-01, 1.71e-01, ..., 6.00e-02, 6.00e-02, 6.00e-02],\n",
       "       [6.93e+00, 4.81e-01, 4.41e-01, ..., 2.21e-01, 2.41e-01, 2.51e-01],\n",
       "       [4.30e+00, 9.07e-01, 9.22e-01, ..., 6.52e-01, 4.21e-01, 3.91e-01],\n",
       "       ...,\n",
       "       [5.77e+00, 2.96e-01, 2.76e-01, ..., 2.26e-01, 2.54e-01, 2.81e-01],\n",
       "       [3.63e+00, 5.00e-02, 6.00e-02, ..., 1.25e-01, 1.20e-01, 1.25e-01],\n",
       "       [4.48e+00, 4.00e-03, 4.00e-03, ..., 3.83e-01, 3.76e-01, 3.69e-01]])"
      ]
     },
     "execution_count": 199,
     "metadata": {},
     "output_type": "execute_result"
    }
   ],
   "source": [
    "x_test_fin"
   ]
  },
  {
   "cell_type": "markdown",
   "metadata": {},
   "source": [
    "## Cargar Mejor Modelo"
   ]
  },
  {
   "cell_type": "code",
   "execution_count": 175,
   "metadata": {},
   "outputs": [],
   "source": [
    "# load the saved model\n",
    "best_model = load_model('best_model_lstm_06_270.h5')"
   ]
  },
  {
   "cell_type": "markdown",
   "metadata": {},
   "source": [
    "## Reshape datos de entrada"
   ]
  },
  {
   "cell_type": "code",
   "execution_count": 200,
   "metadata": {},
   "outputs": [
    {
     "data": {
      "text/plain": [
       "array([[[3.29e+00, 1.80e-01, 1.71e-01, ..., 6.00e-02, 6.00e-02,\n",
       "         6.00e-02]],\n",
       "\n",
       "       [[6.93e+00, 4.81e-01, 4.41e-01, ..., 2.21e-01, 2.41e-01,\n",
       "         2.51e-01]],\n",
       "\n",
       "       [[4.30e+00, 9.07e-01, 9.22e-01, ..., 6.52e-01, 4.21e-01,\n",
       "         3.91e-01]],\n",
       "\n",
       "       ...,\n",
       "\n",
       "       [[5.77e+00, 2.96e-01, 2.76e-01, ..., 2.26e-01, 2.54e-01,\n",
       "         2.81e-01]],\n",
       "\n",
       "       [[3.63e+00, 5.00e-02, 6.00e-02, ..., 1.25e-01, 1.20e-01,\n",
       "         1.25e-01]],\n",
       "\n",
       "       [[4.48e+00, 4.00e-03, 4.00e-03, ..., 3.83e-01, 3.76e-01,\n",
       "         3.69e-01]]])"
      ]
     },
     "execution_count": 200,
     "metadata": {},
     "output_type": "execute_result"
    }
   ],
   "source": [
    "data= np.array(x_test_fin)\n",
    "\n",
    "timesteps=1\n",
    "#reshape\n",
    "data48_re = data.reshape((data.shape[0], timesteps, data.shape[1]))\n",
    "data48 = data48_re\n",
    "data48"
   ]
  },
  {
   "cell_type": "code",
   "execution_count": 201,
   "metadata": {},
   "outputs": [],
   "source": [
    "#data48[0][0][0]"
   ]
  },
  {
   "cell_type": "markdown",
   "metadata": {},
   "source": [
    "## Hacer Predicción"
   ]
  },
  {
   "cell_type": "code",
   "execution_count": 202,
   "metadata": {},
   "outputs": [],
   "source": [
    "pred48=best_model.predict(data48)"
   ]
  },
  {
   "cell_type": "markdown",
   "metadata": {},
   "source": [
    "## Visualizar Data de Predicción"
   ]
  },
  {
   "cell_type": "code",
   "execution_count": 203,
   "metadata": {},
   "outputs": [
    {
     "name": "stdout",
     "output_type": "stream",
     "text": [
      "0.055996496\n",
      "0.27047598\n",
      "0.28363013\n",
      "0.075564705\n",
      "0.75390345\n",
      "0.04292853\n",
      "0.29158863\n",
      "0.7527774\n",
      "0.00073285896\n",
      "0.27492416\n",
      "0.8722406\n",
      "0.44915214\n",
      "0.83487207\n",
      "0.5757645\n",
      "0.29215768\n",
      "0.30451995\n",
      "0.021930015\n",
      "0.07053239\n",
      "0.09124374\n",
      "0.046443596\n",
      "0.0052558356\n",
      "0.1308604\n",
      "0.11379876\n",
      "0.7895567\n",
      "0.12426918\n",
      "0.09380936\n",
      "0.5240819\n",
      "0.03943714\n",
      "0.46186644\n",
      "0.15364854\n",
      "0.00073285896\n",
      "0.11332569\n",
      "0.29430214\n",
      "0.03776149\n",
      "0.22042899\n",
      "0.00073285896\n",
      "0.067364894\n",
      "0.3988576\n",
      "0.26803583\n",
      "0.05716217\n",
      "0.02771331\n",
      "0.5136041\n",
      "0.05349983\n",
      "0.08996955\n",
      "0.013994916\n",
      "0.3076339\n",
      "0.18290524\n",
      "0.40174547\n"
     ]
    }
   ],
   "source": [
    "pred_arr = []\n",
    "for x in pred48:\n",
    "    pred_arr.append(x[0])\n",
    "    print(x[0])"
   ]
  },
  {
   "cell_type": "markdown",
   "metadata": {},
   "source": [
    "## Graficar Predicción y ver su correlación con lo real"
   ]
  },
  {
   "cell_type": "code",
   "execution_count": 204,
   "metadata": {},
   "outputs": [
    {
     "data": {
      "image/png": "[encoded data removed]",
      "text/plain": [
       "<Figure size 1080x576 with 1 Axes>"
      ]
     },
     "metadata": {},
     "output_type": "display_data"
    }
   ],
   "source": [
    "pred_arr_num = np.array(pred_arr)\n",
    "\n",
    "corr = np.corrcoef(y_test_fin, pred_arr_num)\n",
    "\n",
    "plt.plot(y_test_fin, label =\"real\")\n",
    "plt.plot(pred_arr_num, label =\"predicción\")\n",
    "#plt.plot(trainPredictPlot, label =\"train pred\" )\n",
    "plt.title(\"Predicción Final. Correlación: %.2f \" % ( corr[1][0] * 100))\n",
    "plt.ylabel(\"Energia Generada\")\n",
    "plt.xlabel(\"Horizonte 48 horas\")\n",
    "plt.legend()\n",
    "plt.show()"
   ]
  },
  {
   "cell_type": "code",
   "execution_count": null,
   "metadata": {},
   "outputs": [],
   "source": []
  }
 ],
 "metadata": {
  "kernelspec": {
   "display_name": "Python 3",
   "language": "python",
   "name": "python3"
  },
  "language_info": {
   "codemirror_mode": {
    "name": "ipython",
    "version": 3
   },
   "file_extension": ".py",
   "mimetype": "text/x-python",
   "name": "python",
   "nbconvert_exporter": "python",
   "pygments_lexer": "ipython3",
   "version": "3.6.8"
  }
 },
 "nbformat": 4,
 "nbformat_minor": 2
}
