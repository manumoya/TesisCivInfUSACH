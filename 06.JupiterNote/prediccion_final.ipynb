{
 "cells": [
  {
   "cell_type": "markdown",
   "metadata": {},
   "source": [
    "# Predicción Final"
   ]
  },
  {
   "cell_type": "code",
   "execution_count": 1,
   "metadata": {},
   "outputs": [
    {
     "name": "stderr",
     "output_type": "stream",
     "text": [
      "Using TensorFlow backend.\n",
      "/anaconda3/lib/python3.6/site-packages/tensorflow/python/framework/dtypes.py:523: FutureWarning: Passing (type, 1) or '1type' as a synonym of type is deprecated; in a future version of numpy, it will be understood as (type, (1,)) / '(1,)type'.\n",
      "  _np_qint8 = np.dtype([(\"qint8\", np.int8, 1)])\n",
      "/anaconda3/lib/python3.6/site-packages/tensorflow/python/framework/dtypes.py:524: FutureWarning: Passing (type, 1) or '1type' as a synonym of type is deprecated; in a future version of numpy, it will be understood as (type, (1,)) / '(1,)type'.\n",
      "  _np_quint8 = np.dtype([(\"quint8\", np.uint8, 1)])\n",
      "/anaconda3/lib/python3.6/site-packages/tensorflow/python/framework/dtypes.py:525: FutureWarning: Passing (type, 1) or '1type' as a synonym of type is deprecated; in a future version of numpy, it will be understood as (type, (1,)) / '(1,)type'.\n",
      "  _np_qint16 = np.dtype([(\"qint16\", np.int16, 1)])\n",
      "/anaconda3/lib/python3.6/site-packages/tensorflow/python/framework/dtypes.py:526: FutureWarning: Passing (type, 1) or '1type' as a synonym of type is deprecated; in a future version of numpy, it will be understood as (type, (1,)) / '(1,)type'.\n",
      "  _np_quint16 = np.dtype([(\"quint16\", np.uint16, 1)])\n",
      "/anaconda3/lib/python3.6/site-packages/tensorflow/python/framework/dtypes.py:527: FutureWarning: Passing (type, 1) or '1type' as a synonym of type is deprecated; in a future version of numpy, it will be understood as (type, (1,)) / '(1,)type'.\n",
      "  _np_qint32 = np.dtype([(\"qint32\", np.int32, 1)])\n",
      "/anaconda3/lib/python3.6/site-packages/tensorflow/python/framework/dtypes.py:532: FutureWarning: Passing (type, 1) or '1type' as a synonym of type is deprecated; in a future version of numpy, it will be understood as (type, (1,)) / '(1,)type'.\n",
      "  np_resource = np.dtype([(\"resource\", np.ubyte, 1)])\n"
     ]
    }
   ],
   "source": [
    "# Imports necesarios\n",
    "import pandas as pd\n",
    "import numpy as np\n",
    "import matplotlib.pyplot as plt\n",
    "plt.rcParams['figure.figsize'] = (15, 8)\n",
    "plt.style.use('ggplot')\n",
    "import statsmodels.api as sm\n",
    "\n",
    "from sklearn.model_selection import train_test_split\n",
    "\n",
    "from keras.models import load_model\n"
   ]
  },
  {
   "cell_type": "markdown",
   "metadata": {},
   "source": [
    "## Cargar grupo de datos de pruebas"
   ]
  },
  {
   "cell_type": "code",
   "execution_count": 2,
   "metadata": {},
   "outputs": [
    {
     "data": {
      "text/html": [
       "<div>\n",
       "<style scoped>\n",
       "    .dataframe tbody tr th:only-of-type {\n",
       "        vertical-align: middle;\n",
       "    }\n",
       "\n",
       "    .dataframe tbody tr th {\n",
       "        vertical-align: top;\n",
       "    }\n",
       "\n",
       "    .dataframe thead th {\n",
       "        text-align: right;\n",
       "    }\n",
       "</style>\n",
       "<table border=\"1\" class=\"dataframe\">\n",
       "  <thead>\n",
       "    <tr style=\"text-align: right;\">\n",
       "      <th></th>\n",
       "      <th>ws</th>\n",
       "      <th>wp1t-44</th>\n",
       "      <th>wp1t-43</th>\n",
       "      <th>wp1t-42</th>\n",
       "      <th>wp1t-41</th>\n",
       "      <th>wp1t-40</th>\n",
       "      <th>wp1t-39</th>\n",
       "      <th>wp1t-38</th>\n",
       "      <th>wp1t-37</th>\n",
       "      <th>wp1t-36</th>\n",
       "      <th>...</th>\n",
       "      <th>wp1t-9</th>\n",
       "      <th>wp1t-8</th>\n",
       "      <th>wp1t-7</th>\n",
       "      <th>wp1t-6</th>\n",
       "      <th>wp1t-5</th>\n",
       "      <th>wp1t-4</th>\n",
       "      <th>wp1t-3</th>\n",
       "      <th>wp1t-2</th>\n",
       "      <th>wp1t-1</th>\n",
       "      <th>wp1</th>\n",
       "    </tr>\n",
       "  </thead>\n",
       "  <tbody>\n",
       "    <tr>\n",
       "      <th>4</th>\n",
       "      <td>2.93</td>\n",
       "      <td>0.25423</td>\n",
       "      <td>0.254231</td>\n",
       "      <td>0.25423</td>\n",
       "      <td>0.25423</td>\n",
       "      <td>0.254229</td>\n",
       "      <td>0.254228</td>\n",
       "      <td>0.254228</td>\n",
       "      <td>0.254229</td>\n",
       "      <td>0.254228</td>\n",
       "      <td>...</td>\n",
       "      <td>0.254221</td>\n",
       "      <td>0.25422</td>\n",
       "      <td>0.25422</td>\n",
       "      <td>0.25422</td>\n",
       "      <td>0.254219</td>\n",
       "      <td>0.254219</td>\n",
       "      <td>0.254219</td>\n",
       "      <td>0.254218</td>\n",
       "      <td>0.254218</td>\n",
       "      <td>0.035</td>\n",
       "    </tr>\n",
       "    <tr>\n",
       "      <th>5</th>\n",
       "      <td>2.96</td>\n",
       "      <td>0.25423</td>\n",
       "      <td>0.254231</td>\n",
       "      <td>0.25423</td>\n",
       "      <td>0.25423</td>\n",
       "      <td>0.254229</td>\n",
       "      <td>0.254228</td>\n",
       "      <td>0.254228</td>\n",
       "      <td>0.254229</td>\n",
       "      <td>0.254228</td>\n",
       "      <td>...</td>\n",
       "      <td>0.254221</td>\n",
       "      <td>0.25422</td>\n",
       "      <td>0.25422</td>\n",
       "      <td>0.25422</td>\n",
       "      <td>0.254219</td>\n",
       "      <td>0.254219</td>\n",
       "      <td>0.254219</td>\n",
       "      <td>0.254218</td>\n",
       "      <td>0.035000</td>\n",
       "      <td>0.005</td>\n",
       "    </tr>\n",
       "    <tr>\n",
       "      <th>6</th>\n",
       "      <td>2.81</td>\n",
       "      <td>0.25423</td>\n",
       "      <td>0.254231</td>\n",
       "      <td>0.25423</td>\n",
       "      <td>0.25423</td>\n",
       "      <td>0.254229</td>\n",
       "      <td>0.254228</td>\n",
       "      <td>0.254228</td>\n",
       "      <td>0.254229</td>\n",
       "      <td>0.254228</td>\n",
       "      <td>...</td>\n",
       "      <td>0.254221</td>\n",
       "      <td>0.25422</td>\n",
       "      <td>0.25422</td>\n",
       "      <td>0.25422</td>\n",
       "      <td>0.254219</td>\n",
       "      <td>0.254219</td>\n",
       "      <td>0.254219</td>\n",
       "      <td>0.035000</td>\n",
       "      <td>0.005000</td>\n",
       "      <td>0.000</td>\n",
       "    </tr>\n",
       "    <tr>\n",
       "      <th>7</th>\n",
       "      <td>2.73</td>\n",
       "      <td>0.25423</td>\n",
       "      <td>0.254231</td>\n",
       "      <td>0.25423</td>\n",
       "      <td>0.25423</td>\n",
       "      <td>0.254229</td>\n",
       "      <td>0.254228</td>\n",
       "      <td>0.254228</td>\n",
       "      <td>0.254229</td>\n",
       "      <td>0.254228</td>\n",
       "      <td>...</td>\n",
       "      <td>0.254221</td>\n",
       "      <td>0.25422</td>\n",
       "      <td>0.25422</td>\n",
       "      <td>0.25422</td>\n",
       "      <td>0.254219</td>\n",
       "      <td>0.254219</td>\n",
       "      <td>0.035000</td>\n",
       "      <td>0.005000</td>\n",
       "      <td>0.000000</td>\n",
       "      <td>0.000</td>\n",
       "    </tr>\n",
       "    <tr>\n",
       "      <th>8</th>\n",
       "      <td>2.87</td>\n",
       "      <td>0.25423</td>\n",
       "      <td>0.254231</td>\n",
       "      <td>0.25423</td>\n",
       "      <td>0.25423</td>\n",
       "      <td>0.254229</td>\n",
       "      <td>0.254228</td>\n",
       "      <td>0.254228</td>\n",
       "      <td>0.254229</td>\n",
       "      <td>0.254228</td>\n",
       "      <td>...</td>\n",
       "      <td>0.254221</td>\n",
       "      <td>0.25422</td>\n",
       "      <td>0.25422</td>\n",
       "      <td>0.25422</td>\n",
       "      <td>0.254219</td>\n",
       "      <td>0.035000</td>\n",
       "      <td>0.005000</td>\n",
       "      <td>0.000000</td>\n",
       "      <td>0.000000</td>\n",
       "      <td>0.010</td>\n",
       "    </tr>\n",
       "  </tbody>\n",
       "</table>\n",
       "<p>5 rows × 46 columns</p>\n",
       "</div>"
      ],
      "text/plain": [
       "     ws  wp1t-44   wp1t-43  wp1t-42  wp1t-41   wp1t-40   wp1t-39   wp1t-38  \\\n",
       "4  2.93  0.25423  0.254231  0.25423  0.25423  0.254229  0.254228  0.254228   \n",
       "5  2.96  0.25423  0.254231  0.25423  0.25423  0.254229  0.254228  0.254228   \n",
       "6  2.81  0.25423  0.254231  0.25423  0.25423  0.254229  0.254228  0.254228   \n",
       "7  2.73  0.25423  0.254231  0.25423  0.25423  0.254229  0.254228  0.254228   \n",
       "8  2.87  0.25423  0.254231  0.25423  0.25423  0.254229  0.254228  0.254228   \n",
       "\n",
       "    wp1t-37   wp1t-36  ...    wp1t-9   wp1t-8   wp1t-7   wp1t-6    wp1t-5  \\\n",
       "4  0.254229  0.254228  ...  0.254221  0.25422  0.25422  0.25422  0.254219   \n",
       "5  0.254229  0.254228  ...  0.254221  0.25422  0.25422  0.25422  0.254219   \n",
       "6  0.254229  0.254228  ...  0.254221  0.25422  0.25422  0.25422  0.254219   \n",
       "7  0.254229  0.254228  ...  0.254221  0.25422  0.25422  0.25422  0.254219   \n",
       "8  0.254229  0.254228  ...  0.254221  0.25422  0.25422  0.25422  0.254219   \n",
       "\n",
       "     wp1t-4    wp1t-3    wp1t-2    wp1t-1    wp1  \n",
       "4  0.254219  0.254219  0.254218  0.254218  0.035  \n",
       "5  0.254219  0.254219  0.254218  0.035000  0.005  \n",
       "6  0.254219  0.254219  0.035000  0.005000  0.000  \n",
       "7  0.254219  0.035000  0.005000  0.000000  0.000  \n",
       "8  0.035000  0.005000  0.000000  0.000000  0.010  \n",
       "\n",
       "[5 rows x 46 columns]"
      ]
     },
     "execution_count": 2,
     "metadata": {},
     "output_type": "execute_result"
    }
   ],
   "source": [
    "np.random.seed(1)\n",
    "\n",
    "#cargamos los datos de entrada\n",
    "#data = pd.read_csv(\"/Users/manuelmoya/Documents/USACH/2019-1er/Tesis/1.Desarrollo/05.AnalisisDatos/Datos/wf1_train_fin_serie.csv\", index_col=0)\n",
    "data = pd.read_csv(\"../05.AnalisisDatos/Datos/wf1_train_fin_serie.csv\", index_col=0)\n",
    "\n",
    "\n",
    "# Ver los 1ros registros\n",
    "data.head()\n"
   ]
  },
  {
   "cell_type": "markdown",
   "metadata": {},
   "source": [
    "## Separar pruebas y test"
   ]
  },
  {
   "cell_type": "code",
   "execution_count": 3,
   "metadata": {},
   "outputs": [],
   "source": [
    "data_train, data_test = train_test_split(data,test_size=0.2, random_state=200)\n",
    "\n",
    "dataset_test = data_test.values\n",
    "x_test = dataset_test[:,0:45]\n",
    "y_test = dataset_test[:,45]"
   ]
  },
  {
   "cell_type": "code",
   "execution_count": 4,
   "metadata": {},
   "outputs": [
    {
     "data": {
      "text/plain": [
       "19220"
      ]
     },
     "execution_count": 4,
     "metadata": {},
     "output_type": "execute_result"
    }
   ],
   "source": [
    "len(x_test)"
   ]
  },
  {
   "cell_type": "code",
   "execution_count": 6,
   "metadata": {},
   "outputs": [],
   "source": [
    "#df_pred = pd.DataFrame(data=x_test)\n",
    "\n",
    "##df_pred.to_csv('/Users/manuelmoya/Documents/USACH/2019-1er/Tesis/1.Desarrollo/05.AnalisisDatos/Datos/pred_final_test.csv')\n",
    "#df_pred.to_csv('../05.AnalisisDatos/Datos/pred_final_test.csv')\n",
    "\n",
    "\n"
   ]
  },
  {
   "cell_type": "markdown",
   "metadata": {},
   "source": [
    "## Seleccionar 48 regristros"
   ]
  },
  {
   "cell_type": "code",
   "execution_count": 7,
   "metadata": {},
   "outputs": [],
   "source": [
    "#x_test_fin = x_test[10000:10048]\n",
    "#y_test_fin = y_test[10000:10048]\n",
    "\n",
    "#x_test_fin = x_test[13372:13420]\n",
    "#y_test_fin = y_test[13372:13420]\n",
    "\n",
    "\n",
    "x_test_fin = x_test[100:148]\n",
    "y_test_fin = y_test[100:148]\n"
   ]
  },
  {
   "cell_type": "code",
   "execution_count": 8,
   "metadata": {},
   "outputs": [
    {
     "data": {
      "text/plain": [
       "array([[3.29e+00, 1.80e-01, 1.71e-01, ..., 6.00e-02, 6.00e-02, 6.00e-02],\n",
       "       [6.93e+00, 4.81e-01, 4.41e-01, ..., 2.21e-01, 2.41e-01, 2.51e-01],\n",
       "       [4.30e+00, 9.07e-01, 9.22e-01, ..., 6.52e-01, 4.21e-01, 3.91e-01],\n",
       "       ...,\n",
       "       [5.77e+00, 2.96e-01, 2.76e-01, ..., 2.26e-01, 2.54e-01, 2.81e-01],\n",
       "       [3.63e+00, 5.00e-02, 6.00e-02, ..., 1.25e-01, 1.20e-01, 1.25e-01],\n",
       "       [4.48e+00, 4.00e-03, 4.00e-03, ..., 3.83e-01, 3.76e-01, 3.69e-01]])"
      ]
     },
     "execution_count": 8,
     "metadata": {},
     "output_type": "execute_result"
    }
   ],
   "source": [
    "x_test_fin\n"
   ]
  },
  {
   "cell_type": "code",
   "execution_count": 9,
   "metadata": {},
   "outputs": [],
   "source": [
    "#import sys\n",
    "#pred_arr_entry = np.array(x_test_fin)\n",
    "#np.set_printoptions(threshold=sys.maxsize)\n",
    "#pred_arr_entry"
   ]
  },
  {
   "cell_type": "code",
   "execution_count": 10,
   "metadata": {},
   "outputs": [
    {
     "data": {
      "text/plain": [
       "array([0.06 , 0.271, 0.281, 0.075, 0.647, 0.241, 0.291, 0.762, 0.   ,\n",
       "       0.276, 0.822, 0.421, 0.857, 0.57 , 0.291, 0.306, 0.015, 0.09 ,\n",
       "       0.09 , 0.045, 0.   , 0.135, 0.06 , 0.787, 0.14 , 0.085, 0.528,\n",
       "       0.04 , 0.466, 0.156, 0.   , 0.115, 0.296, 0.035, 0.231, 0.   ,\n",
       "       0.065, 0.466, 0.266, 0.06 , 0.03 , 0.529, 0.321, 0.09 , 0.005,\n",
       "       0.308, 0.185, 0.362])"
      ]
     },
     "execution_count": 10,
     "metadata": {},
     "output_type": "execute_result"
    }
   ],
   "source": [
    "y_test_fin"
   ]
  },
  {
   "cell_type": "markdown",
   "metadata": {},
   "source": [
    "## Cargar Mejor Modelo"
   ]
  },
  {
   "cell_type": "code",
   "execution_count": 12,
   "metadata": {},
   "outputs": [],
   "source": [
    "# load the saved model\n",
    "best_model = load_model('best_model_lstm_06_270.h5')"
   ]
  },
  {
   "cell_type": "markdown",
   "metadata": {},
   "source": [
    "## Reshape datos de entrada"
   ]
  },
  {
   "cell_type": "code",
   "execution_count": 13,
   "metadata": {},
   "outputs": [
    {
     "data": {
      "text/plain": [
       "array([[[3.29e+00, 1.80e-01, 1.71e-01, ..., 6.00e-02, 6.00e-02,\n",
       "         6.00e-02]],\n",
       "\n",
       "       [[6.93e+00, 4.81e-01, 4.41e-01, ..., 2.21e-01, 2.41e-01,\n",
       "         2.51e-01]],\n",
       "\n",
       "       [[4.30e+00, 9.07e-01, 9.22e-01, ..., 6.52e-01, 4.21e-01,\n",
       "         3.91e-01]],\n",
       "\n",
       "       ...,\n",
       "\n",
       "       [[5.77e+00, 2.96e-01, 2.76e-01, ..., 2.26e-01, 2.54e-01,\n",
       "         2.81e-01]],\n",
       "\n",
       "       [[3.63e+00, 5.00e-02, 6.00e-02, ..., 1.25e-01, 1.20e-01,\n",
       "         1.25e-01]],\n",
       "\n",
       "       [[4.48e+00, 4.00e-03, 4.00e-03, ..., 3.83e-01, 3.76e-01,\n",
       "         3.69e-01]]])"
      ]
     },
     "execution_count": 13,
     "metadata": {},
     "output_type": "execute_result"
    }
   ],
   "source": [
    "data= np.array(x_test_fin)\n",
    "\n",
    "timesteps=1\n",
    "#reshape\n",
    "data48_re = data.reshape((data.shape[0], timesteps, data.shape[1]))\n",
    "data48 = data48_re\n",
    "data48"
   ]
  },
  {
   "cell_type": "code",
   "execution_count": 14,
   "metadata": {},
   "outputs": [],
   "source": [
    "#data48[0][0][0]"
   ]
  },
  {
   "cell_type": "markdown",
   "metadata": {},
   "source": [
    "## Hacer Predicción"
   ]
  },
  {
   "cell_type": "code",
   "execution_count": 15,
   "metadata": {},
   "outputs": [],
   "source": [
    "pred48=best_model.predict(data48)"
   ]
  },
  {
   "cell_type": "markdown",
   "metadata": {},
   "source": [
    "## Visualizar Data de Predicción"
   ]
  },
  {
   "cell_type": "code",
   "execution_count": 16,
   "metadata": {},
   "outputs": [
    {
     "name": "stdout",
     "output_type": "stream",
     "text": [
      "0.055978656\n",
      "0.26897624\n",
      "0.2772614\n",
      "0.07715171\n",
      "0.78690195\n",
      "0.03043586\n",
      "0.2912936\n",
      "0.73517317\n",
      "0.00038518256\n",
      "0.27475712\n",
      "0.8821543\n",
      "0.5029205\n",
      "0.83927345\n",
      "0.57430804\n",
      "0.28884152\n",
      "0.30206192\n",
      "0.024295647\n",
      "0.09400062\n",
      "0.09193071\n",
      "0.045653597\n",
      "0.009602208\n",
      "0.13613144\n",
      "0.121074215\n",
      "0.77458024\n",
      "0.11400065\n",
      "0.12679482\n",
      "0.52195716\n",
      "0.041157942\n",
      "0.45556644\n",
      "0.16009933\n",
      "0.00031122658\n",
      "0.117858335\n",
      "0.29286787\n",
      "0.03131465\n",
      "0.22847754\n",
      "0.00031122658\n",
      "0.06561194\n",
      "0.38996497\n",
      "0.26269615\n",
      "0.06826055\n",
      "0.026552763\n",
      "0.5162351\n",
      "0.0459475\n",
      "0.091942325\n",
      "0.022109572\n",
      "0.30406398\n",
      "0.18556306\n",
      "0.4051184\n"
     ]
    }
   ],
   "source": [
    "pred_arr = []\n",
    "for x in pred48:\n",
    "    pred_arr.append(x[0])\n",
    "    print(x[0])"
   ]
  },
  {
   "cell_type": "markdown",
   "metadata": {},
   "source": [
    "## Graficar Predicción y ver su correlación con lo real"
   ]
  },
  {
   "cell_type": "code",
   "execution_count": 18,
   "metadata": {},
   "outputs": [
    {
     "data": {
      "image/png": "[encoded data removed]",
      "text/plain": [
       "<Figure size 1080x576 with 1 Axes>"
      ]
     },
     "metadata": {},
     "output_type": "display_data"
    }
   ],
   "source": [
    "pred_arr_num = np.array(pred_arr)\n",
    "\n",
    "corr = np.corrcoef(y_test_fin, pred_arr_num)\n",
    "\n",
    "plt.plot(y_test_fin, label =\"real\")\n",
    "plt.plot(pred_arr_num, label =\"predicción\")\n",
    "#plt.plot(trainPredictPlot, label =\"train pred\" )\n",
    "plt.title(\"Curva de Correlación Predicción Final. Correlación: %.2f \" % ( corr[1][0] * 100))\n",
    "plt.ylabel(\"Energia Generada\")\n",
    "plt.xlabel(\"Horizonte 48 horas\")\n",
    "plt.legend()\n",
    "plt.show()"
   ]
  },
  {
   "cell_type": "code",
   "execution_count": null,
   "metadata": {},
   "outputs": [],
   "source": []
  }
 ],
 "metadata": {
  "kernelspec": {
   "display_name": "Python 3",
   "language": "python",
   "name": "python3"
  },
  "language_info": {
   "codemirror_mode": {
    "name": "ipython",
    "version": 3
   },
   "file_extension": ".py",
   "mimetype": "text/x-python",
   "name": "python",
   "nbconvert_exporter": "python",
   "pygments_lexer": "ipython3",
   "version": "3.6.8"
  }
 },
 "nbformat": 4,
 "nbformat_minor": 2
}
