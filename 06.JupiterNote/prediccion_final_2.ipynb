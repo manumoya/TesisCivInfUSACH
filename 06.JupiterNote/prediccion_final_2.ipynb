{
 "cells": [
  {
   "cell_type": "markdown",
   "metadata": {},
   "source": [
    "# Predicción Final"
   ]
  },
  {
   "cell_type": "code",
   "execution_count": 41,
   "metadata": {},
   "outputs": [],
   "source": [
    "# Imports necesarios\n",
    "import pandas as pd\n",
    "import numpy as np\n",
    "import matplotlib.pyplot as plt\n",
    "plt.rcParams['figure.figsize'] = (15, 8)\n",
    "plt.style.use('ggplot')\n",
    "import statsmodels.api as sm\n",
    "\n",
    "#from sklearn.model_selection import train_test_split\n",
    "\n",
    "from keras.models import load_model\n"
   ]
  },
  {
   "cell_type": "markdown",
   "metadata": {},
   "source": [
    "## Cargar Mejor Modelo"
   ]
  },
  {
   "cell_type": "code",
   "execution_count": 42,
   "metadata": {},
   "outputs": [],
   "source": [
    "# load the saved model\n",
    "best_model = load_model('best_model_lstm_06_270.h5')"
   ]
  },
  {
   "cell_type": "markdown",
   "metadata": {},
   "source": [
    "## Cargar grupo de datos de pruebas"
   ]
  },
  {
   "cell_type": "code",
   "execution_count": 53,
   "metadata": {},
   "outputs": [],
   "source": [
    "vel_viento = [\n",
    "    3.07, 2.37, 2.05, 2.03, 2.01, 1.86, 1.91, 2.07, 1.89, 1.59,\n",
    "    1.47, 1.44, 1.39, 1.36, 8.43, 7.77, 6.91, 6.07, 5.51, 5.43,\n",
    "    5.66, 5.98, 6.18, 6.25, 6.18, 6.02, 5.8, 5.56, 5.31, 4.99,\n",
    "    4.53, 3.91, 3.25, 2,69, 2.31, 2.08, 1.94, 1.83, 1.78, 1.8,\n",
    "    1.9, 1.92, 1.63, 1.05, 0.99, 1.53, 1.81, 1.78\n",
    "]\n"
   ]
  },
  {
   "cell_type": "code",
   "execution_count": 54,
   "metadata": {},
   "outputs": [],
   "source": [
    "real = [\n",
    "    0.8079999999999999, 0.847, 0.846, 0.845, 0.845, 0.8440000000000001, 0.843, 0.8420000000000001, 0.8420000000000001, 0.841,\n",
    "    0.84, 0.8390000000000001, 0.8390000000000001, 0.838, 0.8270000000000001, 0.812, 0.772, 0.722, 0.586, 0.471,\n",
    "    0.391, 0.376, 0.415, 0.455, 0.494, 0.5329999999999999, 0.5720000000000001, 0.611, 0.6509999999999999, 0.69,\n",
    "    0.7290000000000001, 0.768, 0.8079999999999999, 0.847, 0.847, 0.846, 0.846, 0.845, 0.845, 0.845, \n",
    "    0.8440000000000001, 0.8440000000000001, 0.843, 0.843, 0.843, 0.8420000000000001, 0.8420000000000001, 0.841\n",
    "    \n",
    "    \n",
    "    \n",
    "]"
   ]
  },
  {
   "cell_type": "code",
   "execution_count": 55,
   "metadata": {},
   "outputs": [],
   "source": [
    "\n",
    "data48 = [[\n",
    "    3.07,0.391,0.376,0.415,0.455,0.494,0.5329999999999999,0.5720000000000001,0.611,0.6509999999999999,\n",
    "    0.69,0.7290000000000001,0.768,0.8079999999999999,0.847,0.617,0.602,0.546,0.511,0.381,\n",
    "    0.436,0.496,0.722,0.8370000000000001,0.8320000000000001,0.8320000000000001,0.8270000000000001,0.8270000000000001,0.812,0.772,\n",
    "    0.722,0.586,0.471,0.391,0.376,0.415,0.455,0.494,0.5329999999999999,0.5720000000000001,\n",
    "    0.611,0.6509999999999999,0.69,0.7290000000000001,0.768\n",
    "]]\n",
    "\n",
    "#0.8079999999999999\n",
    "\n",
    "data48_2=[[\n",
    "    2.37,0.376,0.415,0.455,0.494,0.5329999999999999,0.5720000000000001,0.611,0.6509999999999999,0.69,\n",
    "    0.7290000000000001,0.768,0.8079999999999999,0.847,0.617,0.602,0.546,0.511,0.381,0.436,\n",
    "    0.496,0.722,0.8370000000000001,0.8320000000000001,0.8320000000000001,0.8270000000000001,0.8270000000000001,0.812,0.772,0.722,\n",
    "    0.586,0.471,0.391,0.376,0.415,0.455,0.494,0.5329999999999999,0.5720000000000001,0.611,\n",
    "    0.6509999999999999,0.69,0.7290000000000001,0.768,0.79370826\n",
    "]]\n",
    "\n",
    "#0.847\n",
    "\n"
   ]
  },
  {
   "cell_type": "markdown",
   "metadata": {},
   "source": [
    "# Datos de Entrada"
   ]
  },
  {
   "cell_type": "markdown",
   "metadata": {},
   "source": [
    "### Reshape datos de entrada"
   ]
  },
  {
   "cell_type": "code",
   "execution_count": 56,
   "metadata": {},
   "outputs": [
    {
     "data": {
      "text/plain": [
       "array([[[3.07 , 0.391, 0.376, 0.415, 0.455, 0.494, 0.533, 0.572, 0.611,\n",
       "         0.651, 0.69 , 0.729, 0.768, 0.808, 0.847, 0.617, 0.602, 0.546,\n",
       "         0.511, 0.381, 0.436, 0.496, 0.722, 0.837, 0.832, 0.832, 0.827,\n",
       "         0.827, 0.812, 0.772, 0.722, 0.586, 0.471, 0.391, 0.376, 0.415,\n",
       "         0.455, 0.494, 0.533, 0.572, 0.611, 0.651, 0.69 , 0.729, 0.768]]])"
      ]
     },
     "execution_count": 56,
     "metadata": {},
     "output_type": "execute_result"
    }
   ],
   "source": [
    "timesteps=1\n",
    "data = np.array(data48)\n",
    "#reshape\n",
    "data48_re = data.reshape((data.shape[0], timesteps, data.shape[1]))\n",
    "data48 = data48_re\n",
    "data48"
   ]
  },
  {
   "cell_type": "code",
   "execution_count": 57,
   "metadata": {},
   "outputs": [],
   "source": [
    "pred48=best_model.predict(data48)"
   ]
  },
  {
   "cell_type": "code",
   "execution_count": 48,
   "metadata": {},
   "outputs": [],
   "source": [
    "#pred_arr = []\n",
    "#for x in pred48:\n",
    "#    pred_arr.append(x[0])\n",
    "#    print(x[0])"
   ]
  },
  {
   "cell_type": "markdown",
   "metadata": {},
   "source": [
    "## Proceso de Predicción"
   ]
  },
  {
   "cell_type": "code",
   "execution_count": 58,
   "metadata": {},
   "outputs": [],
   "source": [
    "# cambia valores de arreglo\n",
    "# Los valores se mueven una posición menos y la predicción queda en la ultima posición\n",
    "\n",
    "def changeArray(arr,pred):\n",
    "    lar_arr = len(arr[0][0])\n",
    "    #print(lar_arr)\n",
    "    \n",
    "    for ind in range(lar_arr-1):\n",
    "        if ind > 0:\n",
    "            if (ind-1) < lar_arr-1:\n",
    "                arr[0][0][ind] = arr[0][0][ind+1]  \n",
    "                    \n",
    "    arr[0][0][lar_arr-1] = pred             \n",
    "    \n",
    "    return arr\n",
    "        \n",
    "\n",
    "def processPredictions(npArr48):\n",
    "    i=0\n",
    "    pred_final=[]\n",
    "    for x in range(48):\n",
    "        npArr48[0][0][0]=vel_viento[i]\n",
    "        i=i+1\n",
    "        \n",
    "        pred48=best_model.predict(npArr48)\n",
    "        val_pred48 = pred48[0][0]\n",
    "        pred_final.append(val_pred48)\n",
    "\n",
    "        arrNew = changeArray(npArr48,val_pred48)\n",
    "        npArr48 = arrNew\n",
    "\n",
    "        #for y in arrNew[0]:\n",
    "        #    print(y)\n",
    "        #print (\"===============\")\n",
    "        \n",
    "    return pred_final  \n",
    "        "
   ]
  },
  {
   "cell_type": "markdown",
   "metadata": {},
   "source": [
    "# Obtener Predicción Final"
   ]
  },
  {
   "cell_type": "code",
   "execution_count": 59,
   "metadata": {},
   "outputs": [
    {
     "name": "stdout",
     "output_type": "stream",
     "text": [
      "0.79370826\n",
      "0.8237255\n",
      "0.75366277\n",
      "0.73135984\n",
      "0.71417403\n",
      "0.7047261\n",
      "0.74473935\n",
      "0.76553106\n",
      "0.75902957\n",
      "0.7208308\n",
      "0.7199332\n",
      "0.6822453\n",
      "0.6562881\n",
      "0.6413417\n",
      "0.61511606\n",
      "0.59332174\n",
      "0.54592097\n",
      "0.5061249\n",
      "0.47107476\n",
      "0.4438071\n",
      "0.37346736\n",
      "0.36165038\n",
      "0.4023557\n",
      "0.44245717\n",
      "0.47968575\n",
      "0.51630324\n",
      "0.55370814\n",
      "0.5912075\n",
      "0.62896824\n",
      "0.6634732\n",
      "0.69731826\n",
      "0.72907287\n",
      "0.7423785\n",
      "0.75168324\n",
      "0.7377399\n",
      "0.71089536\n",
      "0.68727356\n",
      "0.6669125\n",
      "0.67121214\n",
      "0.65764517\n",
      "0.6303403\n",
      "0.5925823\n",
      "0.5631884\n",
      "0.5253764\n",
      "0.49148434\n",
      "0.4625219\n",
      "0.43123123\n",
      "0.40412718\n"
     ]
    }
   ],
   "source": [
    "npdata48 = np.array(data48)  \n",
    "#npdata48 = np.array(data48_bench) \n",
    "\n",
    "pred_final_48 =processPredictions(npdata48)\n",
    "\n",
    "cont=1\n",
    "for x in pred_final_48:\n",
    "    print(x)\n",
    "    cont=cont+1"
   ]
  },
  {
   "cell_type": "code",
   "execution_count": 60,
   "metadata": {},
   "outputs": [
    {
     "data": {
      "image/png": "[encoded data removed]",
      "text/plain": [
       "<Figure size 1080x576 with 1 Axes>"
      ]
     },
     "metadata": {},
     "output_type": "display_data"
    }
   ],
   "source": [
    "data_pred = pred_final_48\n",
    "data_real = np.array(real)\n",
    "\n",
    "corr = np.corrcoef(data_real, data_pred)\n",
    "\n",
    "plt.plot(data_real, label =\"real\")\n",
    "plt.plot(data_pred, label =\"predicción\")\n",
    "#plt.plot(trainPredictPlot, label =\"train pred\" )\n",
    "plt.title(\"Red Profunda. Correlación: %.2f \" % ( corr[1][0] * 100))\n",
    "plt.ylabel(\"Energia Generada\")\n",
    "plt.xlabel(\"Muestras\")\n",
    "plt.legend()\n",
    "plt.show()"
   ]
  },
  {
   "cell_type": "code",
   "execution_count": null,
   "metadata": {},
   "outputs": [],
   "source": []
  }
 ],
 "metadata": {
  "kernelspec": {
   "display_name": "Python 3",
   "language": "python",
   "name": "python3"
  },
  "language_info": {
   "codemirror_mode": {
    "name": "ipython",
    "version": 3
   },
   "file_extension": ".py",
   "mimetype": "text/x-python",
   "name": "python",
   "nbconvert_exporter": "python",
   "pygments_lexer": "ipython3",
   "version": "3.6.8"
  }
 },
 "nbformat": 4,
 "nbformat_minor": 2
}
