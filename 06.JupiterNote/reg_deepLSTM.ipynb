{
 "cells": [
  {
   "cell_type": "code",
   "execution_count": 1,
   "metadata": {},
   "outputs": [
    {
     "name": "stderr",
     "output_type": "stream",
     "text": [
      "Using TensorFlow backend.\n",
      "/anaconda3/lib/python3.6/site-packages/tensorflow/python/framework/dtypes.py:523: FutureWarning: Passing (type, 1) or '1type' as a synonym of type is deprecated; in a future version of numpy, it will be understood as (type, (1,)) / '(1,)type'.\n",
      "  _np_qint8 = np.dtype([(\"qint8\", np.int8, 1)])\n",
      "/anaconda3/lib/python3.6/site-packages/tensorflow/python/framework/dtypes.py:524: FutureWarning: Passing (type, 1) or '1type' as a synonym of type is deprecated; in a future version of numpy, it will be understood as (type, (1,)) / '(1,)type'.\n",
      "  _np_quint8 = np.dtype([(\"quint8\", np.uint8, 1)])\n",
      "/anaconda3/lib/python3.6/site-packages/tensorflow/python/framework/dtypes.py:525: FutureWarning: Passing (type, 1) or '1type' as a synonym of type is deprecated; in a future version of numpy, it will be understood as (type, (1,)) / '(1,)type'.\n",
      "  _np_qint16 = np.dtype([(\"qint16\", np.int16, 1)])\n",
      "/anaconda3/lib/python3.6/site-packages/tensorflow/python/framework/dtypes.py:526: FutureWarning: Passing (type, 1) or '1type' as a synonym of type is deprecated; in a future version of numpy, it will be understood as (type, (1,)) / '(1,)type'.\n",
      "  _np_quint16 = np.dtype([(\"quint16\", np.uint16, 1)])\n",
      "/anaconda3/lib/python3.6/site-packages/tensorflow/python/framework/dtypes.py:527: FutureWarning: Passing (type, 1) or '1type' as a synonym of type is deprecated; in a future version of numpy, it will be understood as (type, (1,)) / '(1,)type'.\n",
      "  _np_qint32 = np.dtype([(\"qint32\", np.int32, 1)])\n",
      "/anaconda3/lib/python3.6/site-packages/tensorflow/python/framework/dtypes.py:532: FutureWarning: Passing (type, 1) or '1type' as a synonym of type is deprecated; in a future version of numpy, it will be understood as (type, (1,)) / '(1,)type'.\n",
      "  np_resource = np.dtype([(\"resource\", np.ubyte, 1)])\n"
     ]
    }
   ],
   "source": [
    "# Imports necesarios\n",
    "import numpy as np\n",
    "import pandas as pd\n",
    "#import seaborn as sb\n",
    "import matplotlib.pyplot as plt\n",
    "%matplotlib inline\n",
    "from mpl_toolkits.mplot3d import Axes3D\n",
    "from matplotlib import cm\n",
    "plt.rcParams['figure.figsize'] = (16, 9)\n",
    "plt.style.use('ggplot')\n",
    "#from sklearn import linear_model\n",
    "#from sklearn.metrics import mean_squared_error, r2_score\n",
    "\n",
    "import keras\n",
    "from keras.models import Sequential\n",
    "from keras.layers.core import Dense\n",
    "from keras.layers import LSTM\n",
    "#from keras.layers import Flatten\n",
    "#from keras.optimizers import Adam\n",
    "#from pyimagesearch import models\n",
    "\n",
    "#cargamos los datos de entrada\n",
    "data = pd.read_csv(\"/Users/manuelmoya/Documents/USACH/2019-1er/Tesis/1.Desarrollo/05.AnalisisDatos/Datos/wf1_train_fin.csv\", index_col=0)\n",
    "#veamos cuantas dimensiones y registros contiene\n",
    "#data.shape"
   ]
  },
  {
   "cell_type": "code",
   "execution_count": 2,
   "metadata": {},
   "outputs": [
    {
     "data": {
      "text/html": [
       "<div>\n",
       "<style scoped>\n",
       "    .dataframe tbody tr th:only-of-type {\n",
       "        vertical-align: middle;\n",
       "    }\n",
       "\n",
       "    .dataframe tbody tr th {\n",
       "        vertical-align: top;\n",
       "    }\n",
       "\n",
       "    .dataframe thead th {\n",
       "        text-align: right;\n",
       "    }\n",
       "</style>\n",
       "<table border=\"1\" class=\"dataframe\">\n",
       "  <thead>\n",
       "    <tr style=\"text-align: right;\">\n",
       "      <th></th>\n",
       "      <th>hors</th>\n",
       "      <th>ws</th>\n",
       "      <th>wd</th>\n",
       "      <th>anno</th>\n",
       "      <th>mes</th>\n",
       "      <th>wp1</th>\n",
       "    </tr>\n",
       "  </thead>\n",
       "  <tbody>\n",
       "    <tr>\n",
       "      <th>0</th>\n",
       "      <td>1</td>\n",
       "      <td>2.47</td>\n",
       "      <td>108.68</td>\n",
       "      <td>2009</td>\n",
       "      <td>7</td>\n",
       "      <td>0.085</td>\n",
       "    </tr>\n",
       "    <tr>\n",
       "      <th>1</th>\n",
       "      <td>2</td>\n",
       "      <td>2.40</td>\n",
       "      <td>114.31</td>\n",
       "      <td>2009</td>\n",
       "      <td>7</td>\n",
       "      <td>0.020</td>\n",
       "    </tr>\n",
       "    <tr>\n",
       "      <th>2</th>\n",
       "      <td>3</td>\n",
       "      <td>2.51</td>\n",
       "      <td>118.71</td>\n",
       "      <td>2009</td>\n",
       "      <td>7</td>\n",
       "      <td>0.060</td>\n",
       "    </tr>\n",
       "    <tr>\n",
       "      <th>3</th>\n",
       "      <td>4</td>\n",
       "      <td>2.73</td>\n",
       "      <td>120.86</td>\n",
       "      <td>2009</td>\n",
       "      <td>7</td>\n",
       "      <td>0.045</td>\n",
       "    </tr>\n",
       "    <tr>\n",
       "      <th>4</th>\n",
       "      <td>5</td>\n",
       "      <td>2.93</td>\n",
       "      <td>120.13</td>\n",
       "      <td>2009</td>\n",
       "      <td>7</td>\n",
       "      <td>0.035</td>\n",
       "    </tr>\n",
       "  </tbody>\n",
       "</table>\n",
       "</div>"
      ],
      "text/plain": [
       "   hors    ws      wd  anno  mes    wp1\n",
       "0     1  2.47  108.68  2009    7  0.085\n",
       "1     2  2.40  114.31  2009    7  0.020\n",
       "2     3  2.51  118.71  2009    7  0.060\n",
       "3     4  2.73  120.86  2009    7  0.045\n",
       "4     5  2.93  120.13  2009    7  0.035"
      ]
     },
     "execution_count": 2,
     "metadata": {},
     "output_type": "execute_result"
    }
   ],
   "source": [
    "# Ver los 1ros registros\n",
    "data.head()"
   ]
  },
  {
   "cell_type": "code",
   "execution_count": 3,
   "metadata": {},
   "outputs": [
    {
     "data": {
      "text/html": [
       "<div>\n",
       "<style scoped>\n",
       "    .dataframe tbody tr th:only-of-type {\n",
       "        vertical-align: middle;\n",
       "    }\n",
       "\n",
       "    .dataframe tbody tr th {\n",
       "        vertical-align: top;\n",
       "    }\n",
       "\n",
       "    .dataframe thead th {\n",
       "        text-align: right;\n",
       "    }\n",
       "</style>\n",
       "<table border=\"1\" class=\"dataframe\">\n",
       "  <thead>\n",
       "    <tr style=\"text-align: right;\">\n",
       "      <th></th>\n",
       "      <th>hors</th>\n",
       "      <th>ws</th>\n",
       "      <th>wd</th>\n",
       "      <th>anno</th>\n",
       "      <th>mes</th>\n",
       "      <th>wp1</th>\n",
       "    </tr>\n",
       "  </thead>\n",
       "  <tbody>\n",
       "    <tr>\n",
       "      <th>count</th>\n",
       "      <td>104832.000000</td>\n",
       "      <td>104832.000000</td>\n",
       "      <td>104832.000000</td>\n",
       "      <td>104832.000000</td>\n",
       "      <td>104832.000000</td>\n",
       "      <td>104832.000000</td>\n",
       "    </tr>\n",
       "    <tr>\n",
       "      <th>mean</th>\n",
       "      <td>24.500000</td>\n",
       "      <td>4.072487</td>\n",
       "      <td>129.831450</td>\n",
       "      <td>2010.491758</td>\n",
       "      <td>6.523810</td>\n",
       "      <td>0.251717</td>\n",
       "    </tr>\n",
       "    <tr>\n",
       "      <th>std</th>\n",
       "      <td>13.853465</td>\n",
       "      <td>1.786437</td>\n",
       "      <td>98.483008</td>\n",
       "      <td>0.955481</td>\n",
       "      <td>3.455169</td>\n",
       "      <td>0.205369</td>\n",
       "    </tr>\n",
       "    <tr>\n",
       "      <th>min</th>\n",
       "      <td>1.000000</td>\n",
       "      <td>0.010000</td>\n",
       "      <td>0.020000</td>\n",
       "      <td>2009.000000</td>\n",
       "      <td>1.000000</td>\n",
       "      <td>0.000000</td>\n",
       "    </tr>\n",
       "    <tr>\n",
       "      <th>25%</th>\n",
       "      <td>12.750000</td>\n",
       "      <td>2.860000</td>\n",
       "      <td>53.610000</td>\n",
       "      <td>2010.000000</td>\n",
       "      <td>4.000000</td>\n",
       "      <td>0.095000</td>\n",
       "    </tr>\n",
       "    <tr>\n",
       "      <th>50%</th>\n",
       "      <td>24.500000</td>\n",
       "      <td>3.960000</td>\n",
       "      <td>112.810000</td>\n",
       "      <td>2010.000000</td>\n",
       "      <td>7.000000</td>\n",
       "      <td>0.251717</td>\n",
       "    </tr>\n",
       "    <tr>\n",
       "      <th>75%</th>\n",
       "      <td>36.250000</td>\n",
       "      <td>4.890000</td>\n",
       "      <td>183.300000</td>\n",
       "      <td>2011.000000</td>\n",
       "      <td>10.000000</td>\n",
       "      <td>0.286000</td>\n",
       "    </tr>\n",
       "    <tr>\n",
       "      <th>max</th>\n",
       "      <td>48.000000</td>\n",
       "      <td>15.810000</td>\n",
       "      <td>359.990000</td>\n",
       "      <td>2012.000000</td>\n",
       "      <td>12.000000</td>\n",
       "      <td>0.947000</td>\n",
       "    </tr>\n",
       "  </tbody>\n",
       "</table>\n",
       "</div>"
      ],
      "text/plain": [
       "                hors             ws             wd           anno  \\\n",
       "count  104832.000000  104832.000000  104832.000000  104832.000000   \n",
       "mean       24.500000       4.072487     129.831450    2010.491758   \n",
       "std        13.853465       1.786437      98.483008       0.955481   \n",
       "min         1.000000       0.010000       0.020000    2009.000000   \n",
       "25%        12.750000       2.860000      53.610000    2010.000000   \n",
       "50%        24.500000       3.960000     112.810000    2010.000000   \n",
       "75%        36.250000       4.890000     183.300000    2011.000000   \n",
       "max        48.000000      15.810000     359.990000    2012.000000   \n",
       "\n",
       "                 mes            wp1  \n",
       "count  104832.000000  104832.000000  \n",
       "mean        6.523810       0.251717  \n",
       "std         3.455169       0.205369  \n",
       "min         1.000000       0.000000  \n",
       "25%         4.000000       0.095000  \n",
       "50%         7.000000       0.251717  \n",
       "75%        10.000000       0.286000  \n",
       "max        12.000000       0.947000  "
      ]
     },
     "execution_count": 3,
     "metadata": {},
     "output_type": "execute_result"
    }
   ],
   "source": [
    "# Ahora veamos algunas estadísticas de nuestros datos\n",
    "data.describe()"
   ]
  },
  {
   "cell_type": "code",
   "execution_count": 4,
   "metadata": {},
   "outputs": [],
   "source": [
    "# Visualizamos rápidamente las caraterísticas de entrada\n",
    "#data.hist()\n",
    "#plt.show()"
   ]
  },
  {
   "cell_type": "code",
   "execution_count": 158,
   "metadata": {},
   "outputs": [],
   "source": [
    "# Asignamos nuestra variable de entrada X para entrenamiento y las etiquetas Y.\n",
    "data_train = data.sample(frac=1,random_state=200) \n",
    "data_test = data.drop(data_train.index) \n",
    "\n",
    "dataset = data_train.values\n",
    "x_train = dataset[:,1:3]\n",
    "y_train = dataset[:,5]\n",
    "\n",
    "\n",
    "dataset_test = data_test.values\n",
    "x_test = dataset[:,1:5]\n",
    "y_test = dataset[:,5]\n",
    "\n",
    "#dataX2 =  pd.DataFrame()\n",
    "#dataX2[\"ws\"] =data_train[\"ws\"]\n",
    "#dataX2[\"wd\"] =data_train[\"wd\"]\n",
    "#dataX2[\"anno\"] =data_train[\"anno\"]\n",
    "#dataX2[\"mes\"] =data_train[\"mes\"]\n",
    "\n",
    "#x_train= np.array(dataX2,\"float32\")\n",
    "#y_train = np.array(data_train['wp1'].values,\"float32\")\n",
    "\n",
    "#y_train  \n",
    "\n",
    "#print(y_train[0:1].shape) \n",
    "\n",
    "#x_train.shape\n",
    "\n",
    "#x_test"
   ]
  },
  {
   "cell_type": "code",
   "execution_count": 159,
   "metadata": {},
   "outputs": [
    {
     "data": {
      "text/plain": [
       "array([[  2.45, 121.92],\n",
       "       [  4.42, 140.73],\n",
       "       [  2.05, 135.27],\n",
       "       ...,\n",
       "       [  7.41,  55.18],\n",
       "       [  4.02, 324.39],\n",
       "       [  2.55, 337.06]])"
      ]
     },
     "execution_count": 159,
     "metadata": {},
     "output_type": "execute_result"
    }
   ],
   "source": [
    "x_train"
   ]
  },
  {
   "cell_type": "code",
   "execution_count": 160,
   "metadata": {},
   "outputs": [
    {
     "data": {
      "text/plain": [
       "array([0.12 , 0.371, 0.   , ..., 0.546, 0.075, 0.055])"
      ]
     },
     "execution_count": 160,
     "metadata": {},
     "output_type": "execute_result"
    }
   ],
   "source": [
    "y_train"
   ]
  },
  {
   "cell_type": "code",
   "execution_count": 161,
   "metadata": {},
   "outputs": [],
   "source": [
    "#reshape\n",
    "x_train_re = x_train.reshape((x_train.shape[0],1,x_train.shape[1]))\n",
    "x_train = x_train_re\n",
    "#print(x_train.shape, y_train.shape)"
   ]
  },
  {
   "cell_type": "code",
   "execution_count": 162,
   "metadata": {},
   "outputs": [
    {
     "data": {
      "text/plain": [
       "array([[[  2.45, 121.92]],\n",
       "\n",
       "       [[  4.42, 140.73]],\n",
       "\n",
       "       [[  2.05, 135.27]],\n",
       "\n",
       "       ...,\n",
       "\n",
       "       [[  7.41,  55.18]],\n",
       "\n",
       "       [[  4.02, 324.39]],\n",
       "\n",
       "       [[  2.55, 337.06]]])"
      ]
     },
     "execution_count": 162,
     "metadata": {},
     "output_type": "execute_result"
    }
   ],
   "source": [
    "x_train"
   ]
  },
  {
   "cell_type": "code",
   "execution_count": 163,
   "metadata": {},
   "outputs": [
    {
     "data": {
      "text/plain": [
       "array([0.12 , 0.371, 0.   , ..., 0.546, 0.075, 0.055])"
      ]
     },
     "execution_count": 163,
     "metadata": {},
     "output_type": "execute_result"
    }
   ],
   "source": [
    "y_train"
   ]
  },
  {
   "cell_type": "code",
   "execution_count": 165,
   "metadata": {},
   "outputs": [
    {
     "name": "stdout",
     "output_type": "stream",
     "text": [
      "Epoch 1/10\n",
      " - 14s - loss: 0.0316 - binary_accuracy: 0.0788 - mean_squared_error: 0.0316\n",
      "Epoch 2/10\n",
      " - 7s - loss: 0.0287 - binary_accuracy: 0.0788 - mean_squared_error: 0.0287\n",
      "Epoch 3/10\n",
      " - 6s - loss: 0.0286 - binary_accuracy: 0.0788 - mean_squared_error: 0.0286\n",
      "Epoch 4/10\n",
      " - 8s - loss: 0.0286 - binary_accuracy: 0.0788 - mean_squared_error: 0.0286\n",
      "Epoch 5/10\n",
      " - 8s - loss: 0.0285 - binary_accuracy: 0.0788 - mean_squared_error: 0.0285\n",
      "Epoch 6/10\n",
      " - 7s - loss: 0.0285 - binary_accuracy: 0.0788 - mean_squared_error: 0.0285\n",
      "Epoch 7/10\n",
      " - 7s - loss: 0.0285 - binary_accuracy: 0.0788 - mean_squared_error: 0.0285\n",
      "Epoch 8/10\n",
      " - 6s - loss: 0.0284 - binary_accuracy: 0.0787 - mean_squared_error: 0.0284\n",
      "Epoch 9/10\n",
      " - 6s - loss: 0.0284 - binary_accuracy: 0.0787 - mean_squared_error: 0.0284\n",
      "Epoch 10/10\n",
      " - 7s - loss: 0.0284 - binary_accuracy: 0.0787 - mean_squared_error: 0.0284\n"
     ]
    }
   ],
   "source": [
    "\n",
    "csv_logger = keras.callbacks.CSVLogger('training.log', separator=',', append=False)\n",
    "\n",
    "## cargamos las 4 combinaciones de las compuertas XOR\n",
    "#training_data = x_train\n",
    " \n",
    "# y estos son los resultados que se obtienen, en el mismo orden\n",
    "#target_data = y_train\n",
    "\n",
    "\n",
    "# import norm\n",
    "#from keras.constraints import max_norm\n",
    "# instantiate norm\n",
    "#norm = max_norm(3.0)\n",
    "keras.callbacks.Callback()\n",
    "\n",
    "#, kernel_constraint=max_norm(3), bias_constraint=max_norm(3))\n",
    "model = Sequential()\n",
    "model.add(LSTM(100, return_sequences = True,input_shape=(1, 2)))\n",
    "model.add(LSTM(100,  return_sequences = False))\n",
    "model.add(Dense(1, activation=\"linear\"))\n",
    "\n",
    "\n",
    "model.compile(loss='mean_squared_error',\n",
    "              optimizer='adam',\n",
    "              metrics=['binary_accuracy','mean_squared_error'])\n",
    "\n",
    "#metrics=['accuracy']\n",
    " \n",
    "hist=model.fit(x_train, y_train, epochs=10, batch_size=300, verbose=2, shuffle=False, callbacks=[csv_logger])\n",
    "#validation_data=(x_test, y_test),\n",
    " \n",
    "# evaluamos el modelo\n",
    "#scores = model.evaluate(x_train, y_train)\n",
    " \n",
    "#print(\"\\n%s: %.2f%%\" % (model.metrics_names[1], scores[1]*100))\n",
    "#print (model.predict(x_train).round())"
   ]
  },
  {
   "cell_type": "code",
   "execution_count": 166,
   "metadata": {},
   "outputs": [],
   "source": [
    "pred_train = model.predict(x_train)    "
   ]
  },
  {
   "cell_type": "code",
   "execution_count": 167,
   "metadata": {},
   "outputs": [
    {
     "data": {
      "text/plain": [
       "104832"
      ]
     },
     "execution_count": 167,
     "metadata": {},
     "output_type": "execute_result"
    }
   ],
   "source": [
    "len(pred_train)"
   ]
  },
  {
   "cell_type": "code",
   "execution_count": 168,
   "metadata": {},
   "outputs": [],
   "source": [
    "pred_train_plot = pred_train[2000:2050]\n",
    "y_train_plot = y_train[2000:2050]"
   ]
  },
  {
   "cell_type": "code",
   "execution_count": 169,
   "metadata": {},
   "outputs": [],
   "source": [
    "neuronas=100\n",
    "corr = np.corrcoef(y_train, pred_train[:, 0])\n",
    "#trainPredictPlot = np.empty_like(y_train_plot)\n",
    "\n",
    "#trainPredictPlot.shape\n",
    "#trainPredictPlot[1:len(y_train_plot)] = pred_train_plot[0]\n",
    "\n",
    "\n",
    "#y_train_plot\n",
    "#trainPredictPlot\n",
    "\n",
    "#pred_train_plot.shape[0]\n",
    "#pred_train.shape\n",
    "\n",
    "#testPredictPlot = np.empty_like(y)\n",
    "##testPredictPlot[:, :] = numpy.nan\n",
    "#testPredictPlot[len(trainPredict) + (look_back * 2) - 1:len(vfsc) - 1, :] = testPredict"
   ]
  },
  {
   "cell_type": "code",
   "execution_count": 170,
   "metadata": {},
   "outputs": [
    {
     "data": {
      "image/png": "[encoded data removed]",
      "text/plain": [
       "<Figure size 1152x648 with 1 Axes>"
      ]
     },
     "metadata": {},
     "output_type": "display_data"
    }
   ],
   "source": [
    "plt.plot(pred_train_plot, label =\"prediction\")\n",
    "plt.plot(y_train_plot, label =\"y train\")\n",
    "#plt.plot(trainPredictPlot, label =\"train pred\" )\n",
    "plt.title(\"LSTM con %i neuronas, correlacion: %.2f\" % (neuronas, corr[1][0] * 100))\n",
    "plt.ylabel(\"Energia Generada\")\n",
    "plt.xlabel(\"Tiempo\")\n",
    "plt.legend()\n",
    "plt.show()"
   ]
  },
  {
   "cell_type": "code",
   "execution_count": null,
   "metadata": {},
   "outputs": [],
   "source": [
    "## registro = pd.read_csv('training.log', sep=\",\")\n",
    "plt.plot(registro[\"epoch\"].values, registro[\"loss\"].values)\n",
    "plt.title(\"Error LSTM con %i neuronas, correlacion: %.2f\" % (neuronas, corr[1][0] * 100))\n",
    "plt.ylabel(\"Error\")\n",
    "plt.xlabel(\"Epocas\")\n",
    "plt.show()"
   ]
  },
  {
   "cell_type": "code",
   "execution_count": 149,
   "metadata": {},
   "outputs": [
    {
     "name": "stdout",
     "output_type": "stream",
     "text": [
      "dict_keys(['loss', 'binary_accuracy', 'mean_squared_error'])\n"
     ]
    }
   ],
   "source": [
    "print(hist.history.keys())"
   ]
  },
  {
   "cell_type": "code",
   "execution_count": 150,
   "metadata": {},
   "outputs": [
    {
     "data": {
      "image/png": "[encoded data removed]",
      "text/plain": [
       "<Figure size 1152x648 with 1 Axes>"
      ]
     },
     "metadata": {},
     "output_type": "display_data"
    },
    {
     "data": {
      "image/png": "[encoded data removed]",
      "text/plain": [
       "<Figure size 1152x648 with 1 Axes>"
      ]
     },
     "metadata": {},
     "output_type": "display_data"
    }
   ],
   "source": [
    "# Plot training & validation accuracy values\n",
    "plt.plot(hist.history['binary_accuracy'])\n",
    "#plt.plot(hist.history['val_binary_accuracy'])\n",
    "plt.title('Model accuracy')\n",
    "plt.ylabel('Accuracy')\n",
    "plt.xlabel('Epoch')\n",
    "plt.legend(['Train', 'Test'], loc='upper left')\n",
    "plt.show()\n",
    "\n",
    "# Plot training & validation loss values\n",
    "plt.plot(hist.history['loss'])\n",
    "#plt.plot(hist.history['val_loss'])\n",
    "plt.title('Model loss')\n",
    "plt.ylabel('Loss')\n",
    "plt.xlabel('Epoch')\n",
    "plt.legend(['Train', 'Test'], loc='upper left')\n",
    "plt.show()\n"
   ]
  },
  {
   "cell_type": "code",
   "execution_count": 34,
   "metadata": {},
   "outputs": [
    {
     "name": "stdout",
     "output_type": "stream",
     "text": [
      "[[0.2717455]]\n"
     ]
    }
   ],
   "source": [
    "## Vamos a comprobar:\n",
    "# Quiero predecir cuántos \"wp1\" voy a obtener por 13 ws (wind speed mph),\n",
    "# según nuestro modelo, hacemos:\n",
    "\n",
    "#y_12 = regr.predict([[12,70.4,2012,7]])\n",
    "test= np.array([[3.66,106.24,2009,7]])\n",
    "y_12 = model.predict(test)\n",
    "\n",
    "\n",
    "print(y_12)"
   ]
  },
  {
   "cell_type": "code",
   "execution_count": 35,
   "metadata": {},
   "outputs": [
    {
     "data": {
      "text/html": [
       "<div>\n",
       "<style scoped>\n",
       "    .dataframe tbody tr th:only-of-type {\n",
       "        vertical-align: middle;\n",
       "    }\n",
       "\n",
       "    .dataframe tbody tr th {\n",
       "        vertical-align: top;\n",
       "    }\n",
       "\n",
       "    .dataframe thead th {\n",
       "        text-align: right;\n",
       "    }\n",
       "</style>\n",
       "<table border=\"1\" class=\"dataframe\">\n",
       "  <thead>\n",
       "    <tr style=\"text-align: right;\">\n",
       "      <th></th>\n",
       "      <th>ws</th>\n",
       "      <th>wd</th>\n",
       "      <th>anno</th>\n",
       "      <th>mes</th>\n",
       "    </tr>\n",
       "  </thead>\n",
       "  <tbody>\n",
       "    <tr>\n",
       "      <th>0</th>\n",
       "      <td>6.00</td>\n",
       "      <td>129.58</td>\n",
       "      <td>2009</td>\n",
       "      <td>7</td>\n",
       "    </tr>\n",
       "    <tr>\n",
       "      <th>1</th>\n",
       "      <td>5.95</td>\n",
       "      <td>129.18</td>\n",
       "      <td>2009</td>\n",
       "      <td>7</td>\n",
       "    </tr>\n",
       "    <tr>\n",
       "      <th>2</th>\n",
       "      <td>5.58</td>\n",
       "      <td>128.26</td>\n",
       "      <td>2009</td>\n",
       "      <td>7</td>\n",
       "    </tr>\n",
       "    <tr>\n",
       "      <th>3</th>\n",
       "      <td>5.02</td>\n",
       "      <td>126.75</td>\n",
       "      <td>2009</td>\n",
       "      <td>7</td>\n",
       "    </tr>\n",
       "    <tr>\n",
       "      <th>4</th>\n",
       "      <td>4.36</td>\n",
       "      <td>124.69</td>\n",
       "      <td>2009</td>\n",
       "      <td>7</td>\n",
       "    </tr>\n",
       "  </tbody>\n",
       "</table>\n",
       "</div>"
      ],
      "text/plain": [
       "     ws      wd  anno  mes\n",
       "0  6.00  129.58  2009    7\n",
       "1  5.95  129.18  2009    7\n",
       "2  5.58  128.26  2009    7\n",
       "3  5.02  126.75  2009    7\n",
       "4  4.36  124.69  2009    7"
      ]
     },
     "execution_count": 35,
     "metadata": {},
     "output_type": "execute_result"
    }
   ],
   "source": [
    "\n",
    "df_test = pd.read_csv(\"/Users/manuelmoya/Documents/USACH/2019-1er/Tesis/1.Desarrollo/05.AnalisisDatos/Datos/test_24.csv\")\n",
    "#veamos cuantas dimensiones y registros contiene\n",
    "\n",
    "# Ver los 1ros registros\n",
    "df_test.head()"
   ]
  },
  {
   "cell_type": "code",
   "execution_count": 36,
   "metadata": {},
   "outputs": [
    {
     "data": {
      "text/html": [
       "<div>\n",
       "<style scoped>\n",
       "    .dataframe tbody tr th:only-of-type {\n",
       "        vertical-align: middle;\n",
       "    }\n",
       "\n",
       "    .dataframe tbody tr th {\n",
       "        vertical-align: top;\n",
       "    }\n",
       "\n",
       "    .dataframe thead th {\n",
       "        text-align: right;\n",
       "    }\n",
       "</style>\n",
       "<table border=\"1\" class=\"dataframe\">\n",
       "  <thead>\n",
       "    <tr style=\"text-align: right;\">\n",
       "      <th></th>\n",
       "      <th>ws</th>\n",
       "      <th>wd</th>\n",
       "      <th>anno</th>\n",
       "      <th>mes</th>\n",
       "    </tr>\n",
       "  </thead>\n",
       "  <tbody>\n",
       "    <tr>\n",
       "      <th>count</th>\n",
       "      <td>48.000000</td>\n",
       "      <td>48.000000</td>\n",
       "      <td>48.0</td>\n",
       "      <td>48.0</td>\n",
       "    </tr>\n",
       "    <tr>\n",
       "      <th>mean</th>\n",
       "      <td>5.201875</td>\n",
       "      <td>117.106667</td>\n",
       "      <td>2009.0</td>\n",
       "      <td>7.0</td>\n",
       "    </tr>\n",
       "    <tr>\n",
       "      <th>std</th>\n",
       "      <td>1.878959</td>\n",
       "      <td>9.265603</td>\n",
       "      <td>0.0</td>\n",
       "      <td>0.0</td>\n",
       "    </tr>\n",
       "    <tr>\n",
       "      <th>min</th>\n",
       "      <td>2.540000</td>\n",
       "      <td>100.850000</td>\n",
       "      <td>2009.0</td>\n",
       "      <td>7.0</td>\n",
       "    </tr>\n",
       "    <tr>\n",
       "      <th>25%</th>\n",
       "      <td>3.395000</td>\n",
       "      <td>110.390000</td>\n",
       "      <td>2009.0</td>\n",
       "      <td>7.0</td>\n",
       "    </tr>\n",
       "    <tr>\n",
       "      <th>50%</th>\n",
       "      <td>4.970000</td>\n",
       "      <td>117.195000</td>\n",
       "      <td>2009.0</td>\n",
       "      <td>7.0</td>\n",
       "    </tr>\n",
       "    <tr>\n",
       "      <th>75%</th>\n",
       "      <td>6.800000</td>\n",
       "      <td>123.850000</td>\n",
       "      <td>2009.0</td>\n",
       "      <td>7.0</td>\n",
       "    </tr>\n",
       "    <tr>\n",
       "      <th>max</th>\n",
       "      <td>8.700000</td>\n",
       "      <td>139.140000</td>\n",
       "      <td>2009.0</td>\n",
       "      <td>7.0</td>\n",
       "    </tr>\n",
       "  </tbody>\n",
       "</table>\n",
       "</div>"
      ],
      "text/plain": [
       "              ws          wd    anno   mes\n",
       "count  48.000000   48.000000    48.0  48.0\n",
       "mean    5.201875  117.106667  2009.0   7.0\n",
       "std     1.878959    9.265603     0.0   0.0\n",
       "min     2.540000  100.850000  2009.0   7.0\n",
       "25%     3.395000  110.390000  2009.0   7.0\n",
       "50%     4.970000  117.195000  2009.0   7.0\n",
       "75%     6.800000  123.850000  2009.0   7.0\n",
       "max     8.700000  139.140000  2009.0   7.0"
      ]
     },
     "execution_count": 36,
     "metadata": {},
     "output_type": "execute_result"
    }
   ],
   "source": [
    "df_test.describe()"
   ]
  },
  {
   "cell_type": "code",
   "execution_count": 37,
   "metadata": {},
   "outputs": [],
   "source": [
    "#x_test = df_test[:,1:5]\n",
    "#y_train = dataset[:,5"
   ]
  },
  {
   "cell_type": "code",
   "execution_count": 38,
   "metadata": {},
   "outputs": [
    {
     "name": "stdout",
     "output_type": "stream",
     "text": [
      "[[0.2876894 ]\n",
      " [0.28733653]\n",
      " [0.28382248]\n",
      " [0.278556  ]\n",
      " [0.27247322]\n",
      " [0.2669514 ]\n",
      " [0.26263934]\n",
      " [0.26079124]\n",
      " [0.26227742]\n",
      " [0.2674305 ]\n",
      " [0.27445564]\n",
      " [0.2807752 ]\n",
      " [0.28510275]\n",
      " [0.28837508]\n",
      " [0.2927746 ]\n",
      " [0.2991931 ]\n",
      " [0.306817  ]\n",
      " [0.31375518]\n",
      " [0.31832057]\n",
      " [0.31797013]\n",
      " [0.30955103]\n",
      " [0.29144642]\n",
      " [0.26939908]\n",
      " [0.25152948]\n",
      " [0.24679148]\n",
      " [0.25241008]\n",
      " [0.2605782 ]\n",
      " [0.265843  ]\n",
      " [0.26808086]\n",
      " [0.2676657 ]\n",
      " [0.26527187]\n",
      " [0.26369336]\n",
      " [0.26557082]\n",
      " [0.27277327]\n",
      " [0.28222504]\n",
      " [0.29117727]\n",
      " [0.29802597]\n",
      " [0.30386725]\n",
      " [0.308655  ]\n",
      " [0.31150702]\n",
      " [0.3131152 ]\n",
      " [0.3152927 ]\n",
      " [0.31865206]\n",
      " [0.31969678]\n",
      " [0.3134599 ]\n",
      " [0.29705384]\n",
      " [0.27641323]\n",
      " [0.2606102 ]]\n"
     ]
    }
   ],
   "source": [
    "df = df_test.values\n",
    "x_test = df[:,0:4]\n",
    "\n",
    "x_test\n",
    "\n",
    "y_12 = model.predict(x_test)\n",
    "\n",
    "print(y_12)"
   ]
  },
  {
   "cell_type": "markdown",
   "metadata": {},
   "source": [
    "### "
   ]
  },
  {
   "cell_type": "code",
   "execution_count": null,
   "metadata": {},
   "outputs": [],
   "source": []
  }
 ],
 "metadata": {
  "kernelspec": {
   "display_name": "Python 3",
   "language": "python",
   "name": "python3"
  },
  "language_info": {
   "codemirror_mode": {
    "name": "ipython",
    "version": 3
   },
   "file_extension": ".py",
   "mimetype": "text/x-python",
   "name": "python",
   "nbconvert_exporter": "python",
   "pygments_lexer": "ipython3",
   "version": "3.6.8"
  }
 },
 "nbformat": 4,
 "nbformat_minor": 2
}
