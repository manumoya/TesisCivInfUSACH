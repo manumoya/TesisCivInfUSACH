{
 "cells": [
  {
   "cell_type": "markdown",
   "metadata": {},
   "source": [
    "# Red Recurrente LSTM\n",
    "## Imports Necesarios"
   ]
  },
  {
   "cell_type": "code",
   "execution_count": 11,
   "metadata": {},
   "outputs": [],
   "source": [
    "# Imports necesarios\n",
    "import numpy as np\n",
    "import pandas as pd\n",
    "#import seaborn as sb\n",
    "import matplotlib.pyplot as plt\n",
    "%matplotlib inline\n",
    "from mpl_toolkits.mplot3d import Axes3D\n",
    "from matplotlib import cm\n",
    "plt.rcParams['figure.figsize'] = (15, 8)\n",
    "plt.style.use('ggplot')\n",
    "\n",
    "\n",
    "from sklearn.model_selection import train_test_split\n",
    "\n",
    "import keras\n",
    "from keras.models import Sequential\n",
    "from keras.layers.core import Dense\n",
    "from keras.layers import LSTM\n",
    "from keras.callbacks import EarlyStopping\n",
    "from keras.callbacks import ModelCheckpoint\n",
    "from keras.models import load_model\n"
   ]
  },
  {
   "cell_type": "markdown",
   "metadata": {},
   "source": [
    "## Cargar archivo de Entradas"
   ]
  },
  {
   "cell_type": "code",
   "execution_count": 12,
   "metadata": {},
   "outputs": [],
   "source": [
    "np.random.seed(1)"
   ]
  },
  {
   "cell_type": "code",
   "execution_count": 13,
   "metadata": {},
   "outputs": [
    {
     "data": {
      "text/html": [
       "<div>\n",
       "<style scoped>\n",
       "    .dataframe tbody tr th:only-of-type {\n",
       "        vertical-align: middle;\n",
       "    }\n",
       "\n",
       "    .dataframe tbody tr th {\n",
       "        vertical-align: top;\n",
       "    }\n",
       "\n",
       "    .dataframe thead th {\n",
       "        text-align: right;\n",
       "    }\n",
       "</style>\n",
       "<table border=\"1\" class=\"dataframe\">\n",
       "  <thead>\n",
       "    <tr style=\"text-align: right;\">\n",
       "      <th></th>\n",
       "      <th>ws</th>\n",
       "      <th>wp1t-44</th>\n",
       "      <th>wp1t-43</th>\n",
       "      <th>wp1t-42</th>\n",
       "      <th>wp1t-41</th>\n",
       "      <th>wp1t-40</th>\n",
       "      <th>wp1t-39</th>\n",
       "      <th>wp1t-38</th>\n",
       "      <th>wp1t-37</th>\n",
       "      <th>wp1t-36</th>\n",
       "      <th>...</th>\n",
       "      <th>wp1t-9</th>\n",
       "      <th>wp1t-8</th>\n",
       "      <th>wp1t-7</th>\n",
       "      <th>wp1t-6</th>\n",
       "      <th>wp1t-5</th>\n",
       "      <th>wp1t-4</th>\n",
       "      <th>wp1t-3</th>\n",
       "      <th>wp1t-2</th>\n",
       "      <th>wp1t-1</th>\n",
       "      <th>wp1</th>\n",
       "    </tr>\n",
       "  </thead>\n",
       "  <tbody>\n",
       "    <tr>\n",
       "      <th>4</th>\n",
       "      <td>2.93</td>\n",
       "      <td>0.25423</td>\n",
       "      <td>0.254231</td>\n",
       "      <td>0.25423</td>\n",
       "      <td>0.25423</td>\n",
       "      <td>0.254229</td>\n",
       "      <td>0.254228</td>\n",
       "      <td>0.254228</td>\n",
       "      <td>0.254229</td>\n",
       "      <td>0.254228</td>\n",
       "      <td>...</td>\n",
       "      <td>0.254221</td>\n",
       "      <td>0.25422</td>\n",
       "      <td>0.25422</td>\n",
       "      <td>0.25422</td>\n",
       "      <td>0.254219</td>\n",
       "      <td>0.254219</td>\n",
       "      <td>0.254219</td>\n",
       "      <td>0.254218</td>\n",
       "      <td>0.254218</td>\n",
       "      <td>0.035</td>\n",
       "    </tr>\n",
       "    <tr>\n",
       "      <th>5</th>\n",
       "      <td>2.96</td>\n",
       "      <td>0.25423</td>\n",
       "      <td>0.254231</td>\n",
       "      <td>0.25423</td>\n",
       "      <td>0.25423</td>\n",
       "      <td>0.254229</td>\n",
       "      <td>0.254228</td>\n",
       "      <td>0.254228</td>\n",
       "      <td>0.254229</td>\n",
       "      <td>0.254228</td>\n",
       "      <td>...</td>\n",
       "      <td>0.254221</td>\n",
       "      <td>0.25422</td>\n",
       "      <td>0.25422</td>\n",
       "      <td>0.25422</td>\n",
       "      <td>0.254219</td>\n",
       "      <td>0.254219</td>\n",
       "      <td>0.254219</td>\n",
       "      <td>0.254218</td>\n",
       "      <td>0.035000</td>\n",
       "      <td>0.005</td>\n",
       "    </tr>\n",
       "    <tr>\n",
       "      <th>6</th>\n",
       "      <td>2.81</td>\n",
       "      <td>0.25423</td>\n",
       "      <td>0.254231</td>\n",
       "      <td>0.25423</td>\n",
       "      <td>0.25423</td>\n",
       "      <td>0.254229</td>\n",
       "      <td>0.254228</td>\n",
       "      <td>0.254228</td>\n",
       "      <td>0.254229</td>\n",
       "      <td>0.254228</td>\n",
       "      <td>...</td>\n",
       "      <td>0.254221</td>\n",
       "      <td>0.25422</td>\n",
       "      <td>0.25422</td>\n",
       "      <td>0.25422</td>\n",
       "      <td>0.254219</td>\n",
       "      <td>0.254219</td>\n",
       "      <td>0.254219</td>\n",
       "      <td>0.035000</td>\n",
       "      <td>0.005000</td>\n",
       "      <td>0.000</td>\n",
       "    </tr>\n",
       "    <tr>\n",
       "      <th>7</th>\n",
       "      <td>2.73</td>\n",
       "      <td>0.25423</td>\n",
       "      <td>0.254231</td>\n",
       "      <td>0.25423</td>\n",
       "      <td>0.25423</td>\n",
       "      <td>0.254229</td>\n",
       "      <td>0.254228</td>\n",
       "      <td>0.254228</td>\n",
       "      <td>0.254229</td>\n",
       "      <td>0.254228</td>\n",
       "      <td>...</td>\n",
       "      <td>0.254221</td>\n",
       "      <td>0.25422</td>\n",
       "      <td>0.25422</td>\n",
       "      <td>0.25422</td>\n",
       "      <td>0.254219</td>\n",
       "      <td>0.254219</td>\n",
       "      <td>0.035000</td>\n",
       "      <td>0.005000</td>\n",
       "      <td>0.000000</td>\n",
       "      <td>0.000</td>\n",
       "    </tr>\n",
       "    <tr>\n",
       "      <th>8</th>\n",
       "      <td>2.87</td>\n",
       "      <td>0.25423</td>\n",
       "      <td>0.254231</td>\n",
       "      <td>0.25423</td>\n",
       "      <td>0.25423</td>\n",
       "      <td>0.254229</td>\n",
       "      <td>0.254228</td>\n",
       "      <td>0.254228</td>\n",
       "      <td>0.254229</td>\n",
       "      <td>0.254228</td>\n",
       "      <td>...</td>\n",
       "      <td>0.254221</td>\n",
       "      <td>0.25422</td>\n",
       "      <td>0.25422</td>\n",
       "      <td>0.25422</td>\n",
       "      <td>0.254219</td>\n",
       "      <td>0.035000</td>\n",
       "      <td>0.005000</td>\n",
       "      <td>0.000000</td>\n",
       "      <td>0.000000</td>\n",
       "      <td>0.010</td>\n",
       "    </tr>\n",
       "  </tbody>\n",
       "</table>\n",
       "<p>5 rows × 46 columns</p>\n",
       "</div>"
      ],
      "text/plain": [
       "     ws  wp1t-44   wp1t-43  wp1t-42  wp1t-41   wp1t-40   wp1t-39   wp1t-38  \\\n",
       "4  2.93  0.25423  0.254231  0.25423  0.25423  0.254229  0.254228  0.254228   \n",
       "5  2.96  0.25423  0.254231  0.25423  0.25423  0.254229  0.254228  0.254228   \n",
       "6  2.81  0.25423  0.254231  0.25423  0.25423  0.254229  0.254228  0.254228   \n",
       "7  2.73  0.25423  0.254231  0.25423  0.25423  0.254229  0.254228  0.254228   \n",
       "8  2.87  0.25423  0.254231  0.25423  0.25423  0.254229  0.254228  0.254228   \n",
       "\n",
       "    wp1t-37   wp1t-36  ...    wp1t-9   wp1t-8   wp1t-7   wp1t-6    wp1t-5  \\\n",
       "4  0.254229  0.254228  ...  0.254221  0.25422  0.25422  0.25422  0.254219   \n",
       "5  0.254229  0.254228  ...  0.254221  0.25422  0.25422  0.25422  0.254219   \n",
       "6  0.254229  0.254228  ...  0.254221  0.25422  0.25422  0.25422  0.254219   \n",
       "7  0.254229  0.254228  ...  0.254221  0.25422  0.25422  0.25422  0.254219   \n",
       "8  0.254229  0.254228  ...  0.254221  0.25422  0.25422  0.25422  0.254219   \n",
       "\n",
       "     wp1t-4    wp1t-3    wp1t-2    wp1t-1    wp1  \n",
       "4  0.254219  0.254219  0.254218  0.254218  0.035  \n",
       "5  0.254219  0.254219  0.254218  0.035000  0.005  \n",
       "6  0.254219  0.254219  0.035000  0.005000  0.000  \n",
       "7  0.254219  0.035000  0.005000  0.000000  0.000  \n",
       "8  0.035000  0.005000  0.000000  0.000000  0.010  \n",
       "\n",
       "[5 rows x 46 columns]"
      ]
     },
     "execution_count": 13,
     "metadata": {},
     "output_type": "execute_result"
    }
   ],
   "source": [
    "\n",
    "#cargamos los datos de entrada\n",
    "#data = pd.read_csv(\"/Users/manuelmoya/Documents/USACH/2019-1er/Tesis/1.Desarrollo/05.AnalisisDatos/Datos/wf1_train_fin_serie.csv\", index_col=0)\n",
    "data = pd.read_csv(\"../05.AnalisisDatos/Datos/wf1_train_fin_serie.csv\", index_col=0)\n",
    "\n",
    "# Ver los 1ros registros\n",
    "data.head()"
   ]
  },
  {
   "cell_type": "markdown",
   "metadata": {},
   "source": [
    "## Separar Datos de Entrenamiento (Train) y Test"
   ]
  },
  {
   "cell_type": "code",
   "execution_count": 14,
   "metadata": {},
   "outputs": [
    {
     "data": {
      "text/plain": [
       "array([5.35486486, 0.266     , 0.266     , 0.266     , 0.266     ,\n",
       "       0.266     , 0.266     , 0.266     , 0.266     , 0.272     ,\n",
       "       0.278     , 0.283     , 0.289     , 0.295     , 0.301     ,\n",
       "       0.306     , 0.312     , 0.318     , 0.324     , 0.329     ,\n",
       "       0.335     , 0.341     , 0.347     , 0.352     , 0.358     ,\n",
       "       0.364     , 0.37      , 0.375     , 0.381     , 0.387     ,\n",
       "       0.393     , 0.398     , 0.404     , 0.433     , 0.439     ,\n",
       "       0.444     , 0.45      , 0.456     , 0.462     , 0.467     ,\n",
       "       0.473     , 0.479     , 0.485     , 0.49      , 0.496     ])"
      ]
     },
     "execution_count": 14,
     "metadata": {},
     "output_type": "execute_result"
    }
   ],
   "source": [
    "# Asignamos nuestra variable de entrada X para entrenamiento y las etiquetas Y.\n",
    "\n",
    "# 75% train y 25% test\n",
    "data_train, data_test = train_test_split(data,test_size=0.2, random_state=200)\n",
    "\n",
    "dataset_train = data_train.values\n",
    "x_train = dataset_train[:,0:45]\n",
    "y_train = dataset_train[:,45]\n",
    "\n",
    "dataset_test = data_test.values\n",
    "x_test = dataset_test[:,0:45]\n",
    "y_test = dataset_test[:,45]\n",
    "\n",
    "\n",
    "#x_test\n",
    "x_train[0]"
   ]
  },
  {
   "cell_type": "code",
   "execution_count": 15,
   "metadata": {},
   "outputs": [
    {
     "data": {
      "text/plain": [
       "0.502"
      ]
     },
     "execution_count": 15,
     "metadata": {},
     "output_type": "execute_result"
    }
   ],
   "source": [
    "y_train[0]"
   ]
  },
  {
   "cell_type": "markdown",
   "metadata": {},
   "source": [
    "## Adaptar Datos para LSTM"
   ]
  },
  {
   "cell_type": "code",
   "execution_count": 16,
   "metadata": {},
   "outputs": [],
   "source": [
    "timesteps = 1\n",
    "\n",
    "#reshape\n",
    "x_train_re = x_train.reshape((x_train.shape[0], timesteps, x_train.shape[1]))\n",
    "x_train = x_train_re\n",
    "\n",
    "\n",
    "x_test_re = x_test.reshape((x_test.shape[0], timesteps, x_test.shape[1]))\n",
    "x_test = x_test_re\n"
   ]
  },
  {
   "cell_type": "code",
   "execution_count": 17,
   "metadata": {},
   "outputs": [
    {
     "data": {
      "text/plain": [
       "1"
      ]
     },
     "execution_count": 17,
     "metadata": {},
     "output_type": "execute_result"
    }
   ],
   "source": [
    "x_train.shape[1]"
   ]
  },
  {
   "cell_type": "code",
   "execution_count": 18,
   "metadata": {},
   "outputs": [
    {
     "data": {
      "text/plain": [
       "45"
      ]
     },
     "execution_count": 18,
     "metadata": {},
     "output_type": "execute_result"
    }
   ],
   "source": [
    "x_train.shape[2]"
   ]
  },
  {
   "cell_type": "code",
   "execution_count": 19,
   "metadata": {},
   "outputs": [],
   "source": [
    "#x_train"
   ]
  },
  {
   "cell_type": "code",
   "execution_count": 20,
   "metadata": {},
   "outputs": [],
   "source": [
    "#y_train"
   ]
  },
  {
   "cell_type": "code",
   "execution_count": 21,
   "metadata": {},
   "outputs": [],
   "source": [
    "#nro_train = len(data_train)"
   ]
  },
  {
   "cell_type": "markdown",
   "metadata": {},
   "source": [
    "## Crear Modelo, Entrenarlo y Predecir"
   ]
  },
  {
   "cell_type": "code",
   "execution_count": 23,
   "metadata": {},
   "outputs": [
    {
     "name": "stdout",
     "output_type": "stream",
     "text": [
      "Train on 76876 samples, validate on 19220 samples\n",
      "Epoch 1/1000\n",
      " - 72s - loss: 0.1860 - mean_squared_error: 0.0627 - val_loss: 0.1860 - val_mean_squared_error: 0.0623\n",
      "\n",
      "Epoch 00001: val_mean_squared_error improved from inf to 0.06231, saving model to best_model_lstm.h5\n",
      "Epoch 2/1000\n",
      " - 57s - loss: 0.1848 - mean_squared_error: 0.0614 - val_loss: 0.1860 - val_mean_squared_error: 0.0621\n",
      "\n",
      "Epoch 00002: val_mean_squared_error improved from 0.06231 to 0.06213, saving model to best_model_lstm.h5\n",
      "Epoch 3/1000\n",
      " - 58s - loss: 0.1848 - mean_squared_error: 0.0614 - val_loss: 0.1861 - val_mean_squared_error: 0.0620\n",
      "\n",
      "Epoch 00003: val_mean_squared_error improved from 0.06213 to 0.06203, saving model to best_model_lstm.h5\n",
      "Epoch 4/1000\n",
      " - 58s - loss: 0.1848 - mean_squared_error: 0.0614 - val_loss: 0.1861 - val_mean_squared_error: 0.0620\n",
      "\n",
      "Epoch 00004: val_mean_squared_error did not improve from 0.06203\n",
      "Epoch 5/1000\n",
      " - 59s - loss: 0.1848 - mean_squared_error: 0.0614 - val_loss: 0.1861 - val_mean_squared_error: 0.0620\n",
      "\n",
      "Epoch 00005: val_mean_squared_error improved from 0.06203 to 0.06202, saving model to best_model_lstm.h5\n",
      "Epoch 6/1000\n",
      " - 61s - loss: 0.1848 - mean_squared_error: 0.0614 - val_loss: 0.1860 - val_mean_squared_error: 0.0621\n",
      "\n",
      "Epoch 00006: val_mean_squared_error did not improve from 0.06202\n",
      "Epoch 7/1000\n",
      " - 59s - loss: 0.1848 - mean_squared_error: 0.0614 - val_loss: 0.1861 - val_mean_squared_error: 0.0620\n",
      "\n",
      "Epoch 00007: val_mean_squared_error improved from 0.06202 to 0.06201, saving model to best_model_lstm.h5\n",
      "Epoch 8/1000\n",
      " - 58s - loss: 0.1848 - mean_squared_error: 0.0614 - val_loss: 0.1861 - val_mean_squared_error: 0.0620\n",
      "\n",
      "Epoch 00008: val_mean_squared_error did not improve from 0.06201\n",
      "Epoch 9/1000\n",
      " - 58s - loss: 0.1848 - mean_squared_error: 0.0614 - val_loss: 0.1861 - val_mean_squared_error: 0.0621\n",
      "\n",
      "Epoch 00009: val_mean_squared_error did not improve from 0.06201\n",
      "Epoch 10/1000\n",
      " - 58s - loss: 0.1848 - mean_squared_error: 0.0614 - val_loss: 0.1861 - val_mean_squared_error: 0.0620\n",
      "\n",
      "Epoch 00010: val_mean_squared_error improved from 0.06201 to 0.06198, saving model to best_model_lstm.h5\n",
      "Epoch 11/1000\n",
      " - 58s - loss: 0.1848 - mean_squared_error: 0.0614 - val_loss: 0.1861 - val_mean_squared_error: 0.0620\n",
      "\n",
      "Epoch 00011: val_mean_squared_error did not improve from 0.06198\n",
      "Epoch 12/1000\n",
      " - 58s - loss: 0.1848 - mean_squared_error: 0.0614 - val_loss: 0.1861 - val_mean_squared_error: 0.0620\n",
      "\n",
      "Epoch 00012: val_mean_squared_error did not improve from 0.06198\n",
      "Epoch 13/1000\n",
      " - 58s - loss: 0.1848 - mean_squared_error: 0.0614 - val_loss: 0.1861 - val_mean_squared_error: 0.0620\n",
      "\n",
      "Epoch 00013: val_mean_squared_error did not improve from 0.06198\n",
      "Epoch 14/1000\n",
      " - 58s - loss: 0.1848 - mean_squared_error: 0.0614 - val_loss: 0.1861 - val_mean_squared_error: 0.0620\n",
      "\n",
      "Epoch 00014: val_mean_squared_error did not improve from 0.06198\n",
      "Epoch 15/1000\n",
      " - 58s - loss: 0.1848 - mean_squared_error: 0.0614 - val_loss: 0.1861 - val_mean_squared_error: 0.0620\n",
      "\n",
      "Epoch 00015: val_mean_squared_error did not improve from 0.06198\n",
      "Epoch 16/1000\n",
      " - 58s - loss: 0.1848 - mean_squared_error: 0.0614 - val_loss: 0.1861 - val_mean_squared_error: 0.0620\n",
      "\n",
      "Epoch 00016: val_mean_squared_error did not improve from 0.06198\n",
      "Epoch 17/1000\n",
      " - 58s - loss: 0.1848 - mean_squared_error: 0.0614 - val_loss: 0.1861 - val_mean_squared_error: 0.0620\n",
      "\n",
      "Epoch 00017: val_mean_squared_error did not improve from 0.06198\n",
      "Epoch 18/1000\n",
      " - 62s - loss: 0.1848 - mean_squared_error: 0.0614 - val_loss: 0.1861 - val_mean_squared_error: 0.0620\n",
      "\n",
      "Epoch 00018: val_mean_squared_error did not improve from 0.06198\n",
      "Epoch 19/1000\n",
      " - 63s - loss: 0.1848 - mean_squared_error: 0.0614 - val_loss: 0.1861 - val_mean_squared_error: 0.0619\n",
      "\n",
      "Epoch 00019: val_mean_squared_error improved from 0.06198 to 0.06195, saving model to best_model_lstm.h5\n",
      "Epoch 20/1000\n",
      " - 64s - loss: 0.1848 - mean_squared_error: 0.0614 - val_loss: 0.1861 - val_mean_squared_error: 0.0619\n",
      "\n",
      "Epoch 00020: val_mean_squared_error improved from 0.06195 to 0.06194, saving model to best_model_lstm.h5\n",
      "Epoch 21/1000\n",
      " - 59s - loss: 0.1848 - mean_squared_error: 0.0614 - val_loss: 0.1861 - val_mean_squared_error: 0.0619\n",
      "\n",
      "Epoch 00021: val_mean_squared_error improved from 0.06194 to 0.06193, saving model to best_model_lstm.h5\n",
      "Epoch 22/1000\n",
      " - 58s - loss: 0.1848 - mean_squared_error: 0.0614 - val_loss: 0.1861 - val_mean_squared_error: 0.0619\n",
      "\n",
      "Epoch 00022: val_mean_squared_error improved from 0.06193 to 0.06192, saving model to best_model_lstm.h5\n",
      "Epoch 23/1000\n",
      " - 58s - loss: 0.1848 - mean_squared_error: 0.0613 - val_loss: 0.1861 - val_mean_squared_error: 0.0619\n",
      "\n",
      "Epoch 00023: val_mean_squared_error improved from 0.06192 to 0.06189, saving model to best_model_lstm.h5\n",
      "Epoch 24/1000\n",
      " - 58s - loss: 0.1848 - mean_squared_error: 0.0614 - val_loss: 0.1861 - val_mean_squared_error: 0.0619\n",
      "\n",
      "Epoch 00024: val_mean_squared_error improved from 0.06189 to 0.06188, saving model to best_model_lstm.h5\n",
      "Epoch 25/1000\n",
      " - 58s - loss: 0.1847 - mean_squared_error: 0.0613 - val_loss: 0.1861 - val_mean_squared_error: 0.0618\n",
      "\n",
      "Epoch 00025: val_mean_squared_error improved from 0.06188 to 0.06184, saving model to best_model_lstm.h5\n",
      "Epoch 26/1000\n",
      " - 58s - loss: 0.1847 - mean_squared_error: 0.0613 - val_loss: 0.1861 - val_mean_squared_error: 0.0619\n",
      "\n",
      "Epoch 00026: val_mean_squared_error did not improve from 0.06184\n",
      "Epoch 27/1000\n",
      " - 58s - loss: 0.1847 - mean_squared_error: 0.0613 - val_loss: 0.1861 - val_mean_squared_error: 0.0619\n",
      "\n",
      "Epoch 00027: val_mean_squared_error did not improve from 0.06184\n",
      "Epoch 28/1000\n",
      " - 58s - loss: 0.1847 - mean_squared_error: 0.0613 - val_loss: 0.1861 - val_mean_squared_error: 0.0619\n",
      "\n",
      "Epoch 00028: val_mean_squared_error did not improve from 0.06184\n",
      "Epoch 29/1000\n",
      " - 59s - loss: 0.1847 - mean_squared_error: 0.0613 - val_loss: 0.1861 - val_mean_squared_error: 0.0619\n",
      "\n",
      "Epoch 00029: val_mean_squared_error did not improve from 0.06184\n",
      "Epoch 30/1000\n",
      " - 58s - loss: 0.1847 - mean_squared_error: 0.0613 - val_loss: 0.1861 - val_mean_squared_error: 0.0619\n",
      "\n",
      "Epoch 00030: val_mean_squared_error did not improve from 0.06184\n",
      "Epoch 31/1000\n",
      " - 58s - loss: 0.1847 - mean_squared_error: 0.0613 - val_loss: 0.1861 - val_mean_squared_error: 0.0619\n",
      "\n",
      "Epoch 00031: val_mean_squared_error did not improve from 0.06184\n",
      "Epoch 32/1000\n",
      " - 60s - loss: 0.1847 - mean_squared_error: 0.0613 - val_loss: 0.1861 - val_mean_squared_error: 0.0619\n",
      "\n",
      "Epoch 00032: val_mean_squared_error did not improve from 0.06184\n",
      "Epoch 33/1000\n",
      " - 58s - loss: 0.1847 - mean_squared_error: 0.0613 - val_loss: 0.1861 - val_mean_squared_error: 0.0619\n",
      "\n",
      "Epoch 00033: val_mean_squared_error did not improve from 0.06184\n",
      "Epoch 34/1000\n",
      " - 62s - loss: 0.1847 - mean_squared_error: 0.0613 - val_loss: 0.1861 - val_mean_squared_error: 0.0619\n",
      "\n",
      "Epoch 00034: val_mean_squared_error did not improve from 0.06184\n",
      "Epoch 35/1000\n",
      " - 62s - loss: 0.1847 - mean_squared_error: 0.0613 - val_loss: 0.1861 - val_mean_squared_error: 0.0618\n",
      "\n",
      "Epoch 00035: val_mean_squared_error improved from 0.06184 to 0.06184, saving model to best_model_lstm.h5\n",
      "Epoch 36/1000\n",
      " - 58s - loss: 0.1847 - mean_squared_error: 0.0613 - val_loss: 0.1861 - val_mean_squared_error: 0.0619\n",
      "\n",
      "Epoch 00036: val_mean_squared_error did not improve from 0.06184\n",
      "Epoch 37/1000\n",
      " - 59s - loss: 0.1847 - mean_squared_error: 0.0613 - val_loss: 0.1861 - val_mean_squared_error: 0.0618\n",
      "\n",
      "Epoch 00037: val_mean_squared_error improved from 0.06184 to 0.06181, saving model to best_model_lstm.h5\n",
      "Epoch 38/1000\n",
      " - 58s - loss: 0.1847 - mean_squared_error: 0.0613 - val_loss: 0.1861 - val_mean_squared_error: 0.0619\n",
      "\n",
      "Epoch 00038: val_mean_squared_error did not improve from 0.06181\n",
      "Epoch 39/1000\n",
      " - 59s - loss: 0.1847 - mean_squared_error: 0.0613 - val_loss: 0.1861 - val_mean_squared_error: 0.0619\n",
      "\n",
      "Epoch 00039: val_mean_squared_error did not improve from 0.06181\n",
      "Epoch 40/1000\n",
      " - 58s - loss: 0.1847 - mean_squared_error: 0.0613 - val_loss: 0.1861 - val_mean_squared_error: 0.0619\n",
      "\n",
      "Epoch 00040: val_mean_squared_error did not improve from 0.06181\n",
      "Epoch 41/1000\n",
      " - 58s - loss: 0.1847 - mean_squared_error: 0.0613 - val_loss: 0.1861 - val_mean_squared_error: 0.0619\n",
      "\n",
      "Epoch 00041: val_mean_squared_error did not improve from 0.06181\n",
      "Epoch 42/1000\n",
      " - 58s - loss: 0.1847 - mean_squared_error: 0.0613 - val_loss: 0.1861 - val_mean_squared_error: 0.0618\n"
     ]
    },
    {
     "name": "stdout",
     "output_type": "stream",
     "text": [
      "\n",
      "Epoch 00042: val_mean_squared_error did not improve from 0.06181\n",
      "Epoch 43/1000\n",
      " - 58s - loss: 0.1847 - mean_squared_error: 0.0613 - val_loss: 0.1861 - val_mean_squared_error: 0.0619\n",
      "\n",
      "Epoch 00043: val_mean_squared_error did not improve from 0.06181\n",
      "Epoch 44/1000\n",
      " - 58s - loss: 0.1847 - mean_squared_error: 0.0613 - val_loss: 0.1861 - val_mean_squared_error: 0.0619\n",
      "\n",
      "Epoch 00044: val_mean_squared_error did not improve from 0.06181\n",
      "Epoch 45/1000\n",
      " - 58s - loss: 0.1847 - mean_squared_error: 0.0613 - val_loss: 0.1861 - val_mean_squared_error: 0.0618\n",
      "\n",
      "Epoch 00045: val_mean_squared_error did not improve from 0.06181\n",
      "Epoch 46/1000\n",
      " - 58s - loss: 0.1847 - mean_squared_error: 0.0613 - val_loss: 0.1861 - val_mean_squared_error: 0.0618\n",
      "\n",
      "Epoch 00046: val_mean_squared_error did not improve from 0.06181\n",
      "Epoch 47/1000\n",
      " - 59s - loss: 0.1847 - mean_squared_error: 0.0613 - val_loss: 0.1861 - val_mean_squared_error: 0.0618\n",
      "\n",
      "Epoch 00047: val_mean_squared_error did not improve from 0.06181\n",
      "Epoch 48/1000\n",
      " - 58s - loss: 0.1847 - mean_squared_error: 0.0613 - val_loss: 0.1861 - val_mean_squared_error: 0.0618\n",
      "\n",
      "Epoch 00048: val_mean_squared_error did not improve from 0.06181\n",
      "Epoch 49/1000\n",
      " - 61s - loss: 0.1847 - mean_squared_error: 0.0613 - val_loss: 0.1861 - val_mean_squared_error: 0.0618\n",
      "\n",
      "Epoch 00049: val_mean_squared_error did not improve from 0.06181\n",
      "Epoch 50/1000\n",
      " - 58s - loss: 0.1847 - mean_squared_error: 0.0613 - val_loss: 0.1861 - val_mean_squared_error: 0.0618\n",
      "\n",
      "Epoch 00050: val_mean_squared_error did not improve from 0.06181\n",
      "Epoch 51/1000\n",
      " - 58s - loss: 0.1847 - mean_squared_error: 0.0613 - val_loss: 0.1861 - val_mean_squared_error: 0.0618\n",
      "\n",
      "Epoch 00051: val_mean_squared_error did not improve from 0.06181\n",
      "Epoch 00051: early stopping\n"
     ]
    }
   ],
   "source": [
    "\n",
    "#csv_logger = keras.callbacks.CSVLogger('training.log', separator=',', append=False)\n",
    "\n",
    "es = EarlyStopping(monitor='val_loss', mode='min', verbose=1, patience=50)\n",
    "mch = ModelCheckpoint('best_model_lstm.h5', monitor='val_mean_squared_error', mode='min', verbose=1, save_best_only=True)\n",
    "\n",
    "\n",
    "#, kernel_constraint=max_norm(3), bias_constraint=max_norm(3))\n",
    "model = Sequential()\n",
    "model.add(LSTM(45, return_sequences = True,input_shape=(x_train.shape[1], x_train.shape[2])))\n",
    "\n",
    "\n",
    "model.add(LSTM(270, return_sequences = True, activation='relu'))\n",
    "model.add(LSTM(270, return_sequences = True, activation='relu'))\n",
    "model.add(LSTM(270, return_sequences = True, activation='relu'))\n",
    "model.add(LSTM(270, return_sequences = True, activation='relu'))\n",
    "model.add(LSTM(270, return_sequences = True, activation='relu'))\n",
    "model.add(LSTM(270, return_sequences = False, activation='relu'))\n",
    "\n",
    "model.add(Dense(1, activation=\"linear\"))\n",
    "\n",
    "\n",
    "model.compile(loss='mean_absolute_error',\n",
    "              optimizer='adam',\n",
    "              metrics=['mean_squared_error'])\n",
    "\n",
    "\n",
    "\n",
    "hist=model.fit(x_train, y_train, epochs=1000, batch_size=45, verbose=2, shuffle=False, validation_data=(x_test, y_test),callbacks=[es, mch])\n"
   ]
  },
  {
   "cell_type": "code",
   "execution_count": 26,
   "metadata": {},
   "outputs": [],
   "source": [
    "# load the saved model\n",
    "best_model = load_model('best_model_lstm.h5')"
   ]
  },
  {
   "cell_type": "code",
   "execution_count": 27,
   "metadata": {},
   "outputs": [],
   "source": [
    "#best_model.summary()"
   ]
  },
  {
   "cell_type": "code",
   "execution_count": 28,
   "metadata": {},
   "outputs": [],
   "source": [
    "\n",
    "y_pred_train = best_model.predict(x_train)    \n",
    "y_pred_test = best_model.predict(x_test) "
   ]
  },
  {
   "cell_type": "markdown",
   "metadata": {},
   "source": [
    "## Obtener Metricas del Modelo"
   ]
  },
  {
   "cell_type": "code",
   "execution_count": 29,
   "metadata": {},
   "outputs": [
    {
     "name": "stdout",
     "output_type": "stream",
     "text": [
      "76876/76876 [==============================] - 22s 282us/step\n"
     ]
    }
   ],
   "source": [
    "# evaluamos el modelo\n",
    "#scores = model.evaluate(x_train, y_train)\n",
    "scores = best_model.evaluate(x_train, y_train)"
   ]
  },
  {
   "cell_type": "code",
   "execution_count": 30,
   "metadata": {},
   "outputs": [
    {
     "name": "stdout",
     "output_type": "stream",
     "text": [
      "\n",
      "loss: 18.48%\n",
      "\n",
      "mean_squared_error: 6.06%\n"
     ]
    }
   ],
   "source": [
    "#print(\"R2:\",  r2_keras(y_train, y_pred_train) )\n",
    "print(\"\\n%s: %.2f%%\" % (best_model.metrics_names[0], scores[0]*100))\n",
    "print(\"\\n%s: %.2f%%\" % (best_model.metrics_names[1], scores[1]*100))\n",
    "#print(\"\\n%s: %.2f%%\" % (model.metrics_names[2], scores[2]*100))\n",
    "#print (model.predict(x_train).round())"
   ]
  },
  {
   "cell_type": "code",
   "execution_count": 31,
   "metadata": {},
   "outputs": [
    {
     "name": "stdout",
     "output_type": "stream",
     "text": [
      "Coefficient of determination Train (R^2): -0.07\n",
      "Coefficient of determination Test (R^2): -0.07\n"
     ]
    }
   ],
   "source": [
    "from sklearn.metrics import r2_score\n",
    "print('Coefficient of determination Train (R^2): %.2f' % r2_score(y_train, y_pred_train))\n",
    "print('Coefficient of determination Test (R^2): %.2f' % r2_score(y_test, y_pred_test))"
   ]
  },
  {
   "cell_type": "markdown",
   "metadata": {},
   "source": [
    "## Graficar Resultados"
   ]
  },
  {
   "cell_type": "code",
   "execution_count": 32,
   "metadata": {},
   "outputs": [
    {
     "name": "stderr",
     "output_type": "stream",
     "text": [
      "/anaconda3/lib/python3.6/site-packages/numpy/lib/function_base.py:2534: RuntimeWarning: invalid value encountered in true_divide\n",
      "  c /= stddev[:, None]\n",
      "/anaconda3/lib/python3.6/site-packages/numpy/lib/function_base.py:2535: RuntimeWarning: invalid value encountered in true_divide\n",
      "  c /= stddev[None, :]\n"
     ]
    }
   ],
   "source": [
    "neuronas =100\n",
    "#pred_train = model.predict(x_train)\n",
    "corr = np.corrcoef(y_train, y_pred_train[:, 0])"
   ]
  },
  {
   "cell_type": "code",
   "execution_count": 33,
   "metadata": {},
   "outputs": [],
   "source": [
    "pred_test_plot = y_pred_test[2000:2050]\n",
    "y_test_plot = y_test[2000:2050]"
   ]
  },
  {
   "cell_type": "code",
   "execution_count": 37,
   "metadata": {},
   "outputs": [
    {
     "data": {
      "image/png": "[encoded data removed]",
      "text/plain": [
       "<Figure size 1080x576 with 1 Axes>"
      ]
     },
     "metadata": {},
     "output_type": "display_data"
    }
   ],
   "source": [
    "plt.plot(pred_test_plot, label =\"prediction\")\n",
    "plt.plot(y_test_plot, label =\"y test\")\n",
    "#plt.plot(trainPredictPlot, label =\"train pred\" )\n",
    "plt.title(\"Curva de Correlación Red Recurrente LSTM. Correlación: %.2f\" % ( corr[1][0] * 100) )\n",
    "plt.ylabel(\"Energía Generada\")\n",
    "plt.xlabel(\"Muestras\")\n",
    "plt.legend()\n",
    "plt.show()"
   ]
  },
  {
   "cell_type": "code",
   "execution_count": 38,
   "metadata": {},
   "outputs": [],
   "source": [
    "#registro = pd.read_csv('training.log', sep=\",\")\n",
    "#plt.plot(registro[\"epoch\"].values, registro[\"loss\"].values)\n",
    "#plt.title(\"Error LSTM con %i neuronas, correlacion: %.2f\" % (neuronas, corr[1][0] * 100))\n",
    "#plt.ylabel(\"Error\")\n",
    "#plt.xlabel(\"Epocas\")\n",
    "#plt.show()"
   ]
  },
  {
   "cell_type": "code",
   "execution_count": 42,
   "metadata": {},
   "outputs": [
    {
     "data": {
      "image/png": "[encoded data removed]",
      "text/plain": [
       "<Figure size 1080x576 with 1 Axes>"
      ]
     },
     "metadata": {},
     "output_type": "display_data"
    }
   ],
   "source": [
    "# Plot training & validation accuracy values\n",
    "plt.plot(hist.history['mean_squared_error'])\n",
    "plt.plot(hist.history['val_mean_squared_error'])\n",
    "plt.title('Curva de Aprendizaje Red Recurrente LSTM')\n",
    "plt.ylabel('Error Medio Cuadrado')\n",
    "plt.xlabel('Épocas')\n",
    "plt.legend(['Train', 'Validation'], loc='upper left')\n",
    "plt.show()"
   ]
  },
  {
   "cell_type": "code",
   "execution_count": 40,
   "metadata": {},
   "outputs": [
    {
     "name": "stdout",
     "output_type": "stream",
     "text": [
      "dict_keys(['val_loss', 'val_mean_squared_error', 'loss', 'mean_squared_error'])\n"
     ]
    }
   ],
   "source": [
    "print(hist.history.keys())"
   ]
  },
  {
   "cell_type": "code",
   "execution_count": 41,
   "metadata": {},
   "outputs": [],
   "source": [
    "\n",
    "# Plot training & validation loss values\n",
    "#plt.plot(hist.history['loss'])\n",
    "#plt.plot(hist.history['val_loss'])\n",
    "#plt.title('Función de Pérdida (loss)')\n",
    "#plt.ylabel('Pérdida (loss)')\n",
    "#plt.xlabel('Épocas')\n",
    "#plt.legend(['Train', 'Validation'], loc='upper left')\n",
    "#plt.show()\n"
   ]
  },
  {
   "cell_type": "code",
   "execution_count": 197,
   "metadata": {},
   "outputs": [],
   "source": [
    "df_pred = pd.DataFrame(data=pred_test_plot, columns=[\"pred\"])\n",
    "#df_pred\n",
    "df_pred.to_csv('/Users/manuelmoya/Documents/USACH/2019-1er/Tesis/1.Desarrollo/05.AnalisisDatos/Datos/pred_LSTM.csv')\n"
   ]
  },
  {
   "cell_type": "code",
   "execution_count": null,
   "metadata": {},
   "outputs": [],
   "source": []
  }
 ],
 "metadata": {
  "kernelspec": {
   "display_name": "Python 3",
   "language": "python",
   "name": "python3"
  },
  "language_info": {
   "codemirror_mode": {
    "name": "ipython",
    "version": 3
   },
   "file_extension": ".py",
   "mimetype": "text/x-python",
   "name": "python",
   "nbconvert_exporter": "python",
   "pygments_lexer": "ipython3",
   "version": "3.6.8"
  }
 },
 "nbformat": 4,
 "nbformat_minor": 2
}
