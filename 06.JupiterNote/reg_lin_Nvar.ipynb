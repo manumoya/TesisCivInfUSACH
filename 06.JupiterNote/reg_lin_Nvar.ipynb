{
 "cells": [
  {
   "cell_type": "markdown",
   "metadata": {},
   "source": [
    "# Regresión Líneal"
   ]
  },
  {
   "cell_type": "markdown",
   "metadata": {},
   "source": [
    "## Imports Necesarios"
   ]
  },
  {
   "cell_type": "code",
   "execution_count": 16,
   "metadata": {},
   "outputs": [],
   "source": [
    "import numpy as np\n",
    "import pandas as pd\n",
    "#import seaborn as sb\n",
    "import matplotlib.pyplot as plt\n",
    "%matplotlib inline\n",
    "#from mpl_toolkits.mplot3d import Axes3D\n",
    "#from matplotlib import cm\n",
    "plt.rcParams['figure.figsize'] = (15, 8)\n",
    "plt.style.use('ggplot')\n",
    "\n",
    "from sklearn import linear_model\n",
    "from sklearn.metrics import mean_squared_error, r2_score, mean_absolute_error\n",
    "from sklearn.model_selection import train_test_split"
   ]
  },
  {
   "cell_type": "markdown",
   "metadata": {},
   "source": [
    "## Visualizar Archivo Leído"
   ]
  },
  {
   "cell_type": "code",
   "execution_count": 17,
   "metadata": {},
   "outputs": [],
   "source": [
    "np.random.seed(1)\n",
    "\n",
    "#cargamos los datos de entrada\n",
    "data = pd.read_csv(\"/Users/manuelmoya/Documents/USACH/2019-1er/Tesis/1.Desarrollo/05.AnalisisDatos/Datos/wf1_train_fin_serie.csv\", index_col=0)\n",
    "\n"
   ]
  },
  {
   "cell_type": "code",
   "execution_count": 18,
   "metadata": {},
   "outputs": [
    {
     "data": {
      "text/html": [
       "<div>\n",
       "<style scoped>\n",
       "    .dataframe tbody tr th:only-of-type {\n",
       "        vertical-align: middle;\n",
       "    }\n",
       "\n",
       "    .dataframe tbody tr th {\n",
       "        vertical-align: top;\n",
       "    }\n",
       "\n",
       "    .dataframe thead th {\n",
       "        text-align: right;\n",
       "    }\n",
       "</style>\n",
       "<table border=\"1\" class=\"dataframe\">\n",
       "  <thead>\n",
       "    <tr style=\"text-align: right;\">\n",
       "      <th></th>\n",
       "      <th>ws</th>\n",
       "      <th>wp1t-44</th>\n",
       "      <th>wp1t-43</th>\n",
       "      <th>wp1t-42</th>\n",
       "      <th>wp1t-41</th>\n",
       "      <th>wp1t-40</th>\n",
       "      <th>wp1t-39</th>\n",
       "      <th>wp1t-38</th>\n",
       "      <th>wp1t-37</th>\n",
       "      <th>wp1t-36</th>\n",
       "      <th>...</th>\n",
       "      <th>wp1t-9</th>\n",
       "      <th>wp1t-8</th>\n",
       "      <th>wp1t-7</th>\n",
       "      <th>wp1t-6</th>\n",
       "      <th>wp1t-5</th>\n",
       "      <th>wp1t-4</th>\n",
       "      <th>wp1t-3</th>\n",
       "      <th>wp1t-2</th>\n",
       "      <th>wp1t-1</th>\n",
       "      <th>wp1</th>\n",
       "    </tr>\n",
       "  </thead>\n",
       "  <tbody>\n",
       "    <tr>\n",
       "      <th>4</th>\n",
       "      <td>2.93</td>\n",
       "      <td>0.25423</td>\n",
       "      <td>0.254231</td>\n",
       "      <td>0.25423</td>\n",
       "      <td>0.25423</td>\n",
       "      <td>0.254229</td>\n",
       "      <td>0.254228</td>\n",
       "      <td>0.254228</td>\n",
       "      <td>0.254229</td>\n",
       "      <td>0.254228</td>\n",
       "      <td>...</td>\n",
       "      <td>0.254221</td>\n",
       "      <td>0.25422</td>\n",
       "      <td>0.25422</td>\n",
       "      <td>0.25422</td>\n",
       "      <td>0.254219</td>\n",
       "      <td>0.254219</td>\n",
       "      <td>0.254219</td>\n",
       "      <td>0.254218</td>\n",
       "      <td>0.254218</td>\n",
       "      <td>0.035</td>\n",
       "    </tr>\n",
       "    <tr>\n",
       "      <th>5</th>\n",
       "      <td>2.96</td>\n",
       "      <td>0.25423</td>\n",
       "      <td>0.254231</td>\n",
       "      <td>0.25423</td>\n",
       "      <td>0.25423</td>\n",
       "      <td>0.254229</td>\n",
       "      <td>0.254228</td>\n",
       "      <td>0.254228</td>\n",
       "      <td>0.254229</td>\n",
       "      <td>0.254228</td>\n",
       "      <td>...</td>\n",
       "      <td>0.254221</td>\n",
       "      <td>0.25422</td>\n",
       "      <td>0.25422</td>\n",
       "      <td>0.25422</td>\n",
       "      <td>0.254219</td>\n",
       "      <td>0.254219</td>\n",
       "      <td>0.254219</td>\n",
       "      <td>0.254218</td>\n",
       "      <td>0.035000</td>\n",
       "      <td>0.005</td>\n",
       "    </tr>\n",
       "    <tr>\n",
       "      <th>6</th>\n",
       "      <td>2.81</td>\n",
       "      <td>0.25423</td>\n",
       "      <td>0.254231</td>\n",
       "      <td>0.25423</td>\n",
       "      <td>0.25423</td>\n",
       "      <td>0.254229</td>\n",
       "      <td>0.254228</td>\n",
       "      <td>0.254228</td>\n",
       "      <td>0.254229</td>\n",
       "      <td>0.254228</td>\n",
       "      <td>...</td>\n",
       "      <td>0.254221</td>\n",
       "      <td>0.25422</td>\n",
       "      <td>0.25422</td>\n",
       "      <td>0.25422</td>\n",
       "      <td>0.254219</td>\n",
       "      <td>0.254219</td>\n",
       "      <td>0.254219</td>\n",
       "      <td>0.035000</td>\n",
       "      <td>0.005000</td>\n",
       "      <td>0.000</td>\n",
       "    </tr>\n",
       "    <tr>\n",
       "      <th>7</th>\n",
       "      <td>2.73</td>\n",
       "      <td>0.25423</td>\n",
       "      <td>0.254231</td>\n",
       "      <td>0.25423</td>\n",
       "      <td>0.25423</td>\n",
       "      <td>0.254229</td>\n",
       "      <td>0.254228</td>\n",
       "      <td>0.254228</td>\n",
       "      <td>0.254229</td>\n",
       "      <td>0.254228</td>\n",
       "      <td>...</td>\n",
       "      <td>0.254221</td>\n",
       "      <td>0.25422</td>\n",
       "      <td>0.25422</td>\n",
       "      <td>0.25422</td>\n",
       "      <td>0.254219</td>\n",
       "      <td>0.254219</td>\n",
       "      <td>0.035000</td>\n",
       "      <td>0.005000</td>\n",
       "      <td>0.000000</td>\n",
       "      <td>0.000</td>\n",
       "    </tr>\n",
       "    <tr>\n",
       "      <th>8</th>\n",
       "      <td>2.87</td>\n",
       "      <td>0.25423</td>\n",
       "      <td>0.254231</td>\n",
       "      <td>0.25423</td>\n",
       "      <td>0.25423</td>\n",
       "      <td>0.254229</td>\n",
       "      <td>0.254228</td>\n",
       "      <td>0.254228</td>\n",
       "      <td>0.254229</td>\n",
       "      <td>0.254228</td>\n",
       "      <td>...</td>\n",
       "      <td>0.254221</td>\n",
       "      <td>0.25422</td>\n",
       "      <td>0.25422</td>\n",
       "      <td>0.25422</td>\n",
       "      <td>0.254219</td>\n",
       "      <td>0.035000</td>\n",
       "      <td>0.005000</td>\n",
       "      <td>0.000000</td>\n",
       "      <td>0.000000</td>\n",
       "      <td>0.010</td>\n",
       "    </tr>\n",
       "    <tr>\n",
       "      <th>...</th>\n",
       "      <td>...</td>\n",
       "      <td>...</td>\n",
       "      <td>...</td>\n",
       "      <td>...</td>\n",
       "      <td>...</td>\n",
       "      <td>...</td>\n",
       "      <td>...</td>\n",
       "      <td>...</td>\n",
       "      <td>...</td>\n",
       "      <td>...</td>\n",
       "      <td>...</td>\n",
       "      <td>...</td>\n",
       "      <td>...</td>\n",
       "      <td>...</td>\n",
       "      <td>...</td>\n",
       "      <td>...</td>\n",
       "      <td>...</td>\n",
       "      <td>...</td>\n",
       "      <td>...</td>\n",
       "      <td>...</td>\n",
       "      <td>...</td>\n",
       "    </tr>\n",
       "    <tr>\n",
       "      <th>104827</th>\n",
       "      <td>2.67</td>\n",
       "      <td>0.34800</td>\n",
       "      <td>0.338000</td>\n",
       "      <td>0.32700</td>\n",
       "      <td>0.31700</td>\n",
       "      <td>0.306000</td>\n",
       "      <td>0.286000</td>\n",
       "      <td>0.221000</td>\n",
       "      <td>0.190000</td>\n",
       "      <td>0.170000</td>\n",
       "      <td>...</td>\n",
       "      <td>0.226000</td>\n",
       "      <td>0.22600</td>\n",
       "      <td>0.22600</td>\n",
       "      <td>0.22600</td>\n",
       "      <td>0.226000</td>\n",
       "      <td>0.226000</td>\n",
       "      <td>0.226000</td>\n",
       "      <td>0.226000</td>\n",
       "      <td>0.226000</td>\n",
       "      <td>0.226</td>\n",
       "    </tr>\n",
       "    <tr>\n",
       "      <th>104828</th>\n",
       "      <td>2.57</td>\n",
       "      <td>0.33800</td>\n",
       "      <td>0.327000</td>\n",
       "      <td>0.31700</td>\n",
       "      <td>0.30600</td>\n",
       "      <td>0.286000</td>\n",
       "      <td>0.221000</td>\n",
       "      <td>0.190000</td>\n",
       "      <td>0.170000</td>\n",
       "      <td>0.211000</td>\n",
       "      <td>...</td>\n",
       "      <td>0.226000</td>\n",
       "      <td>0.22600</td>\n",
       "      <td>0.22600</td>\n",
       "      <td>0.22600</td>\n",
       "      <td>0.226000</td>\n",
       "      <td>0.226000</td>\n",
       "      <td>0.226000</td>\n",
       "      <td>0.226000</td>\n",
       "      <td>0.226000</td>\n",
       "      <td>0.226</td>\n",
       "    </tr>\n",
       "    <tr>\n",
       "      <th>104829</th>\n",
       "      <td>2.29</td>\n",
       "      <td>0.32700</td>\n",
       "      <td>0.317000</td>\n",
       "      <td>0.30600</td>\n",
       "      <td>0.28600</td>\n",
       "      <td>0.221000</td>\n",
       "      <td>0.190000</td>\n",
       "      <td>0.170000</td>\n",
       "      <td>0.211000</td>\n",
       "      <td>0.251000</td>\n",
       "      <td>...</td>\n",
       "      <td>0.226000</td>\n",
       "      <td>0.22600</td>\n",
       "      <td>0.22600</td>\n",
       "      <td>0.22600</td>\n",
       "      <td>0.226000</td>\n",
       "      <td>0.226000</td>\n",
       "      <td>0.226000</td>\n",
       "      <td>0.226000</td>\n",
       "      <td>0.226000</td>\n",
       "      <td>0.226</td>\n",
       "    </tr>\n",
       "    <tr>\n",
       "      <th>104830</th>\n",
       "      <td>1.91</td>\n",
       "      <td>0.31700</td>\n",
       "      <td>0.306000</td>\n",
       "      <td>0.28600</td>\n",
       "      <td>0.22100</td>\n",
       "      <td>0.190000</td>\n",
       "      <td>0.170000</td>\n",
       "      <td>0.211000</td>\n",
       "      <td>0.251000</td>\n",
       "      <td>0.301000</td>\n",
       "      <td>...</td>\n",
       "      <td>0.226000</td>\n",
       "      <td>0.22600</td>\n",
       "      <td>0.22600</td>\n",
       "      <td>0.22600</td>\n",
       "      <td>0.226000</td>\n",
       "      <td>0.226000</td>\n",
       "      <td>0.226000</td>\n",
       "      <td>0.226000</td>\n",
       "      <td>0.226000</td>\n",
       "      <td>0.226</td>\n",
       "    </tr>\n",
       "    <tr>\n",
       "      <th>104831</th>\n",
       "      <td>1.58</td>\n",
       "      <td>0.30600</td>\n",
       "      <td>0.286000</td>\n",
       "      <td>0.22100</td>\n",
       "      <td>0.19000</td>\n",
       "      <td>0.170000</td>\n",
       "      <td>0.211000</td>\n",
       "      <td>0.251000</td>\n",
       "      <td>0.301000</td>\n",
       "      <td>0.226000</td>\n",
       "      <td>...</td>\n",
       "      <td>0.226000</td>\n",
       "      <td>0.22600</td>\n",
       "      <td>0.22600</td>\n",
       "      <td>0.22600</td>\n",
       "      <td>0.226000</td>\n",
       "      <td>0.226000</td>\n",
       "      <td>0.226000</td>\n",
       "      <td>0.226000</td>\n",
       "      <td>0.226000</td>\n",
       "      <td>0.226</td>\n",
       "    </tr>\n",
       "  </tbody>\n",
       "</table>\n",
       "<p>96096 rows × 46 columns</p>\n",
       "</div>"
      ],
      "text/plain": [
       "          ws  wp1t-44   wp1t-43  wp1t-42  wp1t-41   wp1t-40   wp1t-39  \\\n",
       "4       2.93  0.25423  0.254231  0.25423  0.25423  0.254229  0.254228   \n",
       "5       2.96  0.25423  0.254231  0.25423  0.25423  0.254229  0.254228   \n",
       "6       2.81  0.25423  0.254231  0.25423  0.25423  0.254229  0.254228   \n",
       "7       2.73  0.25423  0.254231  0.25423  0.25423  0.254229  0.254228   \n",
       "8       2.87  0.25423  0.254231  0.25423  0.25423  0.254229  0.254228   \n",
       "...      ...      ...       ...      ...      ...       ...       ...   \n",
       "104827  2.67  0.34800  0.338000  0.32700  0.31700  0.306000  0.286000   \n",
       "104828  2.57  0.33800  0.327000  0.31700  0.30600  0.286000  0.221000   \n",
       "104829  2.29  0.32700  0.317000  0.30600  0.28600  0.221000  0.190000   \n",
       "104830  1.91  0.31700  0.306000  0.28600  0.22100  0.190000  0.170000   \n",
       "104831  1.58  0.30600  0.286000  0.22100  0.19000  0.170000  0.211000   \n",
       "\n",
       "         wp1t-38   wp1t-37   wp1t-36  ...    wp1t-9   wp1t-8   wp1t-7  \\\n",
       "4       0.254228  0.254229  0.254228  ...  0.254221  0.25422  0.25422   \n",
       "5       0.254228  0.254229  0.254228  ...  0.254221  0.25422  0.25422   \n",
       "6       0.254228  0.254229  0.254228  ...  0.254221  0.25422  0.25422   \n",
       "7       0.254228  0.254229  0.254228  ...  0.254221  0.25422  0.25422   \n",
       "8       0.254228  0.254229  0.254228  ...  0.254221  0.25422  0.25422   \n",
       "...          ...       ...       ...  ...       ...      ...      ...   \n",
       "104827  0.221000  0.190000  0.170000  ...  0.226000  0.22600  0.22600   \n",
       "104828  0.190000  0.170000  0.211000  ...  0.226000  0.22600  0.22600   \n",
       "104829  0.170000  0.211000  0.251000  ...  0.226000  0.22600  0.22600   \n",
       "104830  0.211000  0.251000  0.301000  ...  0.226000  0.22600  0.22600   \n",
       "104831  0.251000  0.301000  0.226000  ...  0.226000  0.22600  0.22600   \n",
       "\n",
       "         wp1t-6    wp1t-5    wp1t-4    wp1t-3    wp1t-2    wp1t-1    wp1  \n",
       "4       0.25422  0.254219  0.254219  0.254219  0.254218  0.254218  0.035  \n",
       "5       0.25422  0.254219  0.254219  0.254219  0.254218  0.035000  0.005  \n",
       "6       0.25422  0.254219  0.254219  0.254219  0.035000  0.005000  0.000  \n",
       "7       0.25422  0.254219  0.254219  0.035000  0.005000  0.000000  0.000  \n",
       "8       0.25422  0.254219  0.035000  0.005000  0.000000  0.000000  0.010  \n",
       "...         ...       ...       ...       ...       ...       ...    ...  \n",
       "104827  0.22600  0.226000  0.226000  0.226000  0.226000  0.226000  0.226  \n",
       "104828  0.22600  0.226000  0.226000  0.226000  0.226000  0.226000  0.226  \n",
       "104829  0.22600  0.226000  0.226000  0.226000  0.226000  0.226000  0.226  \n",
       "104830  0.22600  0.226000  0.226000  0.226000  0.226000  0.226000  0.226  \n",
       "104831  0.22600  0.226000  0.226000  0.226000  0.226000  0.226000  0.226  \n",
       "\n",
       "[96096 rows x 46 columns]"
      ]
     },
     "execution_count": 18,
     "metadata": {},
     "output_type": "execute_result"
    }
   ],
   "source": [
    "# Ver los 1ros registros\n",
    "data"
   ]
  },
  {
   "cell_type": "markdown",
   "metadata": {},
   "source": [
    "## Separar Datos de Entrenamiento (Train) y Test"
   ]
  },
  {
   "cell_type": "code",
   "execution_count": 19,
   "metadata": {},
   "outputs": [],
   "source": [
    "# Asignamos nuestra variable de entrada X para entrenamiento y las etiquetas Y.\n",
    "#filtered_data = data\n",
    "\n",
    "#data_train = data.sample(frac=1,random_state=200) \n",
    "#data_test = data.drop(data_train.index) \n",
    "\n",
    "# 75% train y 25% test\n",
    "#data = data_test2\n",
    "data_train, data_test = train_test_split(data, test_size=0.2, random_state=200)\n",
    "\n",
    "#data_train = data\n",
    "\n",
    "dataset_train = data_train.values\n",
    "x_train = dataset_train[:,0:45]\n",
    "y_train = dataset_train[:,45]\n",
    "\n",
    "\n",
    "dataset_test = data_test.values\n",
    "x_test = dataset_test[:,0:45]\n",
    "y_test = dataset_test[:,45]\n",
    "\n",
    "\n",
    "#dataX2 =  pd.DataFrame()\n",
    "#dataX2[\"ws\"] =data_train[\"ws\"]\n",
    "#dataX2[\"wd\"] =data_train[\"wd\"]\n",
    " \n",
    "#X_train = np.array(dataX2)\n",
    "#y_train = data_train['wp1'].values"
   ]
  },
  {
   "cell_type": "code",
   "execution_count": 20,
   "metadata": {},
   "outputs": [
    {
     "data": {
      "text/plain": [
       "array([5.35486486, 0.266     , 0.266     , 0.266     , 0.266     ,\n",
       "       0.266     , 0.266     , 0.266     , 0.266     , 0.272     ,\n",
       "       0.278     , 0.283     , 0.289     , 0.295     , 0.301     ,\n",
       "       0.306     , 0.312     , 0.318     , 0.324     , 0.329     ,\n",
       "       0.335     , 0.341     , 0.347     , 0.352     , 0.358     ,\n",
       "       0.364     , 0.37      , 0.375     , 0.381     , 0.387     ,\n",
       "       0.393     , 0.398     , 0.404     , 0.433     , 0.439     ,\n",
       "       0.444     , 0.45      , 0.456     , 0.462     , 0.467     ,\n",
       "       0.473     , 0.479     , 0.485     , 0.49      , 0.496     ])"
      ]
     },
     "execution_count": 20,
     "metadata": {},
     "output_type": "execute_result"
    }
   ],
   "source": [
    "x_train[0]"
   ]
  },
  {
   "cell_type": "code",
   "execution_count": 21,
   "metadata": {},
   "outputs": [
    {
     "data": {
      "text/plain": [
       "0.502"
      ]
     },
     "execution_count": 21,
     "metadata": {},
     "output_type": "execute_result"
    }
   ],
   "source": [
    "y_train[0]"
   ]
  },
  {
   "cell_type": "code",
   "execution_count": 22,
   "metadata": {},
   "outputs": [
    {
     "data": {
      "text/plain": [
       "array([[ 2.34 ,  0.251,  0.226, ...,  0.045,  0.06 ,  0.025],\n",
       "       [10.5  ,  0.03 ,  0.   , ...,  0.707,  0.722,  0.882],\n",
       "       [ 3.23 ,  0.075,  0.175, ...,  0.03 ,  0.025,  0.015],\n",
       "       ...,\n",
       "       [ 2.82 ,  0.055,  0.055, ...,  0.   ,  0.   ,  0.   ],\n",
       "       [ 2.85 ,  0.045,  0.015, ...,  0.   ,  0.   ,  0.   ],\n",
       "       [ 2.79 ,  0.119,  0.12 , ...,  0.08 ,  0.115,  0.085]])"
      ]
     },
     "execution_count": 22,
     "metadata": {},
     "output_type": "execute_result"
    }
   ],
   "source": [
    "x_test"
   ]
  },
  {
   "cell_type": "code",
   "execution_count": 23,
   "metadata": {},
   "outputs": [
    {
     "data": {
      "text/plain": [
       "array([0.251, 0.852, 0.025, ..., 0.   , 0.   , 0.143])"
      ]
     },
     "execution_count": 23,
     "metadata": {},
     "output_type": "execute_result"
    }
   ],
   "source": [
    "y_test"
   ]
  },
  {
   "cell_type": "markdown",
   "metadata": {},
   "source": [
    "## Crear Modelo, Entrenarlo y Predeccir"
   ]
  },
  {
   "cell_type": "code",
   "execution_count": 24,
   "metadata": {},
   "outputs": [],
   "source": [
    "# Creamos el objeto de Regresión Linear\n",
    "regr = linear_model.LinearRegression()\n",
    " \n",
    "# Entrenamos nuestro modelo\n",
    "regr.fit(x_train, y_train)\n",
    " \n",
    "# Hacemos las predicciones que en definitiva una línea (en este caso, al ser 2D)\n",
    "#y_pred = regr.predict(dataX2)\n",
    "y_pred_train = regr.predict(x_train)\n",
    "y_pred_test = regr.predict(x_test)"
   ]
  },
  {
   "cell_type": "code",
   "execution_count": 25,
   "metadata": {},
   "outputs": [],
   "source": [
    "##from sklearn.ensemble import GradientBoostingRegressor\n",
    "#gbr = GradientBoostingRegressor(loss=\"ls\", learning_rate=.05, n_estimators=250, max_depth=3, min_samples_leaf=25)\n",
    "#gbr.fit(x_train, y_train)\n",
    "#y_pred_test = gbr.predict(x_test)\n",
    "#r2_score(y_test, y_pred_test)"
   ]
  },
  {
   "cell_type": "code",
   "execution_count": 26,
   "metadata": {},
   "outputs": [
    {
     "data": {
      "text/plain": [
       "0.9202240591498613"
      ]
     },
     "execution_count": 26,
     "metadata": {},
     "output_type": "execute_result"
    }
   ],
   "source": [
    "import statsmodels.api as sm\n",
    "my_ols = sm.OLS(y_train,x_train).fit()\n",
    "y_pred_test = my_ols.predict(x_test)\n",
    "r2_score(y_test, y_pred_test)"
   ]
  },
  {
   "cell_type": "markdown",
   "metadata": {},
   "source": [
    "## Obtener Metricas del Modelo"
   ]
  },
  {
   "cell_type": "code",
   "execution_count": 27,
   "metadata": {},
   "outputs": [
    {
     "name": "stdout",
     "output_type": "stream",
     "text": [
      "Coefficients: \n",
      " [ 5.73958175e-03 -2.05908609e-02  3.85099761e-02 -1.54036996e-03\n",
      " -8.51264448e-03 -1.36599113e-02  2.47055165e-02  7.45791171e-03\n",
      " -1.46380099e-02  1.79713659e-02  7.06755255e-03  5.96091417e-02\n",
      " -5.44034735e-01  5.49465987e-01  2.44177687e-03  1.24013567e-03\n",
      "  2.81987703e-03  1.86489692e-03 -8.10838343e-03 -5.09359820e-02\n",
      "  1.13101146e-01 -9.01440435e-02  3.27440749e-02  4.72814026e-03\n",
      "  5.94241803e-03 -1.86085520e-02  1.50174433e-02 -2.63115511e-03\n",
      "  5.02036061e-03 -3.84675475e-03 -8.55426106e-04 -6.76487062e-03\n",
      "  1.89370022e-02 -4.02934504e-03 -2.22346271e-02  2.06723371e-02\n",
      " -2.30251751e-02  5.24718900e-02 -4.95460444e-02 -8.54405932e-03\n",
      "  1.62184727e-02 -2.03276200e-02 -1.52402490e-02 -1.45737097e-02\n",
      "  9.03826544e-01]\n",
      "Mean squared error Train: 0.00\n",
      "Mean squared error Test: 0.00\n",
      "RMSE train: 0.07\n",
      "Coefficient of determination Train (R^2): 0.92\n",
      "Coefficient of determination Test (R^2): 0.92\n",
      "mean_absolute_error train: 0.04\n",
      "mean_absolute_error test: 0.04\n"
     ]
    }
   ],
   "source": [
    "# Veamos los coeficienetes obtenidos, En nuestro caso, serán la Tangente\n",
    "print('Coefficients: \\n', regr.coef_)\n",
    "\n",
    "# Este es el valor donde corta el eje Y (en X=0)\n",
    "#print('Independent term: \\n', regr.intercept_)\n",
    "\n",
    "# Error Cuadrado Medio\n",
    "print(\"Mean squared error Train: %.2f\" % mean_squared_error(y_train, y_pred_train))\n",
    "print(\"Mean squared error Test: %.2f\" % mean_squared_error(y_test, y_pred_test))\n",
    "\n",
    "rmse = np.sqrt(mean_squared_error(y_train, y_pred_train))\n",
    "print(\"RMSE train: %.2f\" % (rmse) )\n",
    "\n",
    "# Puntaje de Varianza. El mejor puntaje es un 1.0\n",
    "print('Coefficient of determination Train (R^2): %.2f' % r2_score(y_train, y_pred_train))\n",
    "#mean_absolute_error\n",
    "print('Coefficient of determination Test (R^2): %.2f' % r2_score(y_test, y_pred_test))\n",
    "print('mean_absolute_error train: %.2f' % mean_absolute_error(y_train, y_pred_train))\n",
    "print('mean_absolute_error test: %.2f' % mean_absolute_error(y_test, y_pred_test))"
   ]
  },
  {
   "cell_type": "markdown",
   "metadata": {},
   "source": [
    "## Graficar Resultados"
   ]
  },
  {
   "cell_type": "code",
   "execution_count": 31,
   "metadata": {},
   "outputs": [],
   "source": [
    "# Determinar rango de datos para graafica\n",
    "pred_test_plot = y_pred_test[2000:2050]\n",
    "y_test_plot = y_test[2000:2050]\n",
    "corr = np.corrcoef(y_test, y_pred_test)"
   ]
  },
  {
   "cell_type": "code",
   "execution_count": 32,
   "metadata": {},
   "outputs": [
    {
     "data": {
      "image/png": "[encoded data removed]",
      "text/plain": [
       "<Figure size 1080x576 with 1 Axes>"
      ]
     },
     "metadata": {},
     "output_type": "display_data"
    }
   ],
   "source": [
    "plt.plot(pred_test_plot, label =\"y predicción\")\n",
    "plt.plot(y_test_plot, label =\"y test\")\n",
    "#plt.plot(trainPredictPlot, label =\"train pred\" )\n",
    "plt.title(\"Regresión Lineal, correlación: %.2f\" % (corr[1][0] * 100))\n",
    "plt.ylabel(\"Energia Generada\")\n",
    "plt.xlabel(\"Nro de Observaciones\")\n",
    "plt.legend()\n",
    "plt.show()"
   ]
  },
  {
   "cell_type": "markdown",
   "metadata": {},
   "source": [
    "## Guarda Datos de Predicción"
   ]
  },
  {
   "cell_type": "code",
   "execution_count": 30,
   "metadata": {},
   "outputs": [],
   "source": [
    "df_pred = pd.DataFrame(data=pred_test_plot, columns=[\"pred\"])\n",
    "#df_pred\n",
    "df_pred.to_csv('/Users/manuelmoya/Documents/USACH/2019-1er/Tesis/1.Desarrollo/05.AnalisisDatos/Datos/pred_reglin.csv')"
   ]
  },
  {
   "cell_type": "code",
   "execution_count": null,
   "metadata": {},
   "outputs": [],
   "source": []
  }
 ],
 "metadata": {
  "kernelspec": {
   "display_name": "Python 3",
   "language": "python",
   "name": "python3"
  },
  "language_info": {
   "codemirror_mode": {
    "name": "ipython",
    "version": 3
   },
   "file_extension": ".py",
   "mimetype": "text/x-python",
   "name": "python",
   "nbconvert_exporter": "python",
   "pygments_lexer": "ipython3",
   "version": "3.6.8"
  }
 },
 "nbformat": 4,
 "nbformat_minor": 2
}
