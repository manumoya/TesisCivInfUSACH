{
 "cells": [
  {
   "cell_type": "markdown",
   "metadata": {},
   "source": [
    "# Regresión Líneal"
   ]
  },
  {
   "cell_type": "markdown",
   "metadata": {},
   "source": [
    "## Imports Necesarios"
   ]
  },
  {
   "cell_type": "code",
   "execution_count": 1,
   "metadata": {},
   "outputs": [],
   "source": [
    "import numpy as np\n",
    "import pandas as pd\n",
    "#import seaborn as sb\n",
    "import matplotlib.pyplot as plt\n",
    "%matplotlib inline\n",
    "#from mpl_toolkits.mplot3d import Axes3D\n",
    "#from matplotlib import cm\n",
    "plt.rcParams['figure.figsize'] = (15, 8)\n",
    "plt.style.use('ggplot')\n",
    "\n",
    "from sklearn import linear_model\n",
    "from sklearn.metrics import mean_squared_error, r2_score, mean_absolute_error\n",
    "from sklearn.model_selection import train_test_split"
   ]
  },
  {
   "cell_type": "markdown",
   "metadata": {},
   "source": [
    "## Visualizar Archivo Leído"
   ]
  },
  {
   "cell_type": "code",
   "execution_count": 2,
   "metadata": {},
   "outputs": [],
   "source": [
    "#cargamos los datos de entrada\n",
    "data = pd.read_csv(\"/Users/manuelmoya/Documents/USACH/2019-1er/Tesis/1.Desarrollo/05.AnalisisDatos/Datos/wf1_train_fin_serie.csv\", index_col=0)\n",
    "\n"
   ]
  },
  {
   "cell_type": "code",
   "execution_count": 3,
   "metadata": {},
   "outputs": [
    {
     "data": {
      "text/html": [
       "<div>\n",
       "<style scoped>\n",
       "    .dataframe tbody tr th:only-of-type {\n",
       "        vertical-align: middle;\n",
       "    }\n",
       "\n",
       "    .dataframe tbody tr th {\n",
       "        vertical-align: top;\n",
       "    }\n",
       "\n",
       "    .dataframe thead th {\n",
       "        text-align: right;\n",
       "    }\n",
       "</style>\n",
       "<table border=\"1\" class=\"dataframe\">\n",
       "  <thead>\n",
       "    <tr style=\"text-align: right;\">\n",
       "      <th></th>\n",
       "      <th>ws</th>\n",
       "      <th>wp1t-6</th>\n",
       "      <th>wp1t-8</th>\n",
       "      <th>wp1t-10</th>\n",
       "      <th>wp1t-12</th>\n",
       "      <th>wp1t-14</th>\n",
       "      <th>wp1t-16</th>\n",
       "      <th>wp1t-18</th>\n",
       "      <th>wp1t-20</th>\n",
       "      <th>wp1t-22</th>\n",
       "      <th>...</th>\n",
       "      <th>wp1t-32</th>\n",
       "      <th>wp1t-34</th>\n",
       "      <th>wp1t-36</th>\n",
       "      <th>wp1t-38</th>\n",
       "      <th>wp1t-40</th>\n",
       "      <th>wp1t-42</th>\n",
       "      <th>wp1t-44</th>\n",
       "      <th>wp1t-46</th>\n",
       "      <th>wp1t-48</th>\n",
       "      <th>wp1</th>\n",
       "    </tr>\n",
       "  </thead>\n",
       "  <tbody>\n",
       "    <tr>\n",
       "      <th>4</th>\n",
       "      <td>2.93</td>\n",
       "      <td>0.249145</td>\n",
       "      <td>0.24914</td>\n",
       "      <td>0.249134</td>\n",
       "      <td>0.249127</td>\n",
       "      <td>0.249119</td>\n",
       "      <td>0.24911</td>\n",
       "      <td>0.2491</td>\n",
       "      <td>0.249089</td>\n",
       "      <td>0.249078</td>\n",
       "      <td>...</td>\n",
       "      <td>0.249029</td>\n",
       "      <td>0.249026</td>\n",
       "      <td>0.249025</td>\n",
       "      <td>0.249024</td>\n",
       "      <td>0.249025</td>\n",
       "      <td>0.249028</td>\n",
       "      <td>0.249028</td>\n",
       "      <td>0.249015</td>\n",
       "      <td>0.249005</td>\n",
       "      <td>0.035</td>\n",
       "    </tr>\n",
       "    <tr>\n",
       "      <th>5</th>\n",
       "      <td>2.96</td>\n",
       "      <td>0.249145</td>\n",
       "      <td>0.24914</td>\n",
       "      <td>0.249134</td>\n",
       "      <td>0.249127</td>\n",
       "      <td>0.249119</td>\n",
       "      <td>0.24911</td>\n",
       "      <td>0.2491</td>\n",
       "      <td>0.249089</td>\n",
       "      <td>0.249078</td>\n",
       "      <td>...</td>\n",
       "      <td>0.249029</td>\n",
       "      <td>0.249026</td>\n",
       "      <td>0.249025</td>\n",
       "      <td>0.249024</td>\n",
       "      <td>0.249025</td>\n",
       "      <td>0.249028</td>\n",
       "      <td>0.249028</td>\n",
       "      <td>0.249015</td>\n",
       "      <td>0.249005</td>\n",
       "      <td>0.005</td>\n",
       "    </tr>\n",
       "    <tr>\n",
       "      <th>6</th>\n",
       "      <td>2.81</td>\n",
       "      <td>0.249145</td>\n",
       "      <td>0.24914</td>\n",
       "      <td>0.249134</td>\n",
       "      <td>0.249127</td>\n",
       "      <td>0.249119</td>\n",
       "      <td>0.24911</td>\n",
       "      <td>0.2491</td>\n",
       "      <td>0.249089</td>\n",
       "      <td>0.249078</td>\n",
       "      <td>...</td>\n",
       "      <td>0.249029</td>\n",
       "      <td>0.249026</td>\n",
       "      <td>0.249025</td>\n",
       "      <td>0.249024</td>\n",
       "      <td>0.249025</td>\n",
       "      <td>0.249028</td>\n",
       "      <td>0.249028</td>\n",
       "      <td>0.249015</td>\n",
       "      <td>0.249005</td>\n",
       "      <td>0.000</td>\n",
       "    </tr>\n",
       "    <tr>\n",
       "      <th>7</th>\n",
       "      <td>2.73</td>\n",
       "      <td>0.249145</td>\n",
       "      <td>0.24914</td>\n",
       "      <td>0.249134</td>\n",
       "      <td>0.249127</td>\n",
       "      <td>0.249119</td>\n",
       "      <td>0.24911</td>\n",
       "      <td>0.2491</td>\n",
       "      <td>0.249089</td>\n",
       "      <td>0.249078</td>\n",
       "      <td>...</td>\n",
       "      <td>0.249029</td>\n",
       "      <td>0.249026</td>\n",
       "      <td>0.249025</td>\n",
       "      <td>0.249024</td>\n",
       "      <td>0.249025</td>\n",
       "      <td>0.249028</td>\n",
       "      <td>0.249028</td>\n",
       "      <td>0.249015</td>\n",
       "      <td>0.249005</td>\n",
       "      <td>0.000</td>\n",
       "    </tr>\n",
       "    <tr>\n",
       "      <th>8</th>\n",
       "      <td>2.87</td>\n",
       "      <td>0.249145</td>\n",
       "      <td>0.24914</td>\n",
       "      <td>0.249134</td>\n",
       "      <td>0.249127</td>\n",
       "      <td>0.249119</td>\n",
       "      <td>0.24911</td>\n",
       "      <td>0.2491</td>\n",
       "      <td>0.249089</td>\n",
       "      <td>0.249078</td>\n",
       "      <td>...</td>\n",
       "      <td>0.249029</td>\n",
       "      <td>0.249026</td>\n",
       "      <td>0.249025</td>\n",
       "      <td>0.249024</td>\n",
       "      <td>0.249025</td>\n",
       "      <td>0.249028</td>\n",
       "      <td>0.249028</td>\n",
       "      <td>0.249015</td>\n",
       "      <td>0.249005</td>\n",
       "      <td>0.010</td>\n",
       "    </tr>\n",
       "    <tr>\n",
       "      <th>...</th>\n",
       "      <td>...</td>\n",
       "      <td>...</td>\n",
       "      <td>...</td>\n",
       "      <td>...</td>\n",
       "      <td>...</td>\n",
       "      <td>...</td>\n",
       "      <td>...</td>\n",
       "      <td>...</td>\n",
       "      <td>...</td>\n",
       "      <td>...</td>\n",
       "      <td>...</td>\n",
       "      <td>...</td>\n",
       "      <td>...</td>\n",
       "      <td>...</td>\n",
       "      <td>...</td>\n",
       "      <td>...</td>\n",
       "      <td>...</td>\n",
       "      <td>...</td>\n",
       "      <td>...</td>\n",
       "      <td>...</td>\n",
       "      <td>...</td>\n",
       "    </tr>\n",
       "    <tr>\n",
       "      <th>104779</th>\n",
       "      <td>5.66</td>\n",
       "      <td>0.410000</td>\n",
       "      <td>0.43100</td>\n",
       "      <td>0.452000</td>\n",
       "      <td>0.473000</td>\n",
       "      <td>0.494000</td>\n",
       "      <td>0.51400</td>\n",
       "      <td>0.5350</td>\n",
       "      <td>0.556000</td>\n",
       "      <td>0.501000</td>\n",
       "      <td>...</td>\n",
       "      <td>0.226000</td>\n",
       "      <td>0.251000</td>\n",
       "      <td>0.170000</td>\n",
       "      <td>0.221000</td>\n",
       "      <td>0.556000</td>\n",
       "      <td>0.501000</td>\n",
       "      <td>0.446000</td>\n",
       "      <td>0.391000</td>\n",
       "      <td>0.336000</td>\n",
       "      <td>0.348</td>\n",
       "    </tr>\n",
       "    <tr>\n",
       "      <th>104780</th>\n",
       "      <td>5.20</td>\n",
       "      <td>0.400000</td>\n",
       "      <td>0.42100</td>\n",
       "      <td>0.442000</td>\n",
       "      <td>0.462000</td>\n",
       "      <td>0.483000</td>\n",
       "      <td>0.50400</td>\n",
       "      <td>0.5250</td>\n",
       "      <td>0.546000</td>\n",
       "      <td>0.529000</td>\n",
       "      <td>...</td>\n",
       "      <td>0.254000</td>\n",
       "      <td>0.301000</td>\n",
       "      <td>0.211000</td>\n",
       "      <td>0.190000</td>\n",
       "      <td>0.286000</td>\n",
       "      <td>0.529000</td>\n",
       "      <td>0.474000</td>\n",
       "      <td>0.419000</td>\n",
       "      <td>0.364000</td>\n",
       "      <td>0.338</td>\n",
       "    </tr>\n",
       "    <tr>\n",
       "      <th>104781</th>\n",
       "      <td>4.24</td>\n",
       "      <td>0.390000</td>\n",
       "      <td>0.41000</td>\n",
       "      <td>0.431000</td>\n",
       "      <td>0.452000</td>\n",
       "      <td>0.473000</td>\n",
       "      <td>0.49400</td>\n",
       "      <td>0.5140</td>\n",
       "      <td>0.535000</td>\n",
       "      <td>0.556000</td>\n",
       "      <td>...</td>\n",
       "      <td>0.281000</td>\n",
       "      <td>0.226000</td>\n",
       "      <td>0.251000</td>\n",
       "      <td>0.170000</td>\n",
       "      <td>0.221000</td>\n",
       "      <td>0.556000</td>\n",
       "      <td>0.501000</td>\n",
       "      <td>0.446000</td>\n",
       "      <td>0.391000</td>\n",
       "      <td>0.327</td>\n",
       "    </tr>\n",
       "    <tr>\n",
       "      <th>104782</th>\n",
       "      <td>3.13</td>\n",
       "      <td>0.379000</td>\n",
       "      <td>0.40000</td>\n",
       "      <td>0.421000</td>\n",
       "      <td>0.442000</td>\n",
       "      <td>0.462000</td>\n",
       "      <td>0.48300</td>\n",
       "      <td>0.5040</td>\n",
       "      <td>0.525000</td>\n",
       "      <td>0.546000</td>\n",
       "      <td>...</td>\n",
       "      <td>0.308000</td>\n",
       "      <td>0.254000</td>\n",
       "      <td>0.301000</td>\n",
       "      <td>0.211000</td>\n",
       "      <td>0.190000</td>\n",
       "      <td>0.286000</td>\n",
       "      <td>0.529000</td>\n",
       "      <td>0.474000</td>\n",
       "      <td>0.419000</td>\n",
       "      <td>0.317</td>\n",
       "    </tr>\n",
       "    <tr>\n",
       "      <th>104783</th>\n",
       "      <td>2.31</td>\n",
       "      <td>0.369000</td>\n",
       "      <td>0.39000</td>\n",
       "      <td>0.410000</td>\n",
       "      <td>0.431000</td>\n",
       "      <td>0.452000</td>\n",
       "      <td>0.47300</td>\n",
       "      <td>0.4940</td>\n",
       "      <td>0.514000</td>\n",
       "      <td>0.535000</td>\n",
       "      <td>...</td>\n",
       "      <td>0.336000</td>\n",
       "      <td>0.281000</td>\n",
       "      <td>0.226000</td>\n",
       "      <td>0.251000</td>\n",
       "      <td>0.170000</td>\n",
       "      <td>0.221000</td>\n",
       "      <td>0.556000</td>\n",
       "      <td>0.501000</td>\n",
       "      <td>0.446000</td>\n",
       "      <td>0.306</td>\n",
       "    </tr>\n",
       "  </tbody>\n",
       "</table>\n",
       "<p>46670 rows × 24 columns</p>\n",
       "</div>"
      ],
      "text/plain": [
       "          ws    wp1t-6   wp1t-8   wp1t-10   wp1t-12   wp1t-14  wp1t-16  \\\n",
       "4       2.93  0.249145  0.24914  0.249134  0.249127  0.249119  0.24911   \n",
       "5       2.96  0.249145  0.24914  0.249134  0.249127  0.249119  0.24911   \n",
       "6       2.81  0.249145  0.24914  0.249134  0.249127  0.249119  0.24911   \n",
       "7       2.73  0.249145  0.24914  0.249134  0.249127  0.249119  0.24911   \n",
       "8       2.87  0.249145  0.24914  0.249134  0.249127  0.249119  0.24911   \n",
       "...      ...       ...      ...       ...       ...       ...      ...   \n",
       "104779  5.66  0.410000  0.43100  0.452000  0.473000  0.494000  0.51400   \n",
       "104780  5.20  0.400000  0.42100  0.442000  0.462000  0.483000  0.50400   \n",
       "104781  4.24  0.390000  0.41000  0.431000  0.452000  0.473000  0.49400   \n",
       "104782  3.13  0.379000  0.40000  0.421000  0.442000  0.462000  0.48300   \n",
       "104783  2.31  0.369000  0.39000  0.410000  0.431000  0.452000  0.47300   \n",
       "\n",
       "        wp1t-18   wp1t-20   wp1t-22  ...   wp1t-32   wp1t-34   wp1t-36  \\\n",
       "4        0.2491  0.249089  0.249078  ...  0.249029  0.249026  0.249025   \n",
       "5        0.2491  0.249089  0.249078  ...  0.249029  0.249026  0.249025   \n",
       "6        0.2491  0.249089  0.249078  ...  0.249029  0.249026  0.249025   \n",
       "7        0.2491  0.249089  0.249078  ...  0.249029  0.249026  0.249025   \n",
       "8        0.2491  0.249089  0.249078  ...  0.249029  0.249026  0.249025   \n",
       "...         ...       ...       ...  ...       ...       ...       ...   \n",
       "104779   0.5350  0.556000  0.501000  ...  0.226000  0.251000  0.170000   \n",
       "104780   0.5250  0.546000  0.529000  ...  0.254000  0.301000  0.211000   \n",
       "104781   0.5140  0.535000  0.556000  ...  0.281000  0.226000  0.251000   \n",
       "104782   0.5040  0.525000  0.546000  ...  0.308000  0.254000  0.301000   \n",
       "104783   0.4940  0.514000  0.535000  ...  0.336000  0.281000  0.226000   \n",
       "\n",
       "         wp1t-38   wp1t-40   wp1t-42   wp1t-44   wp1t-46   wp1t-48    wp1  \n",
       "4       0.249024  0.249025  0.249028  0.249028  0.249015  0.249005  0.035  \n",
       "5       0.249024  0.249025  0.249028  0.249028  0.249015  0.249005  0.005  \n",
       "6       0.249024  0.249025  0.249028  0.249028  0.249015  0.249005  0.000  \n",
       "7       0.249024  0.249025  0.249028  0.249028  0.249015  0.249005  0.000  \n",
       "8       0.249024  0.249025  0.249028  0.249028  0.249015  0.249005  0.010  \n",
       "...          ...       ...       ...       ...       ...       ...    ...  \n",
       "104779  0.221000  0.556000  0.501000  0.446000  0.391000  0.336000  0.348  \n",
       "104780  0.190000  0.286000  0.529000  0.474000  0.419000  0.364000  0.338  \n",
       "104781  0.170000  0.221000  0.556000  0.501000  0.446000  0.391000  0.327  \n",
       "104782  0.211000  0.190000  0.286000  0.529000  0.474000  0.419000  0.317  \n",
       "104783  0.251000  0.170000  0.221000  0.556000  0.501000  0.446000  0.306  \n",
       "\n",
       "[46670 rows x 24 columns]"
      ]
     },
     "execution_count": 3,
     "metadata": {},
     "output_type": "execute_result"
    }
   ],
   "source": [
    "# Ver los 1ros registros\n",
    "data"
   ]
  },
  {
   "cell_type": "code",
   "execution_count": 4,
   "metadata": {},
   "outputs": [],
   "source": [
    "# Ver los 1ros registros\n",
    "#data_test2"
   ]
  },
  {
   "cell_type": "markdown",
   "metadata": {},
   "source": [
    "## Separar Datos de Entrenamiento (Train) y Test"
   ]
  },
  {
   "cell_type": "code",
   "execution_count": 5,
   "metadata": {},
   "outputs": [],
   "source": [
    "# Asignamos nuestra variable de entrada X para entrenamiento y las etiquetas Y.\n",
    "#filtered_data = data\n",
    "\n",
    "#data_train = data.sample(frac=1,random_state=200) \n",
    "#data_test = data.drop(data_train.index) \n",
    "\n",
    "# 75% train y 25% test\n",
    "#data = data_test2\n",
    "data_train, data_test = train_test_split(data, test_size=0.2, random_state=200)\n",
    "\n",
    "#data_train = data\n",
    "\n",
    "dataset_train = data_train.values\n",
    "x_train = dataset_train[:,0:23]\n",
    "y_train = dataset_train[:,23]\n",
    "\n",
    "\n",
    "dataset_test = data_test.values\n",
    "x_test = dataset_test[:,0:23]\n",
    "y_test = dataset_test[:,23]\n",
    "\n",
    "\n",
    "#dataX2 =  pd.DataFrame()\n",
    "#dataX2[\"ws\"] =data_train[\"ws\"]\n",
    "#dataX2[\"wd\"] =data_train[\"wd\"]\n",
    " \n",
    "#X_train = np.array(dataX2)\n",
    "#y_train = data_train['wp1'].values"
   ]
  },
  {
   "cell_type": "code",
   "execution_count": 7,
   "metadata": {},
   "outputs": [
    {
     "data": {
      "text/plain": [
       "array([3.54 , 0.195, 0.17 , 0.14 , 0.175, 0.095, 0.   , 0.   , 0.   ,\n",
       "       0.   , 0.241, 0.195, 0.17 , 0.14 , 0.175, 0.095, 0.   , 0.   ,\n",
       "       0.   , 0.   , 0.   , 0.456, 0.01 ])"
      ]
     },
     "execution_count": 7,
     "metadata": {},
     "output_type": "execute_result"
    }
   ],
   "source": [
    "x_train[0]"
   ]
  },
  {
   "cell_type": "code",
   "execution_count": 8,
   "metadata": {},
   "outputs": [
    {
     "data": {
      "text/plain": [
       "0.456"
      ]
     },
     "execution_count": 8,
     "metadata": {},
     "output_type": "execute_result"
    }
   ],
   "source": [
    "y_train[0]"
   ]
  },
  {
   "cell_type": "code",
   "execution_count": 9,
   "metadata": {},
   "outputs": [
    {
     "data": {
      "text/plain": [
       "array([[4.51e+00, 6.00e-02, 1.40e-01, ..., 0.00e+00, 5.00e-03, 3.00e-02],\n",
       "       [3.15e+00, 4.00e-02, 1.00e-01, ..., 4.50e-02, 8.00e-02, 5.00e-02],\n",
       "       [4.86e+00, 6.37e-01, 6.87e-01, ..., 1.30e-01, 3.71e-01, 3.86e-01],\n",
       "       ...,\n",
       "       [2.46e+00, 1.07e-01, 1.00e-01, ..., 4.00e-02, 1.00e-01, 2.50e-02],\n",
       "       [5.88e+00, 2.96e-01, 2.81e-01, ..., 1.00e-02, 3.00e-02, 2.26e-01],\n",
       "       [3.70e+00, 6.00e-02, 1.02e-01, ..., 2.71e-01, 4.06e-01, 4.36e-01]])"
      ]
     },
     "execution_count": 9,
     "metadata": {},
     "output_type": "execute_result"
    }
   ],
   "source": [
    "x_test"
   ]
  },
  {
   "cell_type": "code",
   "execution_count": 10,
   "metadata": {},
   "outputs": [
    {
     "data": {
      "text/plain": [
       "array([0.125, 0.085, 0.331, ..., 0.11 , 0.065, 0.256])"
      ]
     },
     "execution_count": 10,
     "metadata": {},
     "output_type": "execute_result"
    }
   ],
   "source": [
    "y_test"
   ]
  },
  {
   "cell_type": "markdown",
   "metadata": {},
   "source": [
    "## Crear Modelo, Entrenarlo y Predeccir"
   ]
  },
  {
   "cell_type": "code",
   "execution_count": 11,
   "metadata": {},
   "outputs": [],
   "source": [
    "# Creamos el objeto de Regresión Linear\n",
    "regr = linear_model.LinearRegression()\n",
    " \n",
    "# Entrenamos nuestro modelo\n",
    "regr.fit(x_train, y_train)\n",
    " \n",
    "# Hacemos las predicciones que en definitiva una línea (en este caso, al ser 2D)\n",
    "#y_pred = regr.predict(dataX2)\n",
    "y_pred_train = regr.predict(x_train)\n",
    "y_pred_test = regr.predict(x_test)"
   ]
  },
  {
   "cell_type": "code",
   "execution_count": 12,
   "metadata": {},
   "outputs": [],
   "source": [
    "##from sklearn.ensemble import GradientBoostingRegressor\n",
    "#gbr = GradientBoostingRegressor(loss=\"ls\", learning_rate=.05, n_estimators=250, max_depth=3, min_samples_leaf=25)\n",
    "#gbr.fit(x_train, y_train)\n",
    "#y_pred_test = gbr.predict(x_test)\n",
    "#r2_score(y_test, y_pred_test)"
   ]
  },
  {
   "cell_type": "code",
   "execution_count": 13,
   "metadata": {},
   "outputs": [
    {
     "data": {
      "text/plain": [
       "0.6635541715873456"
      ]
     },
     "execution_count": 13,
     "metadata": {},
     "output_type": "execute_result"
    }
   ],
   "source": [
    "import statsmodels.api as sm\n",
    "my_ols = sm.OLS(y_train,x_train).fit()\n",
    "y_pred_test = my_ols.predict(x_test)\n",
    "r2_score(y_test, y_pred_test)"
   ]
  },
  {
   "cell_type": "markdown",
   "metadata": {},
   "source": [
    "## Obtener Metricas del Modelo"
   ]
  },
  {
   "cell_type": "code",
   "execution_count": 14,
   "metadata": {},
   "outputs": [
    {
     "name": "stdout",
     "output_type": "stream",
     "text": [
      "Coefficients: \n",
      " [ 4.78616273e-02  3.90049482e-01 -2.32852837e-02 -7.91629104e-03\n",
      "  7.20663058e-03  1.58148760e-02 -5.25045195e-03  2.45421629e-02\n",
      "  3.17302260e-01  2.31869877e-02  2.28943712e-02 -1.14797209e-01\n",
      "  1.25773970e-02  2.54536754e-02  5.78380461e-03 -1.51784054e-02\n",
      " -8.04210792e-03 -2.66179090e-02 -1.05697456e-01 -1.79218329e-02\n",
      "  2.28082392e-04  7.47403261e-02  1.64570076e-02]\n",
      "Mean squared error Train: 0.02\n",
      "Mean squared error Test: 0.02\n",
      "Coefficient of determination Train (R^2): 0.68\n",
      "Coefficient of determination Test (R^2): 0.66\n",
      "mean_absolute_error train: 0.10\n",
      "mean_absolute_error test: 0.10\n"
     ]
    }
   ],
   "source": [
    "# Veamos los coeficienetes obtenidos, En nuestro caso, serán la Tangente\n",
    "print('Coefficients: \\n', regr.coef_)\n",
    "\n",
    "# Este es el valor donde corta el eje Y (en X=0)\n",
    "#print('Independent term: \\n', regr.intercept_)\n",
    "\n",
    "# Error Cuadrado Medio\n",
    "print(\"Mean squared error Train: %.2f\" % mean_squared_error(y_train, y_pred_train))\n",
    "print(\"Mean squared error Test: %.2f\" % mean_squared_error(y_test, y_pred_test))\n",
    "\n",
    "# Puntaje de Varianza. El mejor puntaje es un 1.0\n",
    "print('Coefficient of determination Train (R^2): %.2f' % r2_score(y_train, y_pred_train))\n",
    "#mean_absolute_error\n",
    "print('Coefficient of determination Test (R^2): %.2f' % r2_score(y_test, y_pred_test))\n",
    "print('mean_absolute_error train: %.2f' % mean_absolute_error(y_train, y_pred_train))\n",
    "print('mean_absolute_error test: %.2f' % mean_absolute_error(y_test, y_pred_test))"
   ]
  },
  {
   "cell_type": "markdown",
   "metadata": {},
   "source": [
    "## Graficar Resultados"
   ]
  },
  {
   "cell_type": "code",
   "execution_count": 17,
   "metadata": {},
   "outputs": [],
   "source": [
    "# Determinar rango de datos para graafica\n",
    "pred_test_plot = y_pred_test[2000:2050]\n",
    "y_test_plot = y_test[2000:2050]\n",
    "corr = np.corrcoef(y_test, y_pred_test)"
   ]
  },
  {
   "cell_type": "code",
   "execution_count": 18,
   "metadata": {},
   "outputs": [
    {
     "data": {
      "image/png": "[encoded data removed]",
      "text/plain": [
       "<Figure size 1080x576 with 1 Axes>"
      ]
     },
     "metadata": {},
     "output_type": "display_data"
    }
   ],
   "source": [
    "plt.plot(pred_test_plot, label =\"y predicción\")\n",
    "plt.plot(y_test_plot, label =\"y test\")\n",
    "#plt.plot(trainPredictPlot, label =\"train pred\" )\n",
    "plt.title(\"Regresión Líneal, correlacion pearson: %.2f\" % (corr[1][0] * 100))\n",
    "plt.ylabel(\"Energia Generada\")\n",
    "plt.xlabel(\"Nro de Observaciones\")\n",
    "plt.legend()\n",
    "plt.show()"
   ]
  },
  {
   "cell_type": "markdown",
   "metadata": {},
   "source": [
    "## Guarda Datos de Predicción"
   ]
  },
  {
   "cell_type": "code",
   "execution_count": 41,
   "metadata": {},
   "outputs": [],
   "source": [
    "df_pred = pd.DataFrame(data=pred_test_plot, columns=[\"pred\"])\n",
    "#df_pred\n",
    "df_pred.to_csv('/Users/manuelmoya/Documents/USACH/2019-1er/Tesis/1.Desarrollo/05.AnalisisDatos/Datos/pred_iter1_reglin.csv')"
   ]
  },
  {
   "cell_type": "code",
   "execution_count": null,
   "metadata": {},
   "outputs": [],
   "source": []
  }
 ],
 "metadata": {
  "kernelspec": {
   "display_name": "Python 3",
   "language": "python",
   "name": "python3"
  },
  "language_info": {
   "codemirror_mode": {
    "name": "ipython",
    "version": 3
   },
   "file_extension": ".py",
   "mimetype": "text/x-python",
   "name": "python",
   "nbconvert_exporter": "python",
   "pygments_lexer": "ipython3",
   "version": "3.6.8"
  }
 },
 "nbformat": 4,
 "nbformat_minor": 2
}
